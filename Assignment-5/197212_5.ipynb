{
  "cells": [
    {
      "cell_type": "markdown",
      "metadata": {
        "id": "7FAgjSEA3Xpp"
      },
      "source": [
        "**Assignment 5**\n",
        "\n",
        "**Name : Ramakrishna Reddy Are**\n",
        "\n",
        "**Roll No. : 197212**\n",
        "\n",
        "**Section : BTech III year CSE-B**\n",
        "\n",
        "**Date : 07-02-2022**"
      ]
    },
    {
      "cell_type": "markdown",
      "metadata": {
        "id": "uOaWoDuE38fL"
      },
      "source": [
        "**1. Linear Regression**"
      ]
    },
    {
      "cell_type": "markdown",
      "source": [
        "***Importing required libraries***"
      ],
      "metadata": {
        "id": "nFAiUhSMOxnC"
      }
    },
    {
      "cell_type": "code",
      "execution_count": 25,
      "metadata": {
        "id": "TAfIigmq4BJh"
      },
      "outputs": [],
      "source": [
        "import numpy as np                            # importing numpy as np\n",
        "import pandas as pd                           # importing pandas as pd\n",
        "import matplotlib.pyplot as plt               # importing matplotlib.pyplot as plt"
      ]
    },
    {
      "cell_type": "markdown",
      "metadata": {
        "id": "s77ixOaa5E21"
      },
      "source": [
        "***Importing the dataset***\n",
        "[Salary_Data.csv](https://www.kaggle.com/karthickveerakumar/salary-data-simple-linear-regression)"
      ]
    },
    {
      "cell_type": "code",
      "execution_count": 26,
      "metadata": {
        "id": "ZzkBez8I5mXe"
      },
      "outputs": [],
      "source": [
        "dataset=pd.read_csv(\"Salary_Data.csv\")        # loading dataset dynamically into dataset"
      ]
    },
    {
      "cell_type": "code",
      "execution_count": 27,
      "metadata": {
        "colab": {
          "base_uri": "https://localhost:8080/"
        },
        "id": "zL-Ee8wo6KW9",
        "outputId": "ff551bc5-59b0-4afc-85e3-faa0f183e83c"
      },
      "outputs": [
        {
          "output_type": "stream",
          "name": "stdout",
          "text": [
            "   YearsExperience   Salary\n",
            "0              1.1  39343.0\n",
            "1              1.3  46205.0\n",
            "2              1.5  37731.0\n",
            "3              2.0  43525.0\n",
            "4              2.2  39891.0\n"
          ]
        }
      ],
      "source": [
        "print(dataset.head(5))                        # printing the top 5 rows of dataset"
      ]
    },
    {
      "cell_type": "markdown",
      "source": [
        "***Assigning the values to independent variable and dependent variable***"
      ],
      "metadata": {
        "id": "WZ4tB5o9L8cO"
      }
    },
    {
      "cell_type": "code",
      "execution_count": 28,
      "metadata": {
        "colab": {
          "base_uri": "https://localhost:8080/"
        },
        "id": "c_2Gruo46XJJ",
        "outputId": "b6eb406d-a6e5-4382-a715-79ddd2014a89"
      },
      "outputs": [
        {
          "output_type": "stream",
          "name": "stdout",
          "text": [
            "    YearsExperience\n",
            "0               1.1\n",
            "1               1.3\n",
            "2               1.5\n",
            "3               2.0\n",
            "4               2.2\n",
            "5               2.9\n",
            "6               3.0\n",
            "7               3.2\n",
            "8               3.2\n",
            "9               3.7\n",
            "10              3.9\n",
            "11              4.0\n",
            "12              4.0\n",
            "13              4.1\n",
            "14              4.5\n",
            "15              4.9\n",
            "16              5.1\n",
            "17              5.3\n",
            "18              5.9\n",
            "19              6.0\n",
            "20              6.8\n",
            "21              7.1\n",
            "22              7.9\n",
            "23              8.2\n",
            "24              8.7\n",
            "25              9.0\n",
            "26              9.5\n",
            "27              9.6\n",
            "28             10.3\n",
            "29             10.5\n",
            "0      39343.0\n",
            "1      46205.0\n",
            "2      37731.0\n",
            "3      43525.0\n",
            "4      39891.0\n",
            "5      56642.0\n",
            "6      60150.0\n",
            "7      54445.0\n",
            "8      64445.0\n",
            "9      57189.0\n",
            "10     63218.0\n",
            "11     55794.0\n",
            "12     56957.0\n",
            "13     57081.0\n",
            "14     61111.0\n",
            "15     67938.0\n",
            "16     66029.0\n",
            "17     83088.0\n",
            "18     81363.0\n",
            "19     93940.0\n",
            "20     91738.0\n",
            "21     98273.0\n",
            "22    101302.0\n",
            "23    113812.0\n",
            "24    109431.0\n",
            "25    105582.0\n",
            "26    116969.0\n",
            "27    112635.0\n",
            "28    122391.0\n",
            "29    121872.0\n",
            "Name: Salary, dtype: float64\n"
          ]
        }
      ],
      "source": [
        "# preparing the dataset in required format\n",
        "X = dataset.iloc[:,:-1]                       # assigning value to independent variable ie., all columns except last column\n",
        "Y = dataset.iloc[:,-1]                        # assigning value to dependent variable ie., last column\n",
        "print(X)                                      # printing the independent variable\n",
        "print(Y)                                      # printing the dependent variable"
      ]
    },
    {
      "cell_type": "markdown",
      "source": [
        "***Splitting the dataset***"
      ],
      "metadata": {
        "id": "3P5xuU1dMLUy"
      }
    },
    {
      "cell_type": "code",
      "execution_count": 29,
      "metadata": {
        "id": "TsktdSf87yCS"
      },
      "outputs": [],
      "source": [
        "# splitting the dataset\n",
        "from sklearn.model_selection import train_test_split                                    # importing module for splitting the dataset\n",
        "X_train,X_test,Y_train,Y_test = train_test_split(X,Y,test_size=0.2,random_state=0)      # splitting the dataset into training data and testing data"
      ]
    },
    {
      "cell_type": "code",
      "execution_count": 30,
      "metadata": {
        "colab": {
          "base_uri": "https://localhost:8080/"
        },
        "id": "q1PmQ0kpAHe0",
        "outputId": "473e661b-dfcc-4743-b818-b3cff56bb38d"
      },
      "outputs": [
        {
          "output_type": "stream",
          "name": "stdout",
          "text": [
            "    YearsExperience\n",
            "27              9.6\n",
            "11              4.0\n",
            "17              5.3\n",
            "22              7.9\n",
            "5               2.9\n",
            "16              5.1\n",
            "8               3.2\n",
            "14              4.5\n",
            "23              8.2\n",
            "20              6.8\n",
            "1               1.3\n",
            "29             10.5\n",
            "6               3.0\n",
            "4               2.2\n",
            "18              5.9\n",
            "19              6.0\n",
            "9               3.7\n",
            "7               3.2\n",
            "25              9.0\n",
            "3               2.0\n",
            "0               1.1\n",
            "21              7.1\n",
            "15              4.9\n",
            "12              4.0\n",
            "27    112635.0\n",
            "11     55794.0\n",
            "17     83088.0\n",
            "22    101302.0\n",
            "5      56642.0\n",
            "16     66029.0\n",
            "8      64445.0\n",
            "14     61111.0\n",
            "23    113812.0\n",
            "20     91738.0\n",
            "1      46205.0\n",
            "29    121872.0\n",
            "6      60150.0\n",
            "4      39891.0\n",
            "18     81363.0\n",
            "19     93940.0\n",
            "9      57189.0\n",
            "7      54445.0\n",
            "25    105582.0\n",
            "3      43525.0\n",
            "0      39343.0\n",
            "21     98273.0\n",
            "15     67938.0\n",
            "12     56957.0\n",
            "Name: Salary, dtype: float64\n"
          ]
        }
      ],
      "source": [
        "# printing train dataset\n",
        "print(X_train)                                                                  # printing X_train\n",
        "print(Y_train)                                                                  # printing Y_train"
      ]
    },
    {
      "cell_type": "code",
      "execution_count": 31,
      "metadata": {
        "colab": {
          "base_uri": "https://localhost:8080/"
        },
        "id": "KSHaJriyAIQi",
        "outputId": "52ffa077-4bec-41af-a6ec-c3fd2d4d082a"
      },
      "outputs": [
        {
          "output_type": "stream",
          "name": "stdout",
          "text": [
            "    YearsExperience\n",
            "2               1.5\n",
            "28             10.3\n",
            "13              4.1\n",
            "10              3.9\n",
            "26              9.5\n",
            "24              8.7\n",
            "2      37731.0\n",
            "28    122391.0\n",
            "13     57081.0\n",
            "10     63218.0\n",
            "26    116969.0\n",
            "24    109431.0\n",
            "Name: Salary, dtype: float64\n"
          ]
        }
      ],
      "source": [
        "# printing test dataset\n",
        "print(X_test)                                                                   # printing X_test\n",
        "print(Y_test)                                                                   # printing Y_test"
      ]
    },
    {
      "cell_type": "markdown",
      "source": [
        "***Plotting train dataset***"
      ],
      "metadata": {
        "id": "JB3a29zZMdZi"
      }
    },
    {
      "cell_type": "code",
      "execution_count": 32,
      "metadata": {
        "colab": {
          "base_uri": "https://localhost:8080/",
          "height": 295
        },
        "id": "i7K1RUzo__Kx",
        "outputId": "d6d8161b-fb07-4205-b1b3-87431044fdb6"
      },
      "outputs": [
        {
          "output_type": "display_data",
          "data": {
            "image/png": "[encoded data removed]",
            "text/plain": [
              "<Figure size 432x288 with 1 Axes>"
            ]
          },
          "metadata": {
            "needs_background": "light"
          }
        }
      ],
      "source": [
        "plt.scatter(X_train,Y_train,color='red')                                        # plotting graph of training dataset of scatter points color = red\n",
        "plt.title('Salary vs Experience (Training set)')                                # giving the title to the graph\n",
        "plt.xlabel('Years of Experience')                                               # labelling the x-coordinate of graph\n",
        "plt.ylabel('Salary')                                                            # labelling the y-coordinate of graph\n",
        "plt.show()                                                                      # plotting the graph"
      ]
    },
    {
      "cell_type": "markdown",
      "source": [
        "***Building the model using training data using Scikit learn library which contains a linear regression model***"
      ],
      "metadata": {
        "id": "DfFGSAohMmJb"
      }
    },
    {
      "cell_type": "code",
      "execution_count": 33,
      "metadata": {
        "colab": {
          "base_uri": "https://localhost:8080/"
        },
        "id": "4QNcPxQN8wpK",
        "outputId": "cde6e879-87da-43ae-9276-0c93d9b94fd6"
      },
      "outputs": [
        {
          "output_type": "execute_result",
          "data": {
            "text/plain": [
              "LinearRegression()"
            ]
          },
          "metadata": {},
          "execution_count": 33
        }
      ],
      "source": [
        "from sklearn.linear_model import LinearRegression                               # importing Linear Regression Module\n",
        "regression_model = LinearRegression()                                           # declaring an instance for LinearRegression()\n",
        "regression_model.fit(X_train,Y_train)                                           # fitting the best fit of linear regression to the dataset"
      ]
    },
    {
      "cell_type": "markdown",
      "source": [
        "***Finding parameters (Slope an Intercept) of the regression***"
      ],
      "metadata": {
        "id": "aJxku96zNDGM"
      }
    },
    {
      "cell_type": "code",
      "execution_count": 34,
      "metadata": {
        "colab": {
          "base_uri": "https://localhost:8080/"
        },
        "id": "jGiNW-zmAZNY",
        "outputId": "0248a7cb-0c0a-4a2f-8d32-8354dc962422"
      },
      "outputs": [
        {
          "output_type": "stream",
          "name": "stdout",
          "text": [
            "Slope :  [9312.57512673]\n",
            "Intercept :  26780.09915062818\n"
          ]
        }
      ],
      "source": [
        "slope = regression_model.coef_                                                  # finding the slope of Linear Regression\n",
        "intercept = regression_model.intercept_                                         # finding the intercept of Linear Regression\n",
        "print(\"Slope : \",slope)                                                         # printing slope of Linear Regression\n",
        "print(\"Intercept : \",intercept)                                                 # printing intercept of Linear Regression"
      ]
    },
    {
      "cell_type": "markdown",
      "source": [
        "***Plotting the graph of scatter points and regression line on training dataset***\n"
      ],
      "metadata": {
        "id": "mib2F51gNdFb"
      }
    },
    {
      "cell_type": "code",
      "execution_count": 35,
      "metadata": {
        "colab": {
          "base_uri": "https://localhost:8080/",
          "height": 295
        },
        "id": "oRFTpBxiAfaL",
        "outputId": "cde0bfb4-b8ec-4cda-a6f5-86d81f224246"
      },
      "outputs": [
        {
          "output_type": "display_data",
          "data": {
            "image/png": "[encoded data removed]",
            "text/plain": [
              "<Figure size 432x288 with 1 Axes>"
            ]
          },
          "metadata": {
            "needs_background": "light"
          }
        }
      ],
      "source": [
        "plt.scatter(X_train, Y_train, color = 'red')                                    # plotting graph of training dataset of scatter points color = red\n",
        "plt.plot(X_train, regression_model.predict(X_train), color = 'green')           # plotting the regression line after predicting the training data\n",
        "plt.title('Salary vs Experience (Training set)')                                # giving the title to the graph\n",
        "plt.xlabel('Years of Experience')                                               # labelling the x-coordinate of graph\n",
        "plt.ylabel('Salary')                                                            # labelling the y-coordinate of graph\n",
        "plt.show()                                                                      # plotting the graph"
      ]
    },
    {
      "cell_type": "markdown",
      "source": [
        "***Plotting the graph of scatter points and regression line on testing dataset***\n"
      ],
      "metadata": {
        "id": "vZxfUs3jN26E"
      }
    },
    {
      "cell_type": "code",
      "execution_count": 36,
      "metadata": {
        "colab": {
          "base_uri": "https://localhost:8080/",
          "height": 295
        },
        "id": "oacxzA7QAiAO",
        "outputId": "cd63424c-6582-41c5-fa5e-483c76eafbdc"
      },
      "outputs": [
        {
          "output_type": "display_data",
          "data": {
            "image/png": "[encoded data removed]",
            "text/plain": [
              "<Figure size 432x288 with 1 Axes>"
            ]
          },
          "metadata": {
            "needs_background": "light"
          }
        }
      ],
      "source": [
        "plt.scatter(X_test, Y_test, color = 'red')                                      # plotting graph of testing dataset of scatter points color = red\n",
        "plt.plot(X_test, regression_model.predict(X_test), color = 'green')             # plotting the regression line after predicting the testing data\n",
        "plt.title('Salary vs Experience (Testing set)')                                 # giving the title to the graph\n",
        "plt.xlabel('Years of Experience')                                               # labelling the x-coordinate of graph\n",
        "plt.ylabel('Salary')                                                            # labelling the y-coordinate of graph\n",
        "plt.show()                                                                      # plotting the graph"
      ]
    },
    {
      "cell_type": "markdown",
      "source": [
        "***Predicting the values of testing data***"
      ],
      "metadata": {
        "id": "fSBF2HHqOBvm"
      }
    },
    {
      "cell_type": "code",
      "execution_count": 37,
      "metadata": {
        "colab": {
          "base_uri": "https://localhost:8080/"
        },
        "id": "INbnuI3cAmOF",
        "outputId": "4a2c366b-6730-402c-b4c6-a6e8dd1d1a3d"
      },
      "outputs": [
        {
          "output_type": "stream",
          "name": "stdout",
          "text": [
            "    Test Data  Predicted Test Data\n",
            "2     37731.0         40748.961841\n",
            "28   122391.0        122699.622956\n",
            "13    57081.0         64961.657170\n",
            "10    63218.0         63099.142145\n",
            "26   116969.0        115249.562855\n",
            "24   109431.0        107799.502753\n"
          ]
        }
      ],
      "source": [
        "Y_predicted = regression_model.predict(X_test)                                  # predicting the values of test data\n",
        "print(pd.DataFrame({\"Test Data\":Y_test,\"Predicted Test Data\":Y_predicted}))     # printing test data along with predicted test data"
      ]
    },
    {
      "cell_type": "markdown",
      "source": [
        "***Calculating the error / accuracy of the model using Scikit learn***"
      ],
      "metadata": {
        "id": "ol0OCm8COPTF"
      }
    },
    {
      "cell_type": "code",
      "execution_count": 38,
      "metadata": {
        "colab": {
          "base_uri": "https://localhost:8080/"
        },
        "id": "SvA1nFV87W9v",
        "outputId": "3d15a073-2e96-47f1-d626-0c7f27003706"
      },
      "outputs": [
        {
          "output_type": "stream",
          "name": "stdout",
          "text": [
            "Mean Absolute Error :  2446.1723690465055\n",
            "Mean Square Error :  12823412.298126549\n",
            "Root Mean Square Error :  3580.979237321343\n"
          ]
        }
      ],
      "source": [
        "from sklearn.metrics import mean_absolute_error                                       # import to calculate absolute error  \n",
        "from sklearn.metrics import mean_squared_error                                        # import to calculate mean square error\n",
        "print(\"Mean Absolute Error : \",mean_absolute_error(Y_test,Y_predicted))               # calculating absolute error\n",
        "print(\"Mean Square Error : \",mean_squared_error(Y_test,Y_predicted))                  # calculating mean square error\n",
        "print(\"Root Mean Square Error : \",np.sqrt(mean_squared_error(Y_test,Y_predicted)))    # calculating root mean square error"
      ]
    },
    {
      "cell_type": "markdown",
      "source": [
        "\n",
        "\n",
        "---\n",
        "\n"
      ],
      "metadata": {
        "id": "JYlZKTK7Olmw"
      }
    },
    {
      "cell_type": "markdown",
      "metadata": {
        "id": "j1P2VP3vsKkR"
      },
      "source": [
        "**2. Logistic Regression**"
      ]
    },
    {
      "cell_type": "markdown",
      "source": [
        "***Importing required libraries***"
      ],
      "metadata": {
        "id": "B4Kp64PiOp3t"
      }
    },
    {
      "cell_type": "code",
      "execution_count": 39,
      "metadata": {
        "id": "jI-SUbiNsSjx"
      },
      "outputs": [],
      "source": [
        "import numpy as np                            # importing numpy as np\n",
        "import pandas as pd                           # importing pandas as pd\n",
        "import matplotlib.pyplot as plt               # importing matplotlib.pyplot as plt"
      ]
    },
    {
      "cell_type": "markdown",
      "source": [
        "***Importing the dataset***\n",
        "[heart.csv](https://www.kaggle.com/ronitf/heart-disease-uci?select=heart.csv)"
      ],
      "metadata": {
        "id": "tW7DbLw4PCey"
      }
    },
    {
      "cell_type": "code",
      "execution_count": 40,
      "metadata": {
        "id": "LLGujw9FsU9X"
      },
      "outputs": [],
      "source": [
        "dataset=pd.read_csv(\"heart.csv\")              # loading dataset dynamically into dataset"
      ]
    },
    {
      "cell_type": "code",
      "execution_count": 41,
      "metadata": {
        "colab": {
          "base_uri": "https://localhost:8080/"
        },
        "id": "wS4EDRaOsVAG",
        "outputId": "cf1d4302-fbba-4fe8-f578-1f8369e288eb"
      },
      "outputs": [
        {
          "output_type": "stream",
          "name": "stdout",
          "text": [
            "   age  sex  cp  trestbps  chol  fbs  ...  exang  oldpeak  slope  ca  thal  target\n",
            "0   63    1   3       145   233    1  ...      0      2.3      0   0     1       1\n",
            "1   37    1   2       130   250    0  ...      0      3.5      0   0     2       1\n",
            "2   41    0   1       130   204    0  ...      0      1.4      2   0     2       1\n",
            "3   56    1   1       120   236    0  ...      0      0.8      2   0     2       1\n",
            "4   57    0   0       120   354    0  ...      1      0.6      2   0     2       1\n",
            "\n",
            "[5 rows x 14 columns]\n"
          ]
        }
      ],
      "source": [
        "print(dataset.head(5))                        # printing the top 5 rows of dataset"
      ]
    },
    {
      "cell_type": "markdown",
      "source": [
        "***Assigning the values to independent variable and dependent variable***"
      ],
      "metadata": {
        "id": "ilRyoZ6hPdqu"
      }
    },
    {
      "cell_type": "code",
      "execution_count": 42,
      "metadata": {
        "colab": {
          "base_uri": "https://localhost:8080/"
        },
        "id": "Wm0M6NDCswPc",
        "outputId": "716c82d7-65b5-4b44-9ffd-1603ff98a350"
      },
      "outputs": [
        {
          "output_type": "stream",
          "name": "stdout",
          "text": [
            "     age  sex  cp  trestbps  chol  ...  exang  oldpeak  slope  ca  thal\n",
            "0     63    1   3       145   233  ...      0      2.3      0   0     1\n",
            "1     37    1   2       130   250  ...      0      3.5      0   0     2\n",
            "2     41    0   1       130   204  ...      0      1.4      2   0     2\n",
            "3     56    1   1       120   236  ...      0      0.8      2   0     2\n",
            "4     57    0   0       120   354  ...      1      0.6      2   0     2\n",
            "..   ...  ...  ..       ...   ...  ...    ...      ...    ...  ..   ...\n",
            "298   57    0   0       140   241  ...      1      0.2      1   0     3\n",
            "299   45    1   3       110   264  ...      0      1.2      1   0     3\n",
            "300   68    1   0       144   193  ...      0      3.4      1   2     3\n",
            "301   57    1   0       130   131  ...      1      1.2      1   1     3\n",
            "302   57    0   1       130   236  ...      0      0.0      1   1     2\n",
            "\n",
            "[303 rows x 13 columns]\n",
            "0      1\n",
            "1      1\n",
            "2      1\n",
            "3      1\n",
            "4      1\n",
            "      ..\n",
            "298    0\n",
            "299    0\n",
            "300    0\n",
            "301    0\n",
            "302    0\n",
            "Name: target, Length: 303, dtype: int64\n"
          ]
        }
      ],
      "source": [
        "# preparing the dataset in required format\n",
        "X = dataset.iloc[:,:-1]                       # assigning value to independent variable ie., all columns except last column\n",
        "Y = dataset.iloc[:,-1]                        # assigning value to dependent variable ie., last column\n",
        "print(X)                                      # printing the independent variable\n",
        "print(Y)                                      # printing the dependent variable"
      ]
    },
    {
      "cell_type": "markdown",
      "source": [
        "***Separating the dataset into train and test data as 80% and 20% respectively.***"
      ],
      "metadata": {
        "id": "-O9Kepu-PnXG"
      }
    },
    {
      "cell_type": "code",
      "execution_count": 43,
      "metadata": {
        "colab": {
          "base_uri": "https://localhost:8080/"
        },
        "id": "k6jdJdlHs7aO",
        "outputId": "2c21e988-540c-4bf3-9dee-c373b786f824"
      },
      "outputs": [
        {
          "output_type": "stream",
          "name": "stdout",
          "text": [
            "X Train\n",
            "      age  sex  cp  trestbps  chol  ...  exang  oldpeak  slope  ca  thal\n",
            "225   70    1   0       145   174  ...      1      2.6      0   0     3\n",
            "152   64    1   3       170   227  ...      0      0.6      1   0     3\n",
            "228   59    1   3       170   288  ...      0      0.2      1   0     3\n",
            "201   60    1   0       125   258  ...      1      2.8      1   1     3\n",
            "52    62    1   2       130   231  ...      0      1.8      1   3     3\n",
            "..   ...  ...  ..       ...   ...  ...    ...      ...    ...  ..   ...\n",
            "82    60    0   2       102   318  ...      0      0.0      2   1     2\n",
            "285   46    1   0       140   311  ...      1      1.8      1   2     3\n",
            "11    48    0   2       130   275  ...      0      0.2      2   0     2\n",
            "119   46    0   0       138   243  ...      1      0.0      1   0     2\n",
            "102   63    0   1       140   195  ...      0      0.0      2   2     2\n",
            "\n",
            "[242 rows x 13 columns]\n",
            "Y Train\n",
            " 225    0\n",
            "152    1\n",
            "228    0\n",
            "201    0\n",
            "52     1\n",
            "      ..\n",
            "82     1\n",
            "285    0\n",
            "11     1\n",
            "119    1\n",
            "102    1\n",
            "Name: target, Length: 242, dtype: int64\n",
            "X test\n",
            "      age  sex  cp  trestbps  chol  ...  exang  oldpeak  slope  ca  thal\n",
            "1     37    1   2       130   250  ...      0      3.5      0   0     2\n",
            "9     57    1   2       150   168  ...      0      1.6      2   0     2\n",
            "17    66    0   3       150   226  ...      0      2.6      0   0     2\n",
            "25    71    0   1       160   302  ...      0      0.4      2   2     2\n",
            "28    65    0   2       140   417  ...      0      0.8      2   1     2\n",
            "..   ...  ...  ..       ...   ...  ...    ...      ...    ...  ..   ...\n",
            "278   58    0   1       136   319  ...      0      0.0      2   2     2\n",
            "280   42    1   0       136   315  ...      1      1.8      1   0     1\n",
            "289   55    0   0       128   205  ...      1      2.0      1   1     3\n",
            "291   58    1   0       114   318  ...      0      4.4      0   3     1\n",
            "292   58    0   0       170   225  ...      1      2.8      1   2     1\n",
            "\n",
            "[61 rows x 13 columns]\n",
            "Y test\n",
            " 1      1\n",
            "9      1\n",
            "17     1\n",
            "25     1\n",
            "28     1\n",
            "      ..\n",
            "278    0\n",
            "280    0\n",
            "289    0\n",
            "291    0\n",
            "292    0\n",
            "Name: target, Length: 61, dtype: int64\n"
          ]
        }
      ],
      "source": [
        "X_train=X.sample(frac=0.8,random_state=0)                       # sampling the data with fraction of 0.8 for training\n",
        "X_test=X.drop(X_train.index)                                    # dropping the data present in training data\n",
        "Y_train=Y[X_train.index]                                        # assigning Y value for the training data with respective indexes of X\n",
        "Y_test=Y[X_test.index]                                          # assigning Y value for the testing data with respective indexes of X\n",
        "print(\"X Train\\n\",X_train)                                      # printing X Train\n",
        "print(\"Y Train\\n\",Y_train)                                      # printing Y Train\n",
        "print(\"X test\\n\",X_test)                                        # printing X Test\n",
        "print(\"Y test\\n\",Y_test)                                        # printing Y Test"
      ]
    },
    {
      "cell_type": "markdown",
      "source": [
        "***Scaling the dataset [Standardization of the data]***"
      ],
      "metadata": {
        "id": "ZAQKJVa5P58c"
      }
    },
    {
      "cell_type": "code",
      "execution_count": 44,
      "metadata": {
        "colab": {
          "base_uri": "https://localhost:8080/"
        },
        "id": "XCJKMYyktor3",
        "outputId": "63e2576b-8e9a-4bf0-ea05-f5bbb367bb77"
      },
      "outputs": [
        {
          "output_type": "stream",
          "name": "stdout",
          "text": [
            "          age       sex        cp  trestbps  ...   oldpeak     slope        ca  thal\n",
            "225  1.786054  0.676632 -0.934899  0.785572  ...  1.387097 -2.334593 -0.697381     3\n",
            "152  1.110878  0.676632  1.978134  2.229286  ... -0.337421 -0.682630 -0.697381     3\n",
            "228  0.548232  0.676632  1.978134  2.229286  ... -0.682325 -0.682630 -0.697381     3\n",
            "201  0.660761  0.676632 -0.934899 -0.369400  ...  1.559548 -0.682630  0.319283     3\n",
            "52   0.885820  0.676632  1.007123 -0.080657  ...  0.697290 -0.682630  2.352609     3\n",
            "..        ...       ...       ...       ...  ...       ...       ...       ...   ...\n",
            "82   0.660761 -1.477907  1.007123 -1.697617  ... -0.854776  0.969334  0.319283     2\n",
            "285 -0.914649  0.676632 -0.934899  0.496829  ...  0.697290 -0.682630  1.335946     3\n",
            "11  -0.689591 -1.477907  1.007123 -0.080657  ... -0.682325  0.969334 -0.697381     2\n",
            "119 -0.914649 -1.477907 -0.934899  0.381332  ... -0.854776 -0.682630 -0.697381     2\n",
            "102  0.998349 -1.477907  0.036112  0.496829  ... -0.854776  0.969334  1.335946     2\n",
            "\n",
            "[242 rows x 13 columns]\n",
            "          age       sex        cp  trestbps  ...   oldpeak     slope        ca  thal\n",
            "1   -1.889165  0.698430  0.984747 -0.138517  ...  1.995828 -2.068176 -0.790243     2\n",
            "9    0.174202  0.698430  0.984747  0.958822  ...  0.324466  1.008867 -0.790243     2\n",
            "17   1.102718 -1.431782  1.953612  0.958822  ...  1.204130 -2.068176 -0.790243     2\n",
            "25   1.618560 -1.431782  0.015883  1.507492  ... -0.731131  1.008867  0.962660     2\n",
            "28   0.999549 -1.431782  0.984747  0.410153  ... -0.379265  1.008867  0.086208     2\n",
            "..        ...       ...       ...       ...  ...       ...       ...       ...   ...\n",
            "278  0.277371 -1.431782  0.015883  0.190685  ... -1.082996  1.008867  0.962660     2\n",
            "280 -1.373323  0.698430 -0.952981  0.190685  ...  0.500399 -0.529655 -0.790243     1\n",
            "289 -0.032134 -1.431782 -0.952981 -0.248250  ...  0.676332 -0.529655  0.086208     3\n",
            "291  0.277371  0.698430 -0.952981 -1.016388  ...  2.787526 -2.068176  1.839111     1\n",
            "292  0.277371 -1.431782 -0.952981  2.056161  ...  1.380063 -0.529655  0.962660     1\n",
            "\n",
            "[61 rows x 13 columns]\n"
          ]
        }
      ],
      "source": [
        "def standardize(X):\n",
        "  m=X.shape[0]\n",
        "  n=X.shape[1]\n",
        "  k=0\n",
        "  for i in X.columns[:-1]:\n",
        "    mean=0                                                        # for mean of each column\n",
        "    sd=0                                                          # for standard deviation of each column\n",
        "    mean = np.mean(X[i])                                          # finding mean of each column\n",
        "    sd = np.sum((X[i]-mean)**2)                          \n",
        "    sd=sd/(m)\n",
        "    sd = np.sqrt(sd)                                              # finding standard deviation of each column\n",
        "    for j in range(m):\n",
        "      cell=X.iat[j,k]\n",
        "      X.iat[j,k]=(cell-mean)/sd                                   # replacing the data in the dataset with standardized value\n",
        "    k+=1\n",
        "  return X\n",
        "X_train=standardize(X_train)                                      # Standardizing X_train\n",
        "X_test=standardize(X_test)                                        # Standardizing X_test\n",
        "print(X_train)                                                    # printing X_train\n",
        "print(X_test)                                                     # printing X_test"
      ]
    },
    {
      "cell_type": "markdown",
      "source": [
        "***Implementing Gradient Descent Algorithm***"
      ],
      "metadata": {
        "id": "Ad5La__mQB4B"
      }
    },
    {
      "cell_type": "code",
      "execution_count": 45,
      "metadata": {
        "id": "mPO3qewuxEn5"
      },
      "outputs": [],
      "source": [
        "# Gradient Descent Algorithm\n",
        "def GradientDescent(X,Y,alpha,epochs):\n",
        "  X = np.c_[np.ones(len(X),dtype='float64'),X]          # adding extra column ie., for x0=1\n",
        "  theta = np.zeros(X.shape[1])                          # initializing all the coefficients with 0s   \n",
        "  m = (int)(len(X))                                     # size of the training data\n",
        "  for i in range(epochs):\n",
        "    pw = X.dot(theta)                                   # pw is theta times independent variable\n",
        "    h = 1/(1+np.exp(-pw))                               # h is the expected value\n",
        "    pdtheta = X.T.dot(h-Y)                              # value of partial derivative wrt theta                                  \n",
        "    theta = theta - alpha*pdtheta/m                     # updating the value of theta at every iteration\n",
        "  return theta                                          # returning the coefficients of xi"
      ]
    },
    {
      "cell_type": "markdown",
      "source": [
        "***Training the model***"
      ],
      "metadata": {
        "id": "S8BWa7MOQNQM"
      }
    },
    {
      "cell_type": "code",
      "execution_count": 46,
      "metadata": {
        "colab": {
          "base_uri": "https://localhost:8080/"
        },
        "id": "fTFSMw2_z83y",
        "outputId": "844b3ef7-594c-4f30-ce21-5a76ab657678"
      },
      "outputs": [
        {
          "output_type": "stream",
          "name": "stdout",
          "text": [
            "[1 1 1 1 1 1 1 1 1 1 1 1 1 1 1 1 1 1 1 1 1 1 1 1 1 1 1 1 1 1 1 0 0 0 0 0 0\n",
            " 0 0 0 0 0 0 0 0 0 0 0 0 0 0 0 0 0 0 0 0 0 0 0 0]\n",
            "[1 1 1 1 1 1 1 1 1 1 0 1 1 1 1 1 1 1 1 1 1 1 1 1 0 1 1 1 1 1 1 0 0 1 0 1 0\n",
            " 1 0 0 0 0 0 0 0 0 0 0 0 0 0 0 0 0 1 1 1 0 0 0 0]\n"
          ]
        }
      ],
      "source": [
        "theta=GradientDescent(X_train,Y_train,0.01,1000)                                # calling Gradient Descent function and finding the values of theta\n",
        "def predict(X,theta):                                                           # function used to predict the value\n",
        "  X=np.c_[np.ones(len(X),dtype='float64'),X]                                    # adding extra column for X0\n",
        "  pw=X.dot(theta)                                                               # pw is theta times independent variable\n",
        "  h=1/(1+np.exp(-pw))                                                           # h is the expected value\n",
        "  h[h>=0.5]=1                                                                   # if h>=0.5 then the predicted value is 1\n",
        "  h[h<0.5]=0                                                                    # if h<0.5 then the predicted value is 0\n",
        "  h=np.asarray(h,dtype='int64')                                                 \n",
        "  return h                                                                      # returning the predicted values\n",
        "\n",
        "Y_pred=predict(X_test,theta)                                                    # finding the predicted values based on test data\n",
        "print(np.asarray(Y_test))                                                       # printing test data\n",
        "print(Y_pred)                                                                   # printing predicted test data"
      ]
    },
    {
      "cell_type": "markdown",
      "source": [
        "***Predicting the results***"
      ],
      "metadata": {
        "id": "WWiYkM8uQU5T"
      }
    },
    {
      "cell_type": "code",
      "execution_count": 47,
      "metadata": {
        "colab": {
          "base_uri": "https://localhost:8080/"
        },
        "id": "iHng-MBM4Gvr",
        "outputId": "10c0298a-716c-4812-fb12-2efc7201fd95"
      },
      "outputs": [
        {
          "output_type": "stream",
          "name": "stdout",
          "text": [
            "Correct Predictions :  53\n",
            "Incorrect Predictions :  8\n",
            "Percentage of correct prediction :  86.88524590163935\n"
          ]
        }
      ],
      "source": [
        "def comp(Y1,Y2):                                                                # function to check number of correct predictions\n",
        "  Y1=np.asarray(Y1,dtype='int64')                                               # assigning Y1 as an array\n",
        "  Y2=np.asarray(Y2,dtype='int64')                                               # assigning Y2 as an array\n",
        "  correct=0                                                                     # variable for checking no of correct predictions\n",
        "  incorrect=0                                                                   # variable for checking no of incorrect predictions\n",
        "  for i in range(len(Y1)):                                                      \n",
        "    if(Y1[i]==Y2[i]):                                                           # if prediction is correct then correct++\n",
        "      correct+=1                                                                \n",
        "    else:                                                                       # if prediction is incorrect then correct++\n",
        "      incorrect+=1\n",
        "  correctperc=(correct*100)/len(Y1)                                             # percentage of correct predictions among all\n",
        "  return [correct,incorrect,correctperc]                                        # returning no of correct predictions,no of incorrect predictions,percentage of correct predicitons\n",
        "correct,incorrect,perc=comp(Y_test,Y_pred)                                      # calling the function to evaluate the model\n",
        "print(\"Correct Predictions : \",correct)                                         \n",
        "print(\"Incorrect Predictions : \",incorrect)                                     \n",
        "print(\"Percentage of correct prediction : \",perc)                               "
      ]
    },
    {
      "cell_type": "markdown",
      "source": [
        "\n",
        "\n",
        "---\n",
        "\n"
      ],
      "metadata": {
        "id": "YQP88dblQrr9"
      }
    }
  ],
  "metadata": {
    "colab": {
      "collapsed_sections": [],
      "name": "197212_5",
      "provenance": []
    },
    "kernelspec": {
      "display_name": "Python 3",
      "name": "python3"
    },
    "language_info": {
      "name": "python"
    }
  },
  "nbformat": 4,
  "nbformat_minor": 0
}