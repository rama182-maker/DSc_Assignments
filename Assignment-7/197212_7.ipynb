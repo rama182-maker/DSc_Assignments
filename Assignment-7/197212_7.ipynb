{
  "nbformat": 4,
  "nbformat_minor": 0,
  "metadata": {
    "colab": {
      "name": "197212_7.ipynb",
      "provenance": [],
      "collapsed_sections": []
    },
    "kernelspec": {
      "name": "python3",
      "display_name": "Python 3"
    },
    "language_info": {
      "name": "python"
    }
  },
  "cells": [
    {
      "cell_type": "markdown",
      "source": [
        "**Assignment 7**\n",
        "\n",
        "**Name : Ramakrishna Reddy Are**\n",
        "\n",
        "**Roll No. : 197212**\n",
        "\n",
        "**Section : BTech III year CSE-B**\n",
        "\n",
        "**Date : 20-03-2022**"
      ],
      "metadata": {
        "id": "1eg4O-D3YH1Z"
      }
    },
    {
      "cell_type": "markdown",
      "source": [
        "\n",
        "\n",
        "---\n",
        "\n",
        "\n",
        "**1. Simple Neural Network Model Using Tensorflow**\n",
        "\n",
        "\n",
        "---\n",
        "\n"
      ],
      "metadata": {
        "id": "bzd2N3YIvm7Y"
      }
    },
    {
      "cell_type": "code",
      "execution_count": null,
      "metadata": {
        "id": "eeruLSzuu9Jx"
      },
      "outputs": [],
      "source": [
        "# importing libraries\n",
        "import numpy as np\n",
        "import pandas as pd\n",
        "import matplotlib.pyplot as plt\n",
        "import tensorflow as tf\n",
        "from sklearn.model_selection import train_test_split  "
      ]
    },
    {
      "cell_type": "markdown",
      "source": [
        "***importing the dataset [insurance_data.csv](https://)***"
      ],
      "metadata": {
        "id": "8I-OQXJmDvLO"
      }
    },
    {
      "cell_type": "code",
      "source": [
        "# loading the dataset\n",
        "dataset = pd.read_csv('insurance_data.csv')\n",
        "dataset.head()"
      ],
      "metadata": {
        "id": "UieoCqlu03Ij",
        "colab": {
          "base_uri": "https://localhost:8080/",
          "height": 206
        },
        "outputId": "49097373-4faf-4c41-8700-f148155a6843"
      },
      "execution_count": null,
      "outputs": [
        {
          "output_type": "execute_result",
          "data": {
            "text/plain": [
              "   age  Affordability  bought_insurance\n",
              "0   22              1                 0\n",
              "1   25              1                 0\n",
              "2   47              0                 1\n",
              "3   52              1                 0\n",
              "4   46              1                 1"
            ],
            "text/html": [
              "\n",
              "  <div id=\"df-ba52bf88-ce56-4029-b1d2-0ae3c2b72c09\">\n",
              "    <div class=\"colab-df-container\">\n",
              "      <div>\n",
              "<style scoped>\n",
              "    .dataframe tbody tr th:only-of-type {\n",
              "        vertical-align: middle;\n",
              "    }\n",
              "\n",
              "    .dataframe tbody tr th {\n",
              "        vertical-align: top;\n",
              "    }\n",
              "\n",
              "    .dataframe thead th {\n",
              "        text-align: right;\n",
              "    }\n",
              "</style>\n",
              "<table border=\"1\" class=\"dataframe\">\n",
              "  <thead>\n",
              "    <tr style=\"text-align: right;\">\n",
              "      <th></th>\n",
              "      <th>age</th>\n",
              "      <th>Affordability</th>\n",
              "      <th>bought_insurance</th>\n",
              "    </tr>\n",
              "  </thead>\n",
              "  <tbody>\n",
              "    <tr>\n",
              "      <th>0</th>\n",
              "      <td>22</td>\n",
              "      <td>1</td>\n",
              "      <td>0</td>\n",
              "    </tr>\n",
              "    <tr>\n",
              "      <th>1</th>\n",
              "      <td>25</td>\n",
              "      <td>1</td>\n",
              "      <td>0</td>\n",
              "    </tr>\n",
              "    <tr>\n",
              "      <th>2</th>\n",
              "      <td>47</td>\n",
              "      <td>0</td>\n",
              "      <td>1</td>\n",
              "    </tr>\n",
              "    <tr>\n",
              "      <th>3</th>\n",
              "      <td>52</td>\n",
              "      <td>1</td>\n",
              "      <td>0</td>\n",
              "    </tr>\n",
              "    <tr>\n",
              "      <th>4</th>\n",
              "      <td>46</td>\n",
              "      <td>1</td>\n",
              "      <td>1</td>\n",
              "    </tr>\n",
              "  </tbody>\n",
              "</table>\n",
              "</div>\n",
              "      <button class=\"colab-df-convert\" onclick=\"convertToInteractive('df-ba52bf88-ce56-4029-b1d2-0ae3c2b72c09')\"\n",
              "              title=\"Convert this dataframe to an interactive table.\"\n",
              "              style=\"display:none;\">\n",
              "        \n",
              "  <svg xmlns=\"http://www.w3.org/2000/svg\" height=\"24px\"viewBox=\"0 0 24 24\"\n",
              "       width=\"24px\">\n",
              "    <path d=\"M0 0h24v24H0V0z\" fill=\"none\"/>\n",
              "    <path d=\"M18.56 5.44l.94 2.06.94-2.06 2.06-.94-2.06-.94-.94-2.06-.94 2.06-2.06.94zm-11 1L8.5 8.5l.94-2.06 2.06-.94-2.06-.94L8.5 2.5l-.94 2.06-2.06.94zm10 10l.94 2.06.94-2.06 2.06-.94-2.06-.94-.94-2.06-.94 2.06-2.06.94z\"/><path d=\"M17.41 7.96l-1.37-1.37c-.4-.4-.92-.59-1.43-.59-.52 0-1.04.2-1.43.59L10.3 9.45l-7.72 7.72c-.78.78-.78 2.05 0 2.83L4 21.41c.39.39.9.59 1.41.59.51 0 1.02-.2 1.41-.59l7.78-7.78 2.81-2.81c.8-.78.8-2.07 0-2.86zM5.41 20L4 18.59l7.72-7.72 1.47 1.35L5.41 20z\"/>\n",
              "  </svg>\n",
              "      </button>\n",
              "      \n",
              "  <style>\n",
              "    .colab-df-container {\n",
              "      display:flex;\n",
              "      flex-wrap:wrap;\n",
              "      gap: 12px;\n",
              "    }\n",
              "\n",
              "    .colab-df-convert {\n",
              "      background-color: #E8F0FE;\n",
              "      border: none;\n",
              "      border-radius: 50%;\n",
              "      cursor: pointer;\n",
              "      display: none;\n",
              "      fill: #1967D2;\n",
              "      height: 32px;\n",
              "      padding: 0 0 0 0;\n",
              "      width: 32px;\n",
              "    }\n",
              "\n",
              "    .colab-df-convert:hover {\n",
              "      background-color: #E2EBFA;\n",
              "      box-shadow: 0px 1px 2px rgba(60, 64, 67, 0.3), 0px 1px 3px 1px rgba(60, 64, 67, 0.15);\n",
              "      fill: #174EA6;\n",
              "    }\n",
              "\n",
              "    [theme=dark] .colab-df-convert {\n",
              "      background-color: #3B4455;\n",
              "      fill: #D2E3FC;\n",
              "    }\n",
              "\n",
              "    [theme=dark] .colab-df-convert:hover {\n",
              "      background-color: #434B5C;\n",
              "      box-shadow: 0px 1px 3px 1px rgba(0, 0, 0, 0.15);\n",
              "      filter: drop-shadow(0px 1px 2px rgba(0, 0, 0, 0.3));\n",
              "      fill: #FFFFFF;\n",
              "    }\n",
              "  </style>\n",
              "\n",
              "      <script>\n",
              "        const buttonEl =\n",
              "          document.querySelector('#df-ba52bf88-ce56-4029-b1d2-0ae3c2b72c09 button.colab-df-convert');\n",
              "        buttonEl.style.display =\n",
              "          google.colab.kernel.accessAllowed ? 'block' : 'none';\n",
              "\n",
              "        async function convertToInteractive(key) {\n",
              "          const element = document.querySelector('#df-ba52bf88-ce56-4029-b1d2-0ae3c2b72c09');\n",
              "          const dataTable =\n",
              "            await google.colab.kernel.invokeFunction('convertToInteractive',\n",
              "                                                     [key], {});\n",
              "          if (!dataTable) return;\n",
              "\n",
              "          const docLinkHtml = 'Like what you see? Visit the ' +\n",
              "            '<a target=\"_blank\" href=https://colab.research.google.com/notebooks/data_table.ipynb>data table notebook</a>'\n",
              "            + ' to learn more about interactive tables.';\n",
              "          element.innerHTML = '';\n",
              "          dataTable['output_type'] = 'display_data';\n",
              "          await google.colab.output.renderOutput(dataTable, element);\n",
              "          const docLink = document.createElement('div');\n",
              "          docLink.innerHTML = docLinkHtml;\n",
              "          element.appendChild(docLink);\n",
              "        }\n",
              "      </script>\n",
              "    </div>\n",
              "  </div>\n",
              "  "
            ]
          },
          "metadata": {},
          "execution_count": 6
        }
      ]
    },
    {
      "cell_type": "code",
      "source": [
        "# preparing the dataset in required format\n",
        "# assigning values to independent and dependent variable\n",
        "X = dataset.iloc[:,:-1]\n",
        "Y = dataset.iloc[:,-1]\n",
        "print(X)\n",
        "print(Y)"
      ],
      "metadata": {
        "colab": {
          "base_uri": "https://localhost:8080/"
        },
        "id": "f3hQvOwr1nNS",
        "outputId": "c2af7ff1-6b49-4d49-83ec-fce52c223417"
      },
      "execution_count": null,
      "outputs": [
        {
          "output_type": "stream",
          "name": "stdout",
          "text": [
            "    age  Affordability\n",
            "0    22              1\n",
            "1    25              1\n",
            "2    47              0\n",
            "3    52              1\n",
            "4    46              1\n",
            "5    56              0\n",
            "6    55              1\n",
            "7    60              1\n",
            "8    62              1\n",
            "9    61              1\n",
            "10   18              0\n",
            "11   28              1\n",
            "12   27              0\n",
            "13   29              0\n",
            "14   49              1\n",
            "15   55              1\n",
            "16   25              0\n",
            "17   58              0\n",
            "18   19              1\n",
            "19   18              1\n",
            "20   21              1\n",
            "21   26              0\n",
            "22   40              1\n",
            "23   45              0\n",
            "24   50              1\n",
            "25   54              1\n",
            "26   23              1\n",
            "0     0\n",
            "1     0\n",
            "2     1\n",
            "3     0\n",
            "4     1\n",
            "5     1\n",
            "6     0\n",
            "7     1\n",
            "8     1\n",
            "9     1\n",
            "10    0\n",
            "11    0\n",
            "12    0\n",
            "13    0\n",
            "14    1\n",
            "15    1\n",
            "16    1\n",
            "17    1\n",
            "18    0\n",
            "19    0\n",
            "20    0\n",
            "21    0\n",
            "22    1\n",
            "23    1\n",
            "24    1\n",
            "25    1\n",
            "26    0\n",
            "Name: bought_insurance, dtype: int64\n"
          ]
        }
      ]
    },
    {
      "cell_type": "code",
      "source": [
        "# Splitting the X and Y Dataset into the Training set and Test set\n",
        "# Splitting the dataset into 20% test data and 80% train data\n",
        "X_train,X_test,Y_train,Y_test=train_test_split(X,Y,test_size=0.2,random_state=0)  "
      ],
      "metadata": {
        "id": "cCYqrLQg4KVk"
      },
      "execution_count": null,
      "outputs": []
    },
    {
      "cell_type": "code",
      "source": [
        "# Printing the splitted data\n",
        "print(\"X Train\\n\",X_train)\n",
        "print(\"Y Train\\n\",Y_train)\n",
        "print(\"X test\\n\",X_test)\n",
        "print(\"Y test\\n\",Y_test)"
      ],
      "metadata": {
        "colab": {
          "base_uri": "https://localhost:8080/"
        },
        "id": "bpDP-l8wyRnI",
        "outputId": "77cea849-5872-4bd5-8597-4458a6143460"
      },
      "execution_count": null,
      "outputs": [
        {
          "output_type": "stream",
          "name": "stdout",
          "text": [
            "X Train\n",
            "     age  Affordability\n",
            "23   45              0\n",
            "13   29              0\n",
            "19   18              1\n",
            "20   21              1\n",
            "16   25              0\n",
            "1    25              1\n",
            "10   18              0\n",
            "26   23              1\n",
            "25   54              1\n",
            "8    62              1\n",
            "6    55              1\n",
            "4    46              1\n",
            "18   19              1\n",
            "9    61              1\n",
            "7    60              1\n",
            "22   40              1\n",
            "3    52              1\n",
            "0    22              1\n",
            "21   26              0\n",
            "15   55              1\n",
            "12   27              0\n",
            "Y Train\n",
            " 23    1\n",
            "13    0\n",
            "19    0\n",
            "20    0\n",
            "16    1\n",
            "1     0\n",
            "10    0\n",
            "26    0\n",
            "25    1\n",
            "8     1\n",
            "6     0\n",
            "4     1\n",
            "18    0\n",
            "9     1\n",
            "7     1\n",
            "22    1\n",
            "3     0\n",
            "0     0\n",
            "21    0\n",
            "15    1\n",
            "12    0\n",
            "Name: bought_insurance, dtype: int64\n",
            "X test\n",
            "     age  Affordability\n",
            "2    47              0\n",
            "24   50              1\n",
            "14   49              1\n",
            "17   58              0\n",
            "5    56              0\n",
            "11   28              1\n",
            "Y test\n",
            " 2     1\n",
            "24    1\n",
            "14    1\n",
            "17    1\n",
            "5     1\n",
            "11    0\n",
            "Name: bought_insurance, dtype: int64\n"
          ]
        }
      ]
    },
    {
      "cell_type": "code",
      "source": [
        "# Perform Feature Scaling - Standardizing the dataset\n",
        "from sklearn.preprocessing import StandardScaler\n",
        "sc=StandardScaler()\n",
        "X_train=sc.fit_transform(X_train)\n",
        "X_test=sc.transform(X_test)"
      ],
      "metadata": {
        "id": "O9nE-vGi4_4Y"
      },
      "execution_count": null,
      "outputs": []
    },
    {
      "cell_type": "code",
      "source": [
        "# printing values after feature scaling\n",
        "print(\"X Train\\n\",X_train)\n",
        "print(\"X Test\\n\",X_test)"
      ],
      "metadata": {
        "colab": {
          "base_uri": "https://localhost:8080/"
        },
        "id": "pKo5eYzoy7Pm",
        "outputId": "45f07dcf-ee92-4b35-dd82-84c5b39dcf43"
      },
      "execution_count": null,
      "outputs": [
        {
          "output_type": "stream",
          "name": "stdout",
          "text": [
            "X Train\n",
            " [[ 0.48375239 -1.58113883]\n",
            " [-0.5195859  -1.58113883]\n",
            " [-1.20938097  0.63245553]\n",
            " [-1.02125504  0.63245553]\n",
            " [-0.77042047 -1.58113883]\n",
            " [-0.77042047  0.63245553]\n",
            " [-1.20938097 -1.58113883]\n",
            " [-0.89583775  0.63245553]\n",
            " [ 1.04813017  0.63245553]\n",
            " [ 1.54979931  0.63245553]\n",
            " [ 1.11083881  0.63245553]\n",
            " [ 0.54646103  0.63245553]\n",
            " [-1.14667232  0.63245553]\n",
            " [ 1.48709067  0.63245553]\n",
            " [ 1.42438203  0.63245553]\n",
            " [ 0.17020917  0.63245553]\n",
            " [ 0.92271289  0.63245553]\n",
            " [-0.9585464   0.63245553]\n",
            " [-0.70771182 -1.58113883]\n",
            " [ 1.11083881  0.63245553]\n",
            " [-0.64500318 -1.58113883]]\n",
            "X Test\n",
            " [[ 0.60916967 -1.58113883]\n",
            " [ 0.7972956   0.63245553]\n",
            " [ 0.73458696  0.63245553]\n",
            " [ 1.29896474 -1.58113883]\n",
            " [ 1.17354746 -1.58113883]\n",
            " [-0.58229454  0.63245553]]\n"
          ]
        }
      ]
    },
    {
      "cell_type": "markdown",
      "source": [
        "***Building the Artificial Neural Network***"
      ],
      "metadata": {
        "id": "5ZvFy9MBzBgI"
      }
    },
    {
      "cell_type": "code",
      "source": [
        "# Importing keras\n",
        "import keras\n",
        "from keras.models import Sequential  \n",
        "from keras.layers import Dense"
      ],
      "metadata": {
        "id": "leFzM-pj-7Cs"
      },
      "execution_count": null,
      "outputs": []
    },
    {
      "cell_type": "markdown",
      "source": [
        "***Initializing the Artificial Neural Network***"
      ],
      "metadata": {
        "id": "qC6YRpLQzRK_"
      }
    },
    {
      "cell_type": "code",
      "source": [
        "ANN = Sequential()"
      ],
      "metadata": {
        "id": "8TwI59A4_wec"
      },
      "execution_count": null,
      "outputs": []
    },
    {
      "cell_type": "markdown",
      "source": [
        "***Adding the input and first hidden layer***\n",
        "***\n",
        "1.   input layer nodes : 2\n",
        "2.   1st hidden layer nodes : 6\n",
        "3.   Activation Function : Relu\n",
        "***"
      ],
      "metadata": {
        "id": "LbGUalb50WsC"
      }
    },
    {
      "cell_type": "code",
      "source": [
        "ANN.add(Dense(6,kernel_initializer='uniform',activation='relu',input_dim=2))"
      ],
      "metadata": {
        "id": "xYuav1N0AuCn"
      },
      "execution_count": null,
      "outputs": []
    },
    {
      "cell_type": "markdown",
      "source": [
        "***Adding the second hidden layer***\n",
        "***\n",
        "1.   input layer nodes : 6 (output of 1st hidden layer)\n",
        "2.   2nd hidden layer nodes : 6\n",
        "3.   Activation Function : Relu\n",
        "***\n"
      ],
      "metadata": {
        "id": "V_xPr6n91VSn"
      }
    },
    {
      "cell_type": "code",
      "source": [
        "ANN.add(Dense(6,kernel_initializer='uniform',activation='relu',input_dim=6))"
      ],
      "metadata": {
        "id": "jLudArCrCuOZ"
      },
      "execution_count": null,
      "outputs": []
    },
    {
      "cell_type": "markdown",
      "source": [
        "***Adding the output layer***\n",
        "***\n",
        "*   Output layer nodes : 1\n",
        "***"
      ],
      "metadata": {
        "id": "qKcyMUye2nsn"
      }
    },
    {
      "cell_type": "code",
      "source": [
        "ANN.add(Dense(1,kernel_initializer='uniform',activation='sigmoid'))"
      ],
      "metadata": {
        "id": "3XTJlHfbDIBB"
      },
      "execution_count": null,
      "outputs": []
    },
    {
      "cell_type": "markdown",
      "source": [
        "***Training the Artificial Neural Network***<br>\n",
        "***compile :***\n",
        "***\n",
        "*   optimizer : \"adam\" performs gradient descent\n",
        "*   cost function : binary_crossentropy\n",
        "\n",
        "***"
      ],
      "metadata": {
        "id": "A7cFxMnU3Rcs"
      }
    },
    {
      "cell_type": "code",
      "source": [
        "ANN.compile(optimizer='adam',loss='binary_crossentropy',metrics=['accuracy'])"
      ],
      "metadata": {
        "id": "UWc2A3GdDfnh"
      },
      "execution_count": null,
      "outputs": []
    },
    {
      "cell_type": "markdown",
      "source": [
        "***Fitting the ANN to Training Set***"
      ],
      "metadata": {
        "id": "TMCHYI324HaO"
      }
    },
    {
      "cell_type": "code",
      "source": [
        "ANN.fit(X_train,Y_train,batch_size=5,epochs=200)"
      ],
      "metadata": {
        "colab": {
          "base_uri": "https://localhost:8080/"
        },
        "id": "ekIUKBOXEUcD",
        "outputId": "c16b19d8-7cad-468d-9000-ab04b9e96463"
      },
      "execution_count": null,
      "outputs": [
        {
          "output_type": "stream",
          "name": "stdout",
          "text": [
            "Epoch 1/200\n",
            "5/5 [==============================] - 1s 3ms/step - loss: 0.6931 - accuracy: 0.5238\n",
            "Epoch 2/200\n",
            "5/5 [==============================] - 0s 2ms/step - loss: 0.6929 - accuracy: 0.5714\n",
            "Epoch 3/200\n",
            "5/5 [==============================] - 0s 2ms/step - loss: 0.6928 - accuracy: 0.5714\n",
            "Epoch 4/200\n",
            "5/5 [==============================] - 0s 2ms/step - loss: 0.6926 - accuracy: 0.5714\n",
            "Epoch 5/200\n",
            "5/5 [==============================] - 0s 2ms/step - loss: 0.6925 - accuracy: 0.5714\n",
            "Epoch 6/200\n",
            "5/5 [==============================] - 0s 2ms/step - loss: 0.6923 - accuracy: 0.5714\n",
            "Epoch 7/200\n",
            "5/5 [==============================] - 0s 2ms/step - loss: 0.6923 - accuracy: 0.5714\n",
            "Epoch 8/200\n",
            "5/5 [==============================] - 0s 2ms/step - loss: 0.6919 - accuracy: 0.5714\n",
            "Epoch 9/200\n",
            "5/5 [==============================] - 0s 2ms/step - loss: 0.6917 - accuracy: 0.5714\n",
            "Epoch 10/200\n",
            "5/5 [==============================] - 0s 2ms/step - loss: 0.6913 - accuracy: 0.5714\n",
            "Epoch 11/200\n",
            "5/5 [==============================] - 0s 2ms/step - loss: 0.6910 - accuracy: 0.5714\n",
            "Epoch 12/200\n",
            "5/5 [==============================] - 0s 2ms/step - loss: 0.6907 - accuracy: 0.5714\n",
            "Epoch 13/200\n",
            "5/5 [==============================] - 0s 3ms/step - loss: 0.6901 - accuracy: 0.5714\n",
            "Epoch 14/200\n",
            "5/5 [==============================] - 0s 3ms/step - loss: 0.6898 - accuracy: 0.5714\n",
            "Epoch 15/200\n",
            "5/5 [==============================] - 0s 3ms/step - loss: 0.6892 - accuracy: 0.5714\n",
            "Epoch 16/200\n",
            "5/5 [==============================] - 0s 2ms/step - loss: 0.6886 - accuracy: 0.5714\n",
            "Epoch 17/200\n",
            "5/5 [==============================] - 0s 2ms/step - loss: 0.6881 - accuracy: 0.5714\n",
            "Epoch 18/200\n",
            "5/5 [==============================] - 0s 2ms/step - loss: 0.6869 - accuracy: 0.5714\n",
            "Epoch 19/200\n",
            "5/5 [==============================] - 0s 2ms/step - loss: 0.6859 - accuracy: 0.5714\n",
            "Epoch 20/200\n",
            "5/5 [==============================] - 0s 2ms/step - loss: 0.6848 - accuracy: 0.5714\n",
            "Epoch 21/200\n",
            "5/5 [==============================] - 0s 2ms/step - loss: 0.6834 - accuracy: 0.5714\n",
            "Epoch 22/200\n",
            "5/5 [==============================] - 0s 2ms/step - loss: 0.6822 - accuracy: 0.5714\n",
            "Epoch 23/200\n",
            "5/5 [==============================] - 0s 2ms/step - loss: 0.6807 - accuracy: 0.5714\n",
            "Epoch 24/200\n",
            "5/5 [==============================] - 0s 3ms/step - loss: 0.6792 - accuracy: 0.5714\n",
            "Epoch 25/200\n",
            "5/5 [==============================] - 0s 3ms/step - loss: 0.6774 - accuracy: 0.5714\n",
            "Epoch 26/200\n",
            "5/5 [==============================] - 0s 2ms/step - loss: 0.6752 - accuracy: 0.5714\n",
            "Epoch 27/200\n",
            "5/5 [==============================] - 0s 3ms/step - loss: 0.6730 - accuracy: 0.5714\n",
            "Epoch 28/200\n",
            "5/5 [==============================] - 0s 3ms/step - loss: 0.6706 - accuracy: 0.5714\n",
            "Epoch 29/200\n",
            "5/5 [==============================] - 0s 3ms/step - loss: 0.6677 - accuracy: 0.5714\n",
            "Epoch 30/200\n",
            "5/5 [==============================] - 0s 3ms/step - loss: 0.6654 - accuracy: 0.5714\n",
            "Epoch 31/200\n",
            "5/5 [==============================] - 0s 2ms/step - loss: 0.6615 - accuracy: 0.5714\n",
            "Epoch 32/200\n",
            "5/5 [==============================] - 0s 2ms/step - loss: 0.6591 - accuracy: 0.5714\n",
            "Epoch 33/200\n",
            "5/5 [==============================] - 0s 2ms/step - loss: 0.6552 - accuracy: 0.5714\n",
            "Epoch 34/200\n",
            "5/5 [==============================] - 0s 2ms/step - loss: 0.6519 - accuracy: 0.5714\n",
            "Epoch 35/200\n",
            "5/5 [==============================] - 0s 2ms/step - loss: 0.6483 - accuracy: 0.5714\n",
            "Epoch 36/200\n",
            "5/5 [==============================] - 0s 2ms/step - loss: 0.6444 - accuracy: 0.5714\n",
            "Epoch 37/200\n",
            "5/5 [==============================] - 0s 2ms/step - loss: 0.6397 - accuracy: 0.5714\n",
            "Epoch 38/200\n",
            "5/5 [==============================] - 0s 2ms/step - loss: 0.6352 - accuracy: 0.5714\n",
            "Epoch 39/200\n",
            "5/5 [==============================] - 0s 2ms/step - loss: 0.6303 - accuracy: 0.5714\n",
            "Epoch 40/200\n",
            "5/5 [==============================] - 0s 2ms/step - loss: 0.6255 - accuracy: 0.5714\n",
            "Epoch 41/200\n",
            "5/5 [==============================] - 0s 3ms/step - loss: 0.6210 - accuracy: 0.6667\n",
            "Epoch 42/200\n",
            "5/5 [==============================] - 0s 3ms/step - loss: 0.6173 - accuracy: 0.7619\n",
            "Epoch 43/200\n",
            "5/5 [==============================] - 0s 2ms/step - loss: 0.6131 - accuracy: 0.7143\n",
            "Epoch 44/200\n",
            "5/5 [==============================] - 0s 2ms/step - loss: 0.6085 - accuracy: 0.7143\n",
            "Epoch 45/200\n",
            "5/5 [==============================] - 0s 2ms/step - loss: 0.6041 - accuracy: 0.7143\n",
            "Epoch 46/200\n",
            "5/5 [==============================] - 0s 2ms/step - loss: 0.5989 - accuracy: 0.7143\n",
            "Epoch 47/200\n",
            "5/5 [==============================] - 0s 2ms/step - loss: 0.5935 - accuracy: 0.7143\n",
            "Epoch 48/200\n",
            "5/5 [==============================] - 0s 2ms/step - loss: 0.5892 - accuracy: 0.7143\n",
            "Epoch 49/200\n",
            "5/5 [==============================] - 0s 2ms/step - loss: 0.5840 - accuracy: 0.7143\n",
            "Epoch 50/200\n",
            "5/5 [==============================] - 0s 3ms/step - loss: 0.5804 - accuracy: 0.7619\n",
            "Epoch 51/200\n",
            "5/5 [==============================] - 0s 3ms/step - loss: 0.5774 - accuracy: 0.7619\n",
            "Epoch 52/200\n",
            "5/5 [==============================] - 0s 3ms/step - loss: 0.5727 - accuracy: 0.7619\n",
            "Epoch 53/200\n",
            "5/5 [==============================] - 0s 3ms/step - loss: 0.5686 - accuracy: 0.7619\n",
            "Epoch 54/200\n",
            "5/5 [==============================] - 0s 3ms/step - loss: 0.5638 - accuracy: 0.7619\n",
            "Epoch 55/200\n",
            "5/5 [==============================] - 0s 2ms/step - loss: 0.5605 - accuracy: 0.7619\n",
            "Epoch 56/200\n",
            "5/5 [==============================] - 0s 2ms/step - loss: 0.5568 - accuracy: 0.7619\n",
            "Epoch 57/200\n",
            "5/5 [==============================] - 0s 2ms/step - loss: 0.5528 - accuracy: 0.7619\n",
            "Epoch 58/200\n",
            "5/5 [==============================] - 0s 2ms/step - loss: 0.5489 - accuracy: 0.8095\n",
            "Epoch 59/200\n",
            "5/5 [==============================] - 0s 3ms/step - loss: 0.5448 - accuracy: 0.8095\n",
            "Epoch 60/200\n",
            "5/5 [==============================] - 0s 3ms/step - loss: 0.5404 - accuracy: 0.8095\n",
            "Epoch 61/200\n",
            "5/5 [==============================] - 0s 2ms/step - loss: 0.5367 - accuracy: 0.8095\n",
            "Epoch 62/200\n",
            "5/5 [==============================] - 0s 3ms/step - loss: 0.5323 - accuracy: 0.8095\n",
            "Epoch 63/200\n",
            "5/5 [==============================] - 0s 3ms/step - loss: 0.5277 - accuracy: 0.8095\n",
            "Epoch 64/200\n",
            "5/5 [==============================] - 0s 3ms/step - loss: 0.5221 - accuracy: 0.8095\n",
            "Epoch 65/200\n",
            "5/5 [==============================] - 0s 3ms/step - loss: 0.5179 - accuracy: 0.8095\n",
            "Epoch 66/200\n",
            "5/5 [==============================] - 0s 2ms/step - loss: 0.5126 - accuracy: 0.8095\n",
            "Epoch 67/200\n",
            "5/5 [==============================] - 0s 3ms/step - loss: 0.5081 - accuracy: 0.8095\n",
            "Epoch 68/200\n",
            "5/5 [==============================] - 0s 3ms/step - loss: 0.5031 - accuracy: 0.8095\n",
            "Epoch 69/200\n",
            "5/5 [==============================] - 0s 3ms/step - loss: 0.4985 - accuracy: 0.8095\n",
            "Epoch 70/200\n",
            "5/5 [==============================] - 0s 4ms/step - loss: 0.4929 - accuracy: 0.8095\n",
            "Epoch 71/200\n",
            "5/5 [==============================] - 0s 3ms/step - loss: 0.4890 - accuracy: 0.8095\n",
            "Epoch 72/200\n",
            "5/5 [==============================] - 0s 3ms/step - loss: 0.4857 - accuracy: 0.8095\n",
            "Epoch 73/200\n",
            "5/5 [==============================] - 0s 3ms/step - loss: 0.4830 - accuracy: 0.8095\n",
            "Epoch 74/200\n",
            "5/5 [==============================] - 0s 2ms/step - loss: 0.4800 - accuracy: 0.8095\n",
            "Epoch 75/200\n",
            "5/5 [==============================] - 0s 2ms/step - loss: 0.4772 - accuracy: 0.8095\n",
            "Epoch 76/200\n",
            "5/5 [==============================] - 0s 3ms/step - loss: 0.4733 - accuracy: 0.8095\n",
            "Epoch 77/200\n",
            "5/5 [==============================] - 0s 4ms/step - loss: 0.4707 - accuracy: 0.8095\n",
            "Epoch 78/200\n",
            "5/5 [==============================] - 0s 3ms/step - loss: 0.4682 - accuracy: 0.8095\n",
            "Epoch 79/200\n",
            "5/5 [==============================] - 0s 3ms/step - loss: 0.4661 - accuracy: 0.8095\n",
            "Epoch 80/200\n",
            "5/5 [==============================] - 0s 3ms/step - loss: 0.4649 - accuracy: 0.8095\n",
            "Epoch 81/200\n",
            "5/5 [==============================] - 0s 3ms/step - loss: 0.4618 - accuracy: 0.8095\n",
            "Epoch 82/200\n",
            "5/5 [==============================] - 0s 2ms/step - loss: 0.4601 - accuracy: 0.8571\n",
            "Epoch 83/200\n",
            "5/5 [==============================] - 0s 4ms/step - loss: 0.4581 - accuracy: 0.8571\n",
            "Epoch 84/200\n",
            "5/5 [==============================] - 0s 3ms/step - loss: 0.4564 - accuracy: 0.8571\n",
            "Epoch 85/200\n",
            "5/5 [==============================] - 0s 3ms/step - loss: 0.4542 - accuracy: 0.8571\n",
            "Epoch 86/200\n",
            "5/5 [==============================] - 0s 3ms/step - loss: 0.4520 - accuracy: 0.8571\n",
            "Epoch 87/200\n",
            "5/5 [==============================] - 0s 2ms/step - loss: 0.4487 - accuracy: 0.8571\n",
            "Epoch 88/200\n",
            "5/5 [==============================] - 0s 2ms/step - loss: 0.4466 - accuracy: 0.8571\n",
            "Epoch 89/200\n",
            "5/5 [==============================] - 0s 2ms/step - loss: 0.4442 - accuracy: 0.8571\n",
            "Epoch 90/200\n",
            "5/5 [==============================] - 0s 3ms/step - loss: 0.4425 - accuracy: 0.8571\n",
            "Epoch 91/200\n",
            "5/5 [==============================] - 0s 3ms/step - loss: 0.4395 - accuracy: 0.8571\n",
            "Epoch 92/200\n",
            "5/5 [==============================] - 0s 2ms/step - loss: 0.4370 - accuracy: 0.8571\n",
            "Epoch 93/200\n",
            "5/5 [==============================] - 0s 2ms/step - loss: 0.4362 - accuracy: 0.8571\n",
            "Epoch 94/200\n",
            "5/5 [==============================] - 0s 3ms/step - loss: 0.4341 - accuracy: 0.8571\n",
            "Epoch 95/200\n",
            "5/5 [==============================] - 0s 2ms/step - loss: 0.4311 - accuracy: 0.8571\n",
            "Epoch 96/200\n",
            "5/5 [==============================] - 0s 3ms/step - loss: 0.4302 - accuracy: 0.8571\n",
            "Epoch 97/200\n",
            "5/5 [==============================] - 0s 3ms/step - loss: 0.4283 - accuracy: 0.8571\n",
            "Epoch 98/200\n",
            "5/5 [==============================] - 0s 3ms/step - loss: 0.4260 - accuracy: 0.8571\n",
            "Epoch 99/200\n",
            "5/5 [==============================] - 0s 2ms/step - loss: 0.4242 - accuracy: 0.8571\n",
            "Epoch 100/200\n",
            "5/5 [==============================] - 0s 2ms/step - loss: 0.4227 - accuracy: 0.8571\n",
            "Epoch 101/200\n",
            "5/5 [==============================] - 0s 2ms/step - loss: 0.4212 - accuracy: 0.8571\n",
            "Epoch 102/200\n",
            "5/5 [==============================] - 0s 2ms/step - loss: 0.4201 - accuracy: 0.8571\n",
            "Epoch 103/200\n",
            "5/5 [==============================] - 0s 3ms/step - loss: 0.4187 - accuracy: 0.8571\n",
            "Epoch 104/200\n",
            "5/5 [==============================] - 0s 3ms/step - loss: 0.4174 - accuracy: 0.8571\n",
            "Epoch 105/200\n",
            "5/5 [==============================] - 0s 2ms/step - loss: 0.4154 - accuracy: 0.8571\n",
            "Epoch 106/200\n",
            "5/5 [==============================] - 0s 2ms/step - loss: 0.4149 - accuracy: 0.8571\n",
            "Epoch 107/200\n",
            "5/5 [==============================] - 0s 2ms/step - loss: 0.4148 - accuracy: 0.8571\n",
            "Epoch 108/200\n",
            "5/5 [==============================] - 0s 2ms/step - loss: 0.4139 - accuracy: 0.8571\n",
            "Epoch 109/200\n",
            "5/5 [==============================] - 0s 2ms/step - loss: 0.4135 - accuracy: 0.8571\n",
            "Epoch 110/200\n",
            "5/5 [==============================] - 0s 3ms/step - loss: 0.4134 - accuracy: 0.8571\n",
            "Epoch 111/200\n",
            "5/5 [==============================] - 0s 2ms/step - loss: 0.4120 - accuracy: 0.8571\n",
            "Epoch 112/200\n",
            "5/5 [==============================] - 0s 3ms/step - loss: 0.4119 - accuracy: 0.8571\n",
            "Epoch 113/200\n",
            "5/5 [==============================] - 0s 3ms/step - loss: 0.4115 - accuracy: 0.8571\n",
            "Epoch 114/200\n",
            "5/5 [==============================] - 0s 3ms/step - loss: 0.4121 - accuracy: 0.8571\n",
            "Epoch 115/200\n",
            "5/5 [==============================] - 0s 2ms/step - loss: 0.4116 - accuracy: 0.8571\n",
            "Epoch 116/200\n",
            "5/5 [==============================] - 0s 3ms/step - loss: 0.4112 - accuracy: 0.8571\n",
            "Epoch 117/200\n",
            "5/5 [==============================] - 0s 2ms/step - loss: 0.4109 - accuracy: 0.8571\n",
            "Epoch 118/200\n",
            "5/5 [==============================] - 0s 3ms/step - loss: 0.4100 - accuracy: 0.8571\n",
            "Epoch 119/200\n",
            "5/5 [==============================] - 0s 2ms/step - loss: 0.4093 - accuracy: 0.8571\n",
            "Epoch 120/200\n",
            "5/5 [==============================] - 0s 2ms/step - loss: 0.4094 - accuracy: 0.8571\n",
            "Epoch 121/200\n",
            "5/5 [==============================] - 0s 3ms/step - loss: 0.4081 - accuracy: 0.8571\n",
            "Epoch 122/200\n",
            "5/5 [==============================] - 0s 3ms/step - loss: 0.4076 - accuracy: 0.8571\n",
            "Epoch 123/200\n",
            "5/5 [==============================] - 0s 2ms/step - loss: 0.4067 - accuracy: 0.8571\n",
            "Epoch 124/200\n",
            "5/5 [==============================] - 0s 2ms/step - loss: 0.4064 - accuracy: 0.8571\n",
            "Epoch 125/200\n",
            "5/5 [==============================] - 0s 2ms/step - loss: 0.4062 - accuracy: 0.8571\n",
            "Epoch 126/200\n",
            "5/5 [==============================] - 0s 3ms/step - loss: 0.4060 - accuracy: 0.8571\n",
            "Epoch 127/200\n",
            "5/5 [==============================] - 0s 3ms/step - loss: 0.4052 - accuracy: 0.8571\n",
            "Epoch 128/200\n",
            "5/5 [==============================] - 0s 2ms/step - loss: 0.4050 - accuracy: 0.8571\n",
            "Epoch 129/200\n",
            "5/5 [==============================] - 0s 2ms/step - loss: 0.4042 - accuracy: 0.8571\n",
            "Epoch 130/200\n",
            "5/5 [==============================] - 0s 3ms/step - loss: 0.4036 - accuracy: 0.8571\n",
            "Epoch 131/200\n",
            "5/5 [==============================] - 0s 2ms/step - loss: 0.4029 - accuracy: 0.8571\n",
            "Epoch 132/200\n",
            "5/5 [==============================] - 0s 2ms/step - loss: 0.4027 - accuracy: 0.8571\n",
            "Epoch 133/200\n",
            "5/5 [==============================] - 0s 2ms/step - loss: 0.4017 - accuracy: 0.8571\n",
            "Epoch 134/200\n",
            "5/5 [==============================] - 0s 2ms/step - loss: 0.4012 - accuracy: 0.8571\n",
            "Epoch 135/200\n",
            "5/5 [==============================] - 0s 2ms/step - loss: 0.4009 - accuracy: 0.8571\n",
            "Epoch 136/200\n",
            "5/5 [==============================] - 0s 3ms/step - loss: 0.4004 - accuracy: 0.8571\n",
            "Epoch 137/200\n",
            "5/5 [==============================] - 0s 3ms/step - loss: 0.4006 - accuracy: 0.8571\n",
            "Epoch 138/200\n",
            "5/5 [==============================] - 0s 2ms/step - loss: 0.4005 - accuracy: 0.8571\n",
            "Epoch 139/200\n",
            "5/5 [==============================] - 0s 2ms/step - loss: 0.4001 - accuracy: 0.8571\n",
            "Epoch 140/200\n",
            "5/5 [==============================] - 0s 2ms/step - loss: 0.3997 - accuracy: 0.8571\n",
            "Epoch 141/200\n",
            "5/5 [==============================] - 0s 3ms/step - loss: 0.3995 - accuracy: 0.8571\n",
            "Epoch 142/200\n",
            "5/5 [==============================] - 0s 2ms/step - loss: 0.3994 - accuracy: 0.8571\n",
            "Epoch 143/200\n",
            "5/5 [==============================] - 0s 2ms/step - loss: 0.3985 - accuracy: 0.8571\n",
            "Epoch 144/200\n",
            "5/5 [==============================] - 0s 3ms/step - loss: 0.3984 - accuracy: 0.8571\n",
            "Epoch 145/200\n",
            "5/5 [==============================] - 0s 3ms/step - loss: 0.3979 - accuracy: 0.8571\n",
            "Epoch 146/200\n",
            "5/5 [==============================] - 0s 2ms/step - loss: 0.3979 - accuracy: 0.8571\n",
            "Epoch 147/200\n",
            "5/5 [==============================] - 0s 2ms/step - loss: 0.3975 - accuracy: 0.8571\n",
            "Epoch 148/200\n",
            "5/5 [==============================] - 0s 3ms/step - loss: 0.3975 - accuracy: 0.8571\n",
            "Epoch 149/200\n",
            "5/5 [==============================] - 0s 2ms/step - loss: 0.3973 - accuracy: 0.8571\n",
            "Epoch 150/200\n",
            "5/5 [==============================] - 0s 3ms/step - loss: 0.3972 - accuracy: 0.8571\n",
            "Epoch 151/200\n",
            "5/5 [==============================] - 0s 3ms/step - loss: 0.3968 - accuracy: 0.8571\n",
            "Epoch 152/200\n",
            "5/5 [==============================] - 0s 3ms/step - loss: 0.3967 - accuracy: 0.8571\n",
            "Epoch 153/200\n",
            "5/5 [==============================] - 0s 2ms/step - loss: 0.3969 - accuracy: 0.8571\n",
            "Epoch 154/200\n",
            "5/5 [==============================] - 0s 2ms/step - loss: 0.3959 - accuracy: 0.8571\n",
            "Epoch 155/200\n",
            "5/5 [==============================] - 0s 2ms/step - loss: 0.3955 - accuracy: 0.8571\n",
            "Epoch 156/200\n",
            "5/5 [==============================] - 0s 3ms/step - loss: 0.3958 - accuracy: 0.8571\n",
            "Epoch 157/200\n",
            "5/5 [==============================] - 0s 3ms/step - loss: 0.3951 - accuracy: 0.8571\n",
            "Epoch 158/200\n",
            "5/5 [==============================] - 0s 2ms/step - loss: 0.3952 - accuracy: 0.8571\n",
            "Epoch 159/200\n",
            "5/5 [==============================] - 0s 3ms/step - loss: 0.3949 - accuracy: 0.8571\n",
            "Epoch 160/200\n",
            "5/5 [==============================] - 0s 3ms/step - loss: 0.3947 - accuracy: 0.8571\n",
            "Epoch 161/200\n",
            "5/5 [==============================] - 0s 4ms/step - loss: 0.3946 - accuracy: 0.8571\n",
            "Epoch 162/200\n",
            "5/5 [==============================] - 0s 3ms/step - loss: 0.3943 - accuracy: 0.8571\n",
            "Epoch 163/200\n",
            "5/5 [==============================] - 0s 3ms/step - loss: 0.3942 - accuracy: 0.8571\n",
            "Epoch 164/200\n",
            "5/5 [==============================] - 0s 3ms/step - loss: 0.3940 - accuracy: 0.8571\n",
            "Epoch 165/200\n",
            "5/5 [==============================] - 0s 2ms/step - loss: 0.3939 - accuracy: 0.8571\n",
            "Epoch 166/200\n",
            "5/5 [==============================] - 0s 2ms/step - loss: 0.3939 - accuracy: 0.8571\n",
            "Epoch 167/200\n",
            "5/5 [==============================] - 0s 3ms/step - loss: 0.3937 - accuracy: 0.8571\n",
            "Epoch 168/200\n",
            "5/5 [==============================] - 0s 2ms/step - loss: 0.3938 - accuracy: 0.8571\n",
            "Epoch 169/200\n",
            "5/5 [==============================] - 0s 2ms/step - loss: 0.3935 - accuracy: 0.8571\n",
            "Epoch 170/200\n",
            "5/5 [==============================] - 0s 2ms/step - loss: 0.3933 - accuracy: 0.8571\n",
            "Epoch 171/200\n",
            "5/5 [==============================] - 0s 2ms/step - loss: 0.3934 - accuracy: 0.8571\n",
            "Epoch 172/200\n",
            "5/5 [==============================] - 0s 3ms/step - loss: 0.3932 - accuracy: 0.8571\n",
            "Epoch 173/200\n",
            "5/5 [==============================] - 0s 3ms/step - loss: 0.3929 - accuracy: 0.8571\n",
            "Epoch 174/200\n",
            "5/5 [==============================] - 0s 3ms/step - loss: 0.3931 - accuracy: 0.8571\n",
            "Epoch 175/200\n",
            "5/5 [==============================] - 0s 3ms/step - loss: 0.3935 - accuracy: 0.8571\n",
            "Epoch 176/200\n",
            "5/5 [==============================] - 0s 3ms/step - loss: 0.3925 - accuracy: 0.8571\n",
            "Epoch 177/200\n",
            "5/5 [==============================] - 0s 2ms/step - loss: 0.3926 - accuracy: 0.8571\n",
            "Epoch 178/200\n",
            "5/5 [==============================] - 0s 3ms/step - loss: 0.3922 - accuracy: 0.8571\n",
            "Epoch 179/200\n",
            "5/5 [==============================] - 0s 2ms/step - loss: 0.3923 - accuracy: 0.8571\n",
            "Epoch 180/200\n",
            "5/5 [==============================] - 0s 3ms/step - loss: 0.3921 - accuracy: 0.8571\n",
            "Epoch 181/200\n",
            "5/5 [==============================] - 0s 2ms/step - loss: 0.3919 - accuracy: 0.8571\n",
            "Epoch 182/200\n",
            "5/5 [==============================] - 0s 2ms/step - loss: 0.3919 - accuracy: 0.8571\n",
            "Epoch 183/200\n",
            "5/5 [==============================] - 0s 3ms/step - loss: 0.3917 - accuracy: 0.8571\n",
            "Epoch 184/200\n",
            "5/5 [==============================] - 0s 2ms/step - loss: 0.3919 - accuracy: 0.8571\n",
            "Epoch 185/200\n",
            "5/5 [==============================] - 0s 3ms/step - loss: 0.3916 - accuracy: 0.8571\n",
            "Epoch 186/200\n",
            "5/5 [==============================] - 0s 3ms/step - loss: 0.3916 - accuracy: 0.8571\n",
            "Epoch 187/200\n",
            "5/5 [==============================] - 0s 3ms/step - loss: 0.3916 - accuracy: 0.8571\n",
            "Epoch 188/200\n",
            "5/5 [==============================] - 0s 3ms/step - loss: 0.3914 - accuracy: 0.8571\n",
            "Epoch 189/200\n",
            "5/5 [==============================] - 0s 3ms/step - loss: 0.3915 - accuracy: 0.8571\n",
            "Epoch 190/200\n",
            "5/5 [==============================] - 0s 3ms/step - loss: 0.3913 - accuracy: 0.8571\n",
            "Epoch 191/200\n",
            "5/5 [==============================] - 0s 3ms/step - loss: 0.3917 - accuracy: 0.8571\n",
            "Epoch 192/200\n",
            "5/5 [==============================] - 0s 3ms/step - loss: 0.3914 - accuracy: 0.8571\n",
            "Epoch 193/200\n",
            "5/5 [==============================] - 0s 2ms/step - loss: 0.3914 - accuracy: 0.8571\n",
            "Epoch 194/200\n",
            "5/5 [==============================] - 0s 3ms/step - loss: 0.3913 - accuracy: 0.8571\n",
            "Epoch 195/200\n",
            "5/5 [==============================] - 0s 2ms/step - loss: 0.3912 - accuracy: 0.8571\n",
            "Epoch 196/200\n",
            "5/5 [==============================] - 0s 2ms/step - loss: 0.3911 - accuracy: 0.8571\n",
            "Epoch 197/200\n",
            "5/5 [==============================] - 0s 3ms/step - loss: 0.3913 - accuracy: 0.8571\n",
            "Epoch 198/200\n",
            "5/5 [==============================] - 0s 2ms/step - loss: 0.3910 - accuracy: 0.8571\n",
            "Epoch 199/200\n",
            "5/5 [==============================] - 0s 2ms/step - loss: 0.3911 - accuracy: 0.8571\n",
            "Epoch 200/200\n",
            "5/5 [==============================] - 0s 2ms/step - loss: 0.3909 - accuracy: 0.8571\n"
          ]
        },
        {
          "output_type": "execute_result",
          "data": {
            "text/plain": [
              "<keras.callbacks.History at 0x7f72e2b36910>"
            ]
          },
          "metadata": {},
          "execution_count": 18
        }
      ]
    },
    {
      "cell_type": "markdown",
      "source": [
        "***Predicting the Test data Results***"
      ],
      "metadata": {
        "id": "t3uNrbX24bkD"
      }
    },
    {
      "cell_type": "code",
      "source": [
        "ANN.evaluate(X_test,Y_test)\n",
        "Y_pred=ANN.predict(X_test)\n",
        "Y_pred=(Y_pred>0.5)                   # output obtained by sigmoid function >0.5 is predicted as 1 and <0.5 is predicted as 0\n",
        "print(np.concatenate((Y_pred.reshape(len(Y_pred),1),np.array(Y_test).reshape(len(Y_test),1)),1))  # comapring Y_test and Y_pred"
      ],
      "metadata": {
        "colab": {
          "base_uri": "https://localhost:8080/"
        },
        "id": "Sr5EnopuFKnF",
        "outputId": "dffef900-7972-4ec2-d9d7-06f008d947f4"
      },
      "execution_count": null,
      "outputs": [
        {
          "output_type": "stream",
          "name": "stdout",
          "text": [
            "1/1 [==============================] - 0s 143ms/step - loss: 0.2311 - accuracy: 1.0000\n",
            "[[1 1]\n",
            " [1 1]\n",
            " [1 1]\n",
            " [1 1]\n",
            " [1 1]\n",
            " [0 0]]\n"
          ]
        }
      ]
    },
    {
      "cell_type": "markdown",
      "source": [
        "***Making the Confusion Matrix for our prediction***"
      ],
      "metadata": {
        "id": "qkikS1Cb593d"
      }
    },
    {
      "cell_type": "code",
      "source": [
        "from sklearn.metrics import confusion_matrix,accuracy_score\n",
        "print(confusion_matrix(Y_test,Y_pred))\n",
        "print(\"Accuracy score : \",accuracy_score(Y_test,Y_pred))"
      ],
      "metadata": {
        "colab": {
          "base_uri": "https://localhost:8080/"
        },
        "id": "1pu95uYQHWVy",
        "outputId": "7e052c61-97f5-4788-f653-54d9da10e293"
      },
      "execution_count": null,
      "outputs": [
        {
          "output_type": "stream",
          "name": "stdout",
          "text": [
            "[[1 0]\n",
            " [0 5]]\n",
            "Accuracy score :  1.0\n"
          ]
        }
      ]
    },
    {
      "cell_type": "markdown",
      "source": [
        "\n",
        "\n",
        "---\n",
        "\n",
        "\n",
        "**2. Customer Churn Prediction Model using ANN**\n",
        "\n",
        "\n",
        "---\n",
        "\n",
        "\n"
      ],
      "metadata": {
        "id": "5HFDVYC0QyPf"
      }
    },
    {
      "cell_type": "code",
      "source": [
        "# importing libraries\n",
        "import numpy as np\n",
        "import pandas as pd\n",
        "import matplotlib.pyplot as plt\n",
        "import tensorflow as tf    "
      ],
      "metadata": {
        "id": "tvWd9ps40M1l"
      },
      "execution_count": null,
      "outputs": []
    },
    {
      "cell_type": "markdown",
      "source": [
        "***importing the dataset [Churn_Modelling.csv](https://www.kaggle.com/mltuts/churn-modelling-data?select=Churn_Modelling.csv)***"
      ],
      "metadata": {
        "id": "1yAeqLHcEBLs"
      }
    },
    {
      "cell_type": "code",
      "source": [
        "# loading the dataset\n",
        "dataset = pd.read_csv('Churn_Modelling.csv')\n",
        "dataset.head()"
      ],
      "metadata": {
        "id": "b4P5YJh_0TUI",
        "colab": {
          "base_uri": "https://localhost:8080/",
          "height": 270
        },
        "outputId": "22550be7-5719-4662-edbd-e2b7c2971bc8"
      },
      "execution_count": null,
      "outputs": [
        {
          "output_type": "execute_result",
          "data": {
            "text/plain": [
              "   RowNumber  CustomerId   Surname  CreditScore Geography  Gender  Age  \\\n",
              "0          1    15634602  Hargrave          619    France  Female   42   \n",
              "1          2    15647311      Hill          608     Spain  Female   41   \n",
              "2          3    15619304      Onio          502    France  Female   42   \n",
              "3          4    15701354      Boni          699    France  Female   39   \n",
              "4          5    15737888  Mitchell          850     Spain  Female   43   \n",
              "\n",
              "   Tenure    Balance  NumOfProducts  HasCrCard  IsActiveMember  \\\n",
              "0       2       0.00              1          1               1   \n",
              "1       1   83807.86              1          0               1   \n",
              "2       8  159660.80              3          1               0   \n",
              "3       1       0.00              2          0               0   \n",
              "4       2  125510.82              1          1               1   \n",
              "\n",
              "   EstimatedSalary  Exited  \n",
              "0        101348.88       1  \n",
              "1        112542.58       0  \n",
              "2        113931.57       1  \n",
              "3         93826.63       0  \n",
              "4         79084.10       0  "
            ],
            "text/html": [
              "\n",
              "  <div id=\"df-4160f3d4-2347-4cfb-af85-904b63909ed7\">\n",
              "    <div class=\"colab-df-container\">\n",
              "      <div>\n",
              "<style scoped>\n",
              "    .dataframe tbody tr th:only-of-type {\n",
              "        vertical-align: middle;\n",
              "    }\n",
              "\n",
              "    .dataframe tbody tr th {\n",
              "        vertical-align: top;\n",
              "    }\n",
              "\n",
              "    .dataframe thead th {\n",
              "        text-align: right;\n",
              "    }\n",
              "</style>\n",
              "<table border=\"1\" class=\"dataframe\">\n",
              "  <thead>\n",
              "    <tr style=\"text-align: right;\">\n",
              "      <th></th>\n",
              "      <th>RowNumber</th>\n",
              "      <th>CustomerId</th>\n",
              "      <th>Surname</th>\n",
              "      <th>CreditScore</th>\n",
              "      <th>Geography</th>\n",
              "      <th>Gender</th>\n",
              "      <th>Age</th>\n",
              "      <th>Tenure</th>\n",
              "      <th>Balance</th>\n",
              "      <th>NumOfProducts</th>\n",
              "      <th>HasCrCard</th>\n",
              "      <th>IsActiveMember</th>\n",
              "      <th>EstimatedSalary</th>\n",
              "      <th>Exited</th>\n",
              "    </tr>\n",
              "  </thead>\n",
              "  <tbody>\n",
              "    <tr>\n",
              "      <th>0</th>\n",
              "      <td>1</td>\n",
              "      <td>15634602</td>\n",
              "      <td>Hargrave</td>\n",
              "      <td>619</td>\n",
              "      <td>France</td>\n",
              "      <td>Female</td>\n",
              "      <td>42</td>\n",
              "      <td>2</td>\n",
              "      <td>0.00</td>\n",
              "      <td>1</td>\n",
              "      <td>1</td>\n",
              "      <td>1</td>\n",
              "      <td>101348.88</td>\n",
              "      <td>1</td>\n",
              "    </tr>\n",
              "    <tr>\n",
              "      <th>1</th>\n",
              "      <td>2</td>\n",
              "      <td>15647311</td>\n",
              "      <td>Hill</td>\n",
              "      <td>608</td>\n",
              "      <td>Spain</td>\n",
              "      <td>Female</td>\n",
              "      <td>41</td>\n",
              "      <td>1</td>\n",
              "      <td>83807.86</td>\n",
              "      <td>1</td>\n",
              "      <td>0</td>\n",
              "      <td>1</td>\n",
              "      <td>112542.58</td>\n",
              "      <td>0</td>\n",
              "    </tr>\n",
              "    <tr>\n",
              "      <th>2</th>\n",
              "      <td>3</td>\n",
              "      <td>15619304</td>\n",
              "      <td>Onio</td>\n",
              "      <td>502</td>\n",
              "      <td>France</td>\n",
              "      <td>Female</td>\n",
              "      <td>42</td>\n",
              "      <td>8</td>\n",
              "      <td>159660.80</td>\n",
              "      <td>3</td>\n",
              "      <td>1</td>\n",
              "      <td>0</td>\n",
              "      <td>113931.57</td>\n",
              "      <td>1</td>\n",
              "    </tr>\n",
              "    <tr>\n",
              "      <th>3</th>\n",
              "      <td>4</td>\n",
              "      <td>15701354</td>\n",
              "      <td>Boni</td>\n",
              "      <td>699</td>\n",
              "      <td>France</td>\n",
              "      <td>Female</td>\n",
              "      <td>39</td>\n",
              "      <td>1</td>\n",
              "      <td>0.00</td>\n",
              "      <td>2</td>\n",
              "      <td>0</td>\n",
              "      <td>0</td>\n",
              "      <td>93826.63</td>\n",
              "      <td>0</td>\n",
              "    </tr>\n",
              "    <tr>\n",
              "      <th>4</th>\n",
              "      <td>5</td>\n",
              "      <td>15737888</td>\n",
              "      <td>Mitchell</td>\n",
              "      <td>850</td>\n",
              "      <td>Spain</td>\n",
              "      <td>Female</td>\n",
              "      <td>43</td>\n",
              "      <td>2</td>\n",
              "      <td>125510.82</td>\n",
              "      <td>1</td>\n",
              "      <td>1</td>\n",
              "      <td>1</td>\n",
              "      <td>79084.10</td>\n",
              "      <td>0</td>\n",
              "    </tr>\n",
              "  </tbody>\n",
              "</table>\n",
              "</div>\n",
              "      <button class=\"colab-df-convert\" onclick=\"convertToInteractive('df-4160f3d4-2347-4cfb-af85-904b63909ed7')\"\n",
              "              title=\"Convert this dataframe to an interactive table.\"\n",
              "              style=\"display:none;\">\n",
              "        \n",
              "  <svg xmlns=\"http://www.w3.org/2000/svg\" height=\"24px\"viewBox=\"0 0 24 24\"\n",
              "       width=\"24px\">\n",
              "    <path d=\"M0 0h24v24H0V0z\" fill=\"none\"/>\n",
              "    <path d=\"M18.56 5.44l.94 2.06.94-2.06 2.06-.94-2.06-.94-.94-2.06-.94 2.06-2.06.94zm-11 1L8.5 8.5l.94-2.06 2.06-.94-2.06-.94L8.5 2.5l-.94 2.06-2.06.94zm10 10l.94 2.06.94-2.06 2.06-.94-2.06-.94-.94-2.06-.94 2.06-2.06.94z\"/><path d=\"M17.41 7.96l-1.37-1.37c-.4-.4-.92-.59-1.43-.59-.52 0-1.04.2-1.43.59L10.3 9.45l-7.72 7.72c-.78.78-.78 2.05 0 2.83L4 21.41c.39.39.9.59 1.41.59.51 0 1.02-.2 1.41-.59l7.78-7.78 2.81-2.81c.8-.78.8-2.07 0-2.86zM5.41 20L4 18.59l7.72-7.72 1.47 1.35L5.41 20z\"/>\n",
              "  </svg>\n",
              "      </button>\n",
              "      \n",
              "  <style>\n",
              "    .colab-df-container {\n",
              "      display:flex;\n",
              "      flex-wrap:wrap;\n",
              "      gap: 12px;\n",
              "    }\n",
              "\n",
              "    .colab-df-convert {\n",
              "      background-color: #E8F0FE;\n",
              "      border: none;\n",
              "      border-radius: 50%;\n",
              "      cursor: pointer;\n",
              "      display: none;\n",
              "      fill: #1967D2;\n",
              "      height: 32px;\n",
              "      padding: 0 0 0 0;\n",
              "      width: 32px;\n",
              "    }\n",
              "\n",
              "    .colab-df-convert:hover {\n",
              "      background-color: #E2EBFA;\n",
              "      box-shadow: 0px 1px 2px rgba(60, 64, 67, 0.3), 0px 1px 3px 1px rgba(60, 64, 67, 0.15);\n",
              "      fill: #174EA6;\n",
              "    }\n",
              "\n",
              "    [theme=dark] .colab-df-convert {\n",
              "      background-color: #3B4455;\n",
              "      fill: #D2E3FC;\n",
              "    }\n",
              "\n",
              "    [theme=dark] .colab-df-convert:hover {\n",
              "      background-color: #434B5C;\n",
              "      box-shadow: 0px 1px 3px 1px rgba(0, 0, 0, 0.15);\n",
              "      filter: drop-shadow(0px 1px 2px rgba(0, 0, 0, 0.3));\n",
              "      fill: #FFFFFF;\n",
              "    }\n",
              "  </style>\n",
              "\n",
              "      <script>\n",
              "        const buttonEl =\n",
              "          document.querySelector('#df-4160f3d4-2347-4cfb-af85-904b63909ed7 button.colab-df-convert');\n",
              "        buttonEl.style.display =\n",
              "          google.colab.kernel.accessAllowed ? 'block' : 'none';\n",
              "\n",
              "        async function convertToInteractive(key) {\n",
              "          const element = document.querySelector('#df-4160f3d4-2347-4cfb-af85-904b63909ed7');\n",
              "          const dataTable =\n",
              "            await google.colab.kernel.invokeFunction('convertToInteractive',\n",
              "                                                     [key], {});\n",
              "          if (!dataTable) return;\n",
              "\n",
              "          const docLinkHtml = 'Like what you see? Visit the ' +\n",
              "            '<a target=\"_blank\" href=https://colab.research.google.com/notebooks/data_table.ipynb>data table notebook</a>'\n",
              "            + ' to learn more about interactive tables.';\n",
              "          element.innerHTML = '';\n",
              "          dataTable['output_type'] = 'display_data';\n",
              "          await google.colab.output.renderOutput(dataTable, element);\n",
              "          const docLink = document.createElement('div');\n",
              "          docLink.innerHTML = docLinkHtml;\n",
              "          element.appendChild(docLink);\n",
              "        }\n",
              "      </script>\n",
              "    </div>\n",
              "  </div>\n",
              "  "
            ]
          },
          "metadata": {},
          "execution_count": 25
        }
      ]
    },
    {
      "cell_type": "code",
      "source": [
        "# preparing the dataset in required format\n",
        "# assigning values to independent and dependent variable\n",
        "X = dataset.iloc[:,3:-1]\n",
        "Y = dataset.iloc[:,-1]\n",
        "print(X)\n",
        "print(Y)\n",
        "\n",
        "# Encoding the Categorical data\n",
        "\n",
        "from sklearn.preprocessing import LabelEncoder \n",
        "le = LabelEncoder()\n",
        "X.iloc[:, 2] = le.fit_transform(X.iloc[:, 2])\n",
        "\n",
        "# Encoding the Geography data with one hot encoder\n",
        "\n",
        "from sklearn.compose import ColumnTransformer\n",
        "from sklearn.preprocessing import OneHotEncoder\n",
        "ct = ColumnTransformer(transformers = [('encoder',OneHotEncoder(),[1])] , remainder = 'passthrough')\n",
        "X = np.array(ct.fit_transform(X))\n",
        "\n",
        "print(X)\n",
        "print(Y)"
      ],
      "metadata": {
        "colab": {
          "base_uri": "https://localhost:8080/"
        },
        "id": "o0g4ggRu02Gp",
        "outputId": "643ed4b3-2eb5-48b8-83b9-93b463345281"
      },
      "execution_count": null,
      "outputs": [
        {
          "output_type": "stream",
          "name": "stdout",
          "text": [
            "      CreditScore Geography  Gender  Age  Tenure    Balance  NumOfProducts  \\\n",
            "0             619    France  Female   42       2       0.00              1   \n",
            "1             608     Spain  Female   41       1   83807.86              1   \n",
            "2             502    France  Female   42       8  159660.80              3   \n",
            "3             699    France  Female   39       1       0.00              2   \n",
            "4             850     Spain  Female   43       2  125510.82              1   \n",
            "...           ...       ...     ...  ...     ...        ...            ...   \n",
            "9995          771    France    Male   39       5       0.00              2   \n",
            "9996          516    France    Male   35      10   57369.61              1   \n",
            "9997          709    France  Female   36       7       0.00              1   \n",
            "9998          772   Germany    Male   42       3   75075.31              2   \n",
            "9999          792    France  Female   28       4  130142.79              1   \n",
            "\n",
            "      HasCrCard  IsActiveMember  EstimatedSalary  \n",
            "0             1               1        101348.88  \n",
            "1             0               1        112542.58  \n",
            "2             1               0        113931.57  \n",
            "3             0               0         93826.63  \n",
            "4             1               1         79084.10  \n",
            "...         ...             ...              ...  \n",
            "9995          1               0         96270.64  \n",
            "9996          1               1        101699.77  \n",
            "9997          0               1         42085.58  \n",
            "9998          1               0         92888.52  \n",
            "9999          1               0         38190.78  \n",
            "\n",
            "[10000 rows x 10 columns]\n",
            "0       1\n",
            "1       0\n",
            "2       1\n",
            "3       0\n",
            "4       0\n",
            "       ..\n",
            "9995    0\n",
            "9996    0\n",
            "9997    1\n",
            "9998    1\n",
            "9999    0\n",
            "Name: Exited, Length: 10000, dtype: int64\n",
            "[[1.0000000e+00 0.0000000e+00 0.0000000e+00 ... 1.0000000e+00\n",
            "  1.0000000e+00 1.0134888e+05]\n",
            " [0.0000000e+00 0.0000000e+00 1.0000000e+00 ... 0.0000000e+00\n",
            "  1.0000000e+00 1.1254258e+05]\n",
            " [1.0000000e+00 0.0000000e+00 0.0000000e+00 ... 1.0000000e+00\n",
            "  0.0000000e+00 1.1393157e+05]\n",
            " ...\n",
            " [1.0000000e+00 0.0000000e+00 0.0000000e+00 ... 0.0000000e+00\n",
            "  1.0000000e+00 4.2085580e+04]\n",
            " [0.0000000e+00 1.0000000e+00 0.0000000e+00 ... 1.0000000e+00\n",
            "  0.0000000e+00 9.2888520e+04]\n",
            " [1.0000000e+00 0.0000000e+00 0.0000000e+00 ... 1.0000000e+00\n",
            "  0.0000000e+00 3.8190780e+04]]\n",
            "0       1\n",
            "1       0\n",
            "2       1\n",
            "3       0\n",
            "4       0\n",
            "       ..\n",
            "9995    0\n",
            "9996    0\n",
            "9997    1\n",
            "9998    1\n",
            "9999    0\n",
            "Name: Exited, Length: 10000, dtype: int64\n"
          ]
        }
      ]
    },
    {
      "cell_type": "code",
      "source": [
        "# Splitting the X and Y Dataset into the Training set and Test set\n",
        "# Splitting the dataset into 20% test data and 80% train data\n",
        "from sklearn.model_selection import train_test_split\n",
        "X_train,X_test,Y_train,Y_test=train_test_split(X,Y,test_size=0.2,random_state=0) "
      ],
      "metadata": {
        "id": "4oiPhqfx4Gka"
      },
      "execution_count": null,
      "outputs": []
    },
    {
      "cell_type": "code",
      "source": [
        "# Printing the splitted data\n",
        "print(\"X Train\\n\",X_train)\n",
        "print(\"Y Train\\n\",Y_train)\n",
        "print(\"X test\\n\",X_test)\n",
        "print(\"Y test\\n\",Y_test)"
      ],
      "metadata": {
        "colab": {
          "base_uri": "https://localhost:8080/"
        },
        "id": "cfXFODqB-wbp",
        "outputId": "5a3cdda9-c161-4b24-c780-ee8956c3af75"
      },
      "execution_count": null,
      "outputs": [
        {
          "output_type": "stream",
          "name": "stdout",
          "text": [
            "X Train\n",
            " [[0.0000000e+00 0.0000000e+00 1.0000000e+00 ... 1.0000000e+00\n",
            "  0.0000000e+00 1.6383064e+05]\n",
            " [0.0000000e+00 1.0000000e+00 0.0000000e+00 ... 1.0000000e+00\n",
            "  1.0000000e+00 5.7098000e+04]\n",
            " [1.0000000e+00 0.0000000e+00 0.0000000e+00 ... 1.0000000e+00\n",
            "  0.0000000e+00 1.8563076e+05]\n",
            " ...\n",
            " [1.0000000e+00 0.0000000e+00 0.0000000e+00 ... 1.0000000e+00\n",
            "  0.0000000e+00 1.8142987e+05]\n",
            " [0.0000000e+00 0.0000000e+00 1.0000000e+00 ... 1.0000000e+00\n",
            "  1.0000000e+00 1.4875016e+05]\n",
            " [0.0000000e+00 1.0000000e+00 0.0000000e+00 ... 1.0000000e+00\n",
            "  0.0000000e+00 1.1885526e+05]]\n",
            "Y Train\n",
            " 7389    0\n",
            "9275    0\n",
            "2995    0\n",
            "5316    0\n",
            "356     0\n",
            "       ..\n",
            "9225    0\n",
            "4859    0\n",
            "3264    0\n",
            "9845    0\n",
            "2732    1\n",
            "Name: Exited, Length: 8000, dtype: int64\n",
            "X test\n",
            " [[0.0000000e+00 1.0000000e+00 0.0000000e+00 ... 1.0000000e+00\n",
            "  1.0000000e+00 1.9285267e+05]\n",
            " [1.0000000e+00 0.0000000e+00 0.0000000e+00 ... 1.0000000e+00\n",
            "  0.0000000e+00 1.2870210e+05]\n",
            " [0.0000000e+00 0.0000000e+00 1.0000000e+00 ... 1.0000000e+00\n",
            "  1.0000000e+00 7.5732250e+04]\n",
            " ...\n",
            " [0.0000000e+00 0.0000000e+00 1.0000000e+00 ... 1.0000000e+00\n",
            "  0.0000000e+00 1.4153319e+05]\n",
            " [0.0000000e+00 1.0000000e+00 0.0000000e+00 ... 1.0000000e+00\n",
            "  1.0000000e+00 1.1276480e+04]\n",
            " [0.0000000e+00 1.0000000e+00 0.0000000e+00 ... 1.0000000e+00\n",
            "  0.0000000e+00 1.9295060e+05]]\n",
            "Y test\n",
            " 9394    0\n",
            "898     1\n",
            "2398    0\n",
            "5906    0\n",
            "2343    0\n",
            "       ..\n",
            "1037    0\n",
            "2899    0\n",
            "9549    0\n",
            "2740    0\n",
            "6690    0\n",
            "Name: Exited, Length: 2000, dtype: int64\n"
          ]
        }
      ]
    },
    {
      "cell_type": "code",
      "source": [
        "# Perform Feature Scaling - Standardizing the dataset\n",
        "from sklearn.preprocessing import StandardScaler\n",
        "sc=StandardScaler()\n",
        "X_train=sc.fit_transform(X_train)\n",
        "X_test=sc.transform(X_test)"
      ],
      "metadata": {
        "id": "7-UCb8Zh4Jsv"
      },
      "execution_count": null,
      "outputs": []
    },
    {
      "cell_type": "code",
      "source": [
        "# printing values after feature scaling\n",
        "print(\"X Train\\n\",X_train)\n",
        "print(\"X Test\\n\",X_test)"
      ],
      "metadata": {
        "colab": {
          "base_uri": "https://localhost:8080/"
        },
        "id": "6xhFK_Sg_o47",
        "outputId": "cdd70807-be86-472e-b591-9cca7de185d6"
      },
      "execution_count": null,
      "outputs": [
        {
          "output_type": "stream",
          "name": "stdout",
          "text": [
            "X Train\n",
            " [[-1.01460667 -0.5698444   1.74309049 ...  0.64259497 -1.03227043\n",
            "   1.10643166]\n",
            " [-1.01460667  1.75486502 -0.57369368 ...  0.64259497  0.9687384\n",
            "  -0.74866447]\n",
            " [ 0.98560362 -0.5698444  -0.57369368 ...  0.64259497 -1.03227043\n",
            "   1.48533467]\n",
            " ...\n",
            " [ 0.98560362 -0.5698444  -0.57369368 ...  0.64259497 -1.03227043\n",
            "   1.41231994]\n",
            " [-1.01460667 -0.5698444   1.74309049 ...  0.64259497  0.9687384\n",
            "   0.84432121]\n",
            " [-1.01460667  1.75486502 -0.57369368 ...  0.64259497 -1.03227043\n",
            "   0.32472465]]\n",
            "X Test\n",
            " [[-1.01460667  1.75486502 -0.57369368 ...  0.64259497  0.9687384\n",
            "   1.61085707]\n",
            " [ 0.98560362 -0.5698444  -0.57369368 ...  0.64259497 -1.03227043\n",
            "   0.49587037]\n",
            " [-1.01460667 -0.5698444   1.74309049 ...  0.64259497  0.9687384\n",
            "  -0.42478674]\n",
            " ...\n",
            " [-1.01460667 -0.5698444   1.74309049 ...  0.64259497 -1.03227043\n",
            "   0.71888467]\n",
            " [-1.01460667  1.75486502 -0.57369368 ...  0.64259497  0.9687384\n",
            "  -1.54507805]\n",
            " [-1.01460667  1.75486502 -0.57369368 ...  0.64259497 -1.03227043\n",
            "   1.61255917]]\n"
          ]
        }
      ]
    },
    {
      "cell_type": "markdown",
      "source": [
        "***Building the Artificial Neural Network***"
      ],
      "metadata": {
        "id": "afAf_ad2_94K"
      }
    },
    {
      "cell_type": "code",
      "source": [
        "# Importing keras\n",
        "import keras\n",
        "from keras.models import Sequential  \n",
        "from keras.layers import Dense"
      ],
      "metadata": {
        "id": "t0nfhBQJAGN2"
      },
      "execution_count": null,
      "outputs": []
    },
    {
      "cell_type": "markdown",
      "source": [
        "***Initializing the Artificial Neural Network***"
      ],
      "metadata": {
        "id": "82ZWTUHuAlzg"
      }
    },
    {
      "cell_type": "code",
      "source": [
        "ANN = Sequential()"
      ],
      "metadata": {
        "id": "FhK7sPEQArXP"
      },
      "execution_count": null,
      "outputs": []
    },
    {
      "cell_type": "markdown",
      "source": [
        "***Adding the input and first hidden layer***\n",
        "***\n",
        "1.   input layer nodes : X.shape[1]\n",
        "2.   1st hidden layer nodes : 20\n",
        "3.   Activation Function : Relu\n",
        "***"
      ],
      "metadata": {
        "id": "ZsEObD5pAxcL"
      }
    },
    {
      "cell_type": "code",
      "source": [
        "ANN.add(Dense(20,kernel_initializer='uniform',activation='relu',input_dim=X.shape[1]))"
      ],
      "metadata": {
        "id": "pdg-t6Tb4XrX"
      },
      "execution_count": null,
      "outputs": []
    },
    {
      "cell_type": "markdown",
      "source": [
        "***Adding the second hidden layer***\n",
        "***\n",
        "1.   input layer nodes : 20 (output of 1st hidden layer)\n",
        "2.   2nd hidden layer nodes : 20\n",
        "3.   Activation Function : Relu\n",
        "***\n"
      ],
      "metadata": {
        "id": "-qB3QpFkBNEo"
      }
    },
    {
      "cell_type": "code",
      "source": [
        "ANN.add(Dense(20,kernel_initializer='uniform',activation='relu',input_dim=20))"
      ],
      "metadata": {
        "id": "4GzOx70u4ulJ"
      },
      "execution_count": null,
      "outputs": []
    },
    {
      "cell_type": "markdown",
      "source": [
        "***Adding the output layer***\n",
        "***\n",
        "*   Output layer nodes : 1\n",
        "***"
      ],
      "metadata": {
        "id": "JabsUJ8qB22u"
      }
    },
    {
      "cell_type": "code",
      "source": [
        "ANN.add(Dense(1,kernel_initializer='uniform',activation='sigmoid'))"
      ],
      "metadata": {
        "id": "lbYf6-hl4yE6"
      },
      "execution_count": null,
      "outputs": []
    },
    {
      "cell_type": "markdown",
      "source": [
        "***Training the Artificial Neural Network***<br>\n",
        "***compile :***\n",
        "***\n",
        "*   optimizer : \"adam\" performs gradient descent\n",
        "*   cost function : binary_crossentropy\n",
        "\n",
        "***"
      ],
      "metadata": {
        "id": "OSlCaSusCExa"
      }
    },
    {
      "cell_type": "code",
      "source": [
        "ANN.compile(optimizer='adam',loss='binary_crossentropy',metrics=['accuracy'])"
      ],
      "metadata": {
        "id": "T_PWjLjp46Ss"
      },
      "execution_count": null,
      "outputs": []
    },
    {
      "cell_type": "markdown",
      "source": [
        "***Fitting the ANN to Training Set***"
      ],
      "metadata": {
        "id": "mvcLzeY6COpo"
      }
    },
    {
      "cell_type": "code",
      "source": [
        "ANN.fit(X_train,Y_train,epochs=200)"
      ],
      "metadata": {
        "colab": {
          "base_uri": "https://localhost:8080/"
        },
        "id": "I6B1STri48wZ",
        "outputId": "3b5dfb10-b516-495e-e7e9-eb21f9bab2eb"
      },
      "execution_count": null,
      "outputs": [
        {
          "output_type": "stream",
          "name": "stdout",
          "text": [
            "Epoch 1/200\n",
            "250/250 [==============================] - 1s 1ms/step - loss: 0.5045 - accuracy: 0.7954\n",
            "Epoch 2/200\n",
            "250/250 [==============================] - 0s 1ms/step - loss: 0.4275 - accuracy: 0.7960\n",
            "Epoch 3/200\n",
            "250/250 [==============================] - 0s 1ms/step - loss: 0.4218 - accuracy: 0.8040\n",
            "Epoch 4/200\n",
            "250/250 [==============================] - 0s 1ms/step - loss: 0.4160 - accuracy: 0.8255\n",
            "Epoch 5/200\n",
            "250/250 [==============================] - 0s 1ms/step - loss: 0.4123 - accuracy: 0.8313\n",
            "Epoch 6/200\n",
            "250/250 [==============================] - 0s 1ms/step - loss: 0.4097 - accuracy: 0.8347\n",
            "Epoch 7/200\n",
            "250/250 [==============================] - 0s 2ms/step - loss: 0.4066 - accuracy: 0.8363\n",
            "Epoch 8/200\n",
            "250/250 [==============================] - 0s 1ms/step - loss: 0.4045 - accuracy: 0.8353\n",
            "Epoch 9/200\n",
            "250/250 [==============================] - 0s 1ms/step - loss: 0.4029 - accuracy: 0.8349\n",
            "Epoch 10/200\n",
            "250/250 [==============================] - 0s 2ms/step - loss: 0.4015 - accuracy: 0.8360\n",
            "Epoch 11/200\n",
            "250/250 [==============================] - 0s 1ms/step - loss: 0.3999 - accuracy: 0.8353\n",
            "Epoch 12/200\n",
            "250/250 [==============================] - 0s 1ms/step - loss: 0.3989 - accuracy: 0.8380\n",
            "Epoch 13/200\n",
            "250/250 [==============================] - 0s 1ms/step - loss: 0.3987 - accuracy: 0.8356\n",
            "Epoch 14/200\n",
            "250/250 [==============================] - 0s 1ms/step - loss: 0.3967 - accuracy: 0.8366\n",
            "Epoch 15/200\n",
            "250/250 [==============================] - 0s 1ms/step - loss: 0.3969 - accuracy: 0.8372\n",
            "Epoch 16/200\n",
            "250/250 [==============================] - 0s 1ms/step - loss: 0.3960 - accuracy: 0.8361\n",
            "Epoch 17/200\n",
            "250/250 [==============================] - 0s 1ms/step - loss: 0.3960 - accuracy: 0.8379\n",
            "Epoch 18/200\n",
            "250/250 [==============================] - 0s 1ms/step - loss: 0.3957 - accuracy: 0.8370\n",
            "Epoch 19/200\n",
            "250/250 [==============================] - 0s 1ms/step - loss: 0.3939 - accuracy: 0.8365\n",
            "Epoch 20/200\n",
            "250/250 [==============================] - 0s 1ms/step - loss: 0.3944 - accuracy: 0.8372\n",
            "Epoch 21/200\n",
            "250/250 [==============================] - 0s 1ms/step - loss: 0.3939 - accuracy: 0.8380\n",
            "Epoch 22/200\n",
            "250/250 [==============================] - 0s 1ms/step - loss: 0.3934 - accuracy: 0.8384\n",
            "Epoch 23/200\n",
            "250/250 [==============================] - 0s 1ms/step - loss: 0.3934 - accuracy: 0.8363\n",
            "Epoch 24/200\n",
            "250/250 [==============================] - 0s 1ms/step - loss: 0.3935 - accuracy: 0.8364\n",
            "Epoch 25/200\n",
            "250/250 [==============================] - 0s 1ms/step - loss: 0.3927 - accuracy: 0.8375\n",
            "Epoch 26/200\n",
            "250/250 [==============================] - 0s 1ms/step - loss: 0.3926 - accuracy: 0.8393\n",
            "Epoch 27/200\n",
            "250/250 [==============================] - 0s 1ms/step - loss: 0.3920 - accuracy: 0.8378\n",
            "Epoch 28/200\n",
            "250/250 [==============================] - 0s 1ms/step - loss: 0.3920 - accuracy: 0.8381\n",
            "Epoch 29/200\n",
            "250/250 [==============================] - 0s 1ms/step - loss: 0.3915 - accuracy: 0.8378\n",
            "Epoch 30/200\n",
            "250/250 [==============================] - 0s 1ms/step - loss: 0.3910 - accuracy: 0.8372\n",
            "Epoch 31/200\n",
            "250/250 [==============================] - 0s 1ms/step - loss: 0.3909 - accuracy: 0.8365\n",
            "Epoch 32/200\n",
            "250/250 [==============================] - 0s 1ms/step - loss: 0.3907 - accuracy: 0.8394\n",
            "Epoch 33/200\n",
            "250/250 [==============================] - 0s 2ms/step - loss: 0.3905 - accuracy: 0.8367\n",
            "Epoch 34/200\n",
            "250/250 [==============================] - 0s 1ms/step - loss: 0.3902 - accuracy: 0.8390\n",
            "Epoch 35/200\n",
            "250/250 [==============================] - 0s 1ms/step - loss: 0.3898 - accuracy: 0.8378\n",
            "Epoch 36/200\n",
            "250/250 [==============================] - 0s 1ms/step - loss: 0.3894 - accuracy: 0.8385\n",
            "Epoch 37/200\n",
            "250/250 [==============================] - 0s 1ms/step - loss: 0.3890 - accuracy: 0.8391\n",
            "Epoch 38/200\n",
            "250/250 [==============================] - 0s 2ms/step - loss: 0.3897 - accuracy: 0.8382\n",
            "Epoch 39/200\n",
            "250/250 [==============================] - 0s 1ms/step - loss: 0.3877 - accuracy: 0.8390\n",
            "Epoch 40/200\n",
            "250/250 [==============================] - 0s 1ms/step - loss: 0.3878 - accuracy: 0.8401\n",
            "Epoch 41/200\n",
            "250/250 [==============================] - 0s 2ms/step - loss: 0.3872 - accuracy: 0.8385\n",
            "Epoch 42/200\n",
            "250/250 [==============================] - 0s 1ms/step - loss: 0.3870 - accuracy: 0.8404\n",
            "Epoch 43/200\n",
            "250/250 [==============================] - 0s 1ms/step - loss: 0.3850 - accuracy: 0.8401\n",
            "Epoch 44/200\n",
            "250/250 [==============================] - 0s 1ms/step - loss: 0.3822 - accuracy: 0.8418\n",
            "Epoch 45/200\n",
            "250/250 [==============================] - 0s 1ms/step - loss: 0.3744 - accuracy: 0.8454\n",
            "Epoch 46/200\n",
            "250/250 [==============================] - 0s 1ms/step - loss: 0.3589 - accuracy: 0.8555\n",
            "Epoch 47/200\n",
            "250/250 [==============================] - 0s 1ms/step - loss: 0.3484 - accuracy: 0.8602\n",
            "Epoch 48/200\n",
            "250/250 [==============================] - 0s 2ms/step - loss: 0.3422 - accuracy: 0.8644\n",
            "Epoch 49/200\n",
            "250/250 [==============================] - 0s 1ms/step - loss: 0.3381 - accuracy: 0.8637\n",
            "Epoch 50/200\n",
            "250/250 [==============================] - 0s 1ms/step - loss: 0.3377 - accuracy: 0.8639\n",
            "Epoch 51/200\n",
            "250/250 [==============================] - 0s 1ms/step - loss: 0.3349 - accuracy: 0.8643\n",
            "Epoch 52/200\n",
            "250/250 [==============================] - 0s 2ms/step - loss: 0.3341 - accuracy: 0.8651\n",
            "Epoch 53/200\n",
            "250/250 [==============================] - 0s 1ms/step - loss: 0.3334 - accuracy: 0.8655\n",
            "Epoch 54/200\n",
            "250/250 [==============================] - 0s 1ms/step - loss: 0.3319 - accuracy: 0.8658\n",
            "Epoch 55/200\n",
            "250/250 [==============================] - 0s 1ms/step - loss: 0.3314 - accuracy: 0.8649\n",
            "Epoch 56/200\n",
            "250/250 [==============================] - 0s 1ms/step - loss: 0.3311 - accuracy: 0.8649\n",
            "Epoch 57/200\n",
            "250/250 [==============================] - 0s 1ms/step - loss: 0.3306 - accuracy: 0.8658\n",
            "Epoch 58/200\n",
            "250/250 [==============================] - 0s 1ms/step - loss: 0.3300 - accuracy: 0.8654\n",
            "Epoch 59/200\n",
            "250/250 [==============================] - 0s 1ms/step - loss: 0.3292 - accuracy: 0.8680\n",
            "Epoch 60/200\n",
            "250/250 [==============================] - 0s 1ms/step - loss: 0.3301 - accuracy: 0.8671\n",
            "Epoch 61/200\n",
            "250/250 [==============================] - 0s 1ms/step - loss: 0.3289 - accuracy: 0.8681\n",
            "Epoch 62/200\n",
            "250/250 [==============================] - 0s 1ms/step - loss: 0.3288 - accuracy: 0.8652\n",
            "Epoch 63/200\n",
            "250/250 [==============================] - 0s 2ms/step - loss: 0.3282 - accuracy: 0.8650\n",
            "Epoch 64/200\n",
            "250/250 [==============================] - 0s 1ms/step - loss: 0.3270 - accuracy: 0.8686\n",
            "Epoch 65/200\n",
            "250/250 [==============================] - 0s 1ms/step - loss: 0.3272 - accuracy: 0.8668\n",
            "Epoch 66/200\n",
            "250/250 [==============================] - 0s 1ms/step - loss: 0.3268 - accuracy: 0.8679\n",
            "Epoch 67/200\n",
            "250/250 [==============================] - 0s 1ms/step - loss: 0.3253 - accuracy: 0.8686\n",
            "Epoch 68/200\n",
            "250/250 [==============================] - 0s 1ms/step - loss: 0.3259 - accuracy: 0.8668\n",
            "Epoch 69/200\n",
            "250/250 [==============================] - 0s 1ms/step - loss: 0.3257 - accuracy: 0.8686\n",
            "Epoch 70/200\n",
            "250/250 [==============================] - 0s 1ms/step - loss: 0.3259 - accuracy: 0.8683\n",
            "Epoch 71/200\n",
            "250/250 [==============================] - 0s 1ms/step - loss: 0.3249 - accuracy: 0.8690\n",
            "Epoch 72/200\n",
            "250/250 [==============================] - 0s 2ms/step - loss: 0.3255 - accuracy: 0.8656\n",
            "Epoch 73/200\n",
            "250/250 [==============================] - 0s 1ms/step - loss: 0.3246 - accuracy: 0.8679\n",
            "Epoch 74/200\n",
            "250/250 [==============================] - 0s 2ms/step - loss: 0.3245 - accuracy: 0.8706\n",
            "Epoch 75/200\n",
            "250/250 [==============================] - 0s 1ms/step - loss: 0.3239 - accuracy: 0.8683\n",
            "Epoch 76/200\n",
            "250/250 [==============================] - 0s 2ms/step - loss: 0.3233 - accuracy: 0.8687\n",
            "Epoch 77/200\n",
            "250/250 [==============================] - 0s 1ms/step - loss: 0.3233 - accuracy: 0.8704\n",
            "Epoch 78/200\n",
            "250/250 [==============================] - 0s 1ms/step - loss: 0.3227 - accuracy: 0.8698\n",
            "Epoch 79/200\n",
            "250/250 [==============================] - 0s 1ms/step - loss: 0.3230 - accuracy: 0.8702\n",
            "Epoch 80/200\n",
            "250/250 [==============================] - 0s 1ms/step - loss: 0.3229 - accuracy: 0.8712\n",
            "Epoch 81/200\n",
            "250/250 [==============================] - 0s 1ms/step - loss: 0.3213 - accuracy: 0.8715\n",
            "Epoch 82/200\n",
            "250/250 [==============================] - 0s 2ms/step - loss: 0.3226 - accuracy: 0.8683\n",
            "Epoch 83/200\n",
            "250/250 [==============================] - 0s 1ms/step - loss: 0.3214 - accuracy: 0.8690\n",
            "Epoch 84/200\n",
            "250/250 [==============================] - 0s 1ms/step - loss: 0.3215 - accuracy: 0.8699\n",
            "Epoch 85/200\n",
            "250/250 [==============================] - 0s 2ms/step - loss: 0.3215 - accuracy: 0.8696\n",
            "Epoch 86/200\n",
            "250/250 [==============================] - 0s 1ms/step - loss: 0.3211 - accuracy: 0.8698\n",
            "Epoch 87/200\n",
            "250/250 [==============================] - 0s 2ms/step - loss: 0.3209 - accuracy: 0.8701\n",
            "Epoch 88/200\n",
            "250/250 [==============================] - 0s 1ms/step - loss: 0.3205 - accuracy: 0.8692\n",
            "Epoch 89/200\n",
            "250/250 [==============================] - 0s 1ms/step - loss: 0.3211 - accuracy: 0.8696\n",
            "Epoch 90/200\n",
            "250/250 [==============================] - 0s 2ms/step - loss: 0.3199 - accuracy: 0.8698\n",
            "Epoch 91/200\n",
            "250/250 [==============================] - 0s 1ms/step - loss: 0.3204 - accuracy: 0.8702\n",
            "Epoch 92/200\n",
            "250/250 [==============================] - 0s 1ms/step - loss: 0.3201 - accuracy: 0.8683\n",
            "Epoch 93/200\n",
            "250/250 [==============================] - 0s 2ms/step - loss: 0.3198 - accuracy: 0.8702\n",
            "Epoch 94/200\n",
            "250/250 [==============================] - 0s 1ms/step - loss: 0.3189 - accuracy: 0.8701\n",
            "Epoch 95/200\n",
            "250/250 [==============================] - 0s 2ms/step - loss: 0.3185 - accuracy: 0.8716\n",
            "Epoch 96/200\n",
            "250/250 [==============================] - 0s 1ms/step - loss: 0.3194 - accuracy: 0.8708\n",
            "Epoch 97/200\n",
            "250/250 [==============================] - 0s 1ms/step - loss: 0.3187 - accuracy: 0.8694\n",
            "Epoch 98/200\n",
            "250/250 [==============================] - 0s 2ms/step - loss: 0.3188 - accuracy: 0.8706\n",
            "Epoch 99/200\n",
            "250/250 [==============================] - 0s 1ms/step - loss: 0.3188 - accuracy: 0.8694\n",
            "Epoch 100/200\n",
            "250/250 [==============================] - 0s 1ms/step - loss: 0.3188 - accuracy: 0.8721\n",
            "Epoch 101/200\n",
            "250/250 [==============================] - 0s 2ms/step - loss: 0.3185 - accuracy: 0.8694\n",
            "Epoch 102/200\n",
            "250/250 [==============================] - 0s 1ms/step - loss: 0.3186 - accuracy: 0.8704\n",
            "Epoch 103/200\n",
            "250/250 [==============================] - 0s 1ms/step - loss: 0.3180 - accuracy: 0.8702\n",
            "Epoch 104/200\n",
            "250/250 [==============================] - 0s 2ms/step - loss: 0.3173 - accuracy: 0.8726\n",
            "Epoch 105/200\n",
            "250/250 [==============================] - 0s 1ms/step - loss: 0.3182 - accuracy: 0.8696\n",
            "Epoch 106/200\n",
            "250/250 [==============================] - 0s 1ms/step - loss: 0.3171 - accuracy: 0.8725\n",
            "Epoch 107/200\n",
            "250/250 [==============================] - 0s 2ms/step - loss: 0.3182 - accuracy: 0.8690\n",
            "Epoch 108/200\n",
            "250/250 [==============================] - 0s 1ms/step - loss: 0.3172 - accuracy: 0.8712\n",
            "Epoch 109/200\n",
            "250/250 [==============================] - 0s 2ms/step - loss: 0.3171 - accuracy: 0.8702\n",
            "Epoch 110/200\n",
            "250/250 [==============================] - 0s 1ms/step - loss: 0.3167 - accuracy: 0.8700\n",
            "Epoch 111/200\n",
            "250/250 [==============================] - 0s 1ms/step - loss: 0.3181 - accuracy: 0.8705\n",
            "Epoch 112/200\n",
            "250/250 [==============================] - 0s 1ms/step - loss: 0.3178 - accuracy: 0.8690\n",
            "Epoch 113/200\n",
            "250/250 [==============================] - 0s 1ms/step - loss: 0.3172 - accuracy: 0.8708\n",
            "Epoch 114/200\n",
            "250/250 [==============================] - 0s 2ms/step - loss: 0.3161 - accuracy: 0.8704\n",
            "Epoch 115/200\n",
            "250/250 [==============================] - 0s 1ms/step - loss: 0.3163 - accuracy: 0.8692\n",
            "Epoch 116/200\n",
            "250/250 [==============================] - 0s 1ms/step - loss: 0.3170 - accuracy: 0.8708\n",
            "Epoch 117/200\n",
            "250/250 [==============================] - 0s 1ms/step - loss: 0.3161 - accuracy: 0.8706\n",
            "Epoch 118/200\n",
            "250/250 [==============================] - 0s 1ms/step - loss: 0.3165 - accuracy: 0.8699\n",
            "Epoch 119/200\n",
            "250/250 [==============================] - 0s 1ms/step - loss: 0.3160 - accuracy: 0.8712\n",
            "Epoch 120/200\n",
            "250/250 [==============================] - 0s 1ms/step - loss: 0.3156 - accuracy: 0.8727\n",
            "Epoch 121/200\n",
            "250/250 [==============================] - 0s 1ms/step - loss: 0.3160 - accuracy: 0.8710\n",
            "Epoch 122/200\n",
            "250/250 [==============================] - 0s 2ms/step - loss: 0.3163 - accuracy: 0.8705\n",
            "Epoch 123/200\n",
            "250/250 [==============================] - 0s 2ms/step - loss: 0.3159 - accuracy: 0.8701\n",
            "Epoch 124/200\n",
            "250/250 [==============================] - 0s 2ms/step - loss: 0.3154 - accuracy: 0.8717\n",
            "Epoch 125/200\n",
            "250/250 [==============================] - 0s 1ms/step - loss: 0.3158 - accuracy: 0.8726\n",
            "Epoch 126/200\n",
            "250/250 [==============================] - 0s 1ms/step - loss: 0.3148 - accuracy: 0.8725\n",
            "Epoch 127/200\n",
            "250/250 [==============================] - 0s 2ms/step - loss: 0.3152 - accuracy: 0.8715\n",
            "Epoch 128/200\n",
            "250/250 [==============================] - 0s 2ms/step - loss: 0.3155 - accuracy: 0.8719\n",
            "Epoch 129/200\n",
            "250/250 [==============================] - 0s 1ms/step - loss: 0.3144 - accuracy: 0.8726\n",
            "Epoch 130/200\n",
            "250/250 [==============================] - 0s 1ms/step - loss: 0.3155 - accuracy: 0.8709\n",
            "Epoch 131/200\n",
            "250/250 [==============================] - 0s 1ms/step - loss: 0.3149 - accuracy: 0.8715\n",
            "Epoch 132/200\n",
            "250/250 [==============================] - 0s 1ms/step - loss: 0.3147 - accuracy: 0.8731\n",
            "Epoch 133/200\n",
            "250/250 [==============================] - 0s 2ms/step - loss: 0.3143 - accuracy: 0.8724\n",
            "Epoch 134/200\n",
            "250/250 [==============================] - 0s 1ms/step - loss: 0.3157 - accuracy: 0.8725\n",
            "Epoch 135/200\n",
            "250/250 [==============================] - 0s 2ms/step - loss: 0.3143 - accuracy: 0.8729\n",
            "Epoch 136/200\n",
            "250/250 [==============================] - 0s 2ms/step - loss: 0.3150 - accuracy: 0.8725\n",
            "Epoch 137/200\n",
            "250/250 [==============================] - 0s 1ms/step - loss: 0.3147 - accuracy: 0.8717\n",
            "Epoch 138/200\n",
            "250/250 [==============================] - 0s 1ms/step - loss: 0.3138 - accuracy: 0.8730\n",
            "Epoch 139/200\n",
            "250/250 [==============================] - 0s 2ms/step - loss: 0.3139 - accuracy: 0.8710\n",
            "Epoch 140/200\n",
            "250/250 [==============================] - 0s 2ms/step - loss: 0.3147 - accuracy: 0.8723\n",
            "Epoch 141/200\n",
            "250/250 [==============================] - 0s 2ms/step - loss: 0.3144 - accuracy: 0.8706\n",
            "Epoch 142/200\n",
            "250/250 [==============================] - 0s 1ms/step - loss: 0.3135 - accuracy: 0.8701\n",
            "Epoch 143/200\n",
            "250/250 [==============================] - 0s 1ms/step - loss: 0.3132 - accuracy: 0.8724\n",
            "Epoch 144/200\n",
            "250/250 [==============================] - 0s 1ms/step - loss: 0.3137 - accuracy: 0.8727\n",
            "Epoch 145/200\n",
            "250/250 [==============================] - 0s 2ms/step - loss: 0.3137 - accuracy: 0.8725\n",
            "Epoch 146/200\n",
            "250/250 [==============================] - 0s 1ms/step - loss: 0.3134 - accuracy: 0.8723\n",
            "Epoch 147/200\n",
            "250/250 [==============================] - 0s 2ms/step - loss: 0.3138 - accuracy: 0.8726\n",
            "Epoch 148/200\n",
            "250/250 [==============================] - 0s 1ms/step - loss: 0.3129 - accuracy: 0.8739\n",
            "Epoch 149/200\n",
            "250/250 [==============================] - 0s 1ms/step - loss: 0.3130 - accuracy: 0.8706\n",
            "Epoch 150/200\n",
            "250/250 [==============================] - 0s 1ms/step - loss: 0.3129 - accuracy: 0.8726\n",
            "Epoch 151/200\n",
            "250/250 [==============================] - 0s 1ms/step - loss: 0.3129 - accuracy: 0.8719\n",
            "Epoch 152/200\n",
            "250/250 [==============================] - 0s 1ms/step - loss: 0.3125 - accuracy: 0.8751\n",
            "Epoch 153/200\n",
            "250/250 [==============================] - 0s 1ms/step - loss: 0.3135 - accuracy: 0.8695\n",
            "Epoch 154/200\n",
            "250/250 [==============================] - 0s 1ms/step - loss: 0.3125 - accuracy: 0.8720\n",
            "Epoch 155/200\n",
            "250/250 [==============================] - 0s 2ms/step - loss: 0.3132 - accuracy: 0.8730\n",
            "Epoch 156/200\n",
            "250/250 [==============================] - 0s 1ms/step - loss: 0.3135 - accuracy: 0.8731\n",
            "Epoch 157/200\n",
            "250/250 [==============================] - 0s 1ms/step - loss: 0.3138 - accuracy: 0.8709\n",
            "Epoch 158/200\n",
            "250/250 [==============================] - 0s 1ms/step - loss: 0.3136 - accuracy: 0.8700\n",
            "Epoch 159/200\n",
            "250/250 [==============================] - 0s 1ms/step - loss: 0.3116 - accuracy: 0.8724\n",
            "Epoch 160/200\n",
            "250/250 [==============================] - 0s 2ms/step - loss: 0.3121 - accuracy: 0.8733\n",
            "Epoch 161/200\n",
            "250/250 [==============================] - 0s 1ms/step - loss: 0.3124 - accuracy: 0.8727\n",
            "Epoch 162/200\n",
            "250/250 [==============================] - 0s 2ms/step - loss: 0.3126 - accuracy: 0.8749\n",
            "Epoch 163/200\n",
            "250/250 [==============================] - 0s 2ms/step - loss: 0.3119 - accuracy: 0.8723\n",
            "Epoch 164/200\n",
            "250/250 [==============================] - 0s 1ms/step - loss: 0.3111 - accuracy: 0.8734\n",
            "Epoch 165/200\n",
            "250/250 [==============================] - 0s 1ms/step - loss: 0.3122 - accuracy: 0.8729\n",
            "Epoch 166/200\n",
            "250/250 [==============================] - 0s 2ms/step - loss: 0.3123 - accuracy: 0.8721\n",
            "Epoch 167/200\n",
            "250/250 [==============================] - 0s 1ms/step - loss: 0.3114 - accuracy: 0.8733\n",
            "Epoch 168/200\n",
            "250/250 [==============================] - 0s 2ms/step - loss: 0.3115 - accuracy: 0.8710\n",
            "Epoch 169/200\n",
            "250/250 [==============================] - 0s 1ms/step - loss: 0.3122 - accuracy: 0.8727\n",
            "Epoch 170/200\n",
            "250/250 [==============================] - 0s 1ms/step - loss: 0.3118 - accuracy: 0.8730\n",
            "Epoch 171/200\n",
            "250/250 [==============================] - 0s 1ms/step - loss: 0.3116 - accuracy: 0.8739\n",
            "Epoch 172/200\n",
            "250/250 [==============================] - 0s 1ms/step - loss: 0.3117 - accuracy: 0.8724\n",
            "Epoch 173/200\n",
            "250/250 [==============================] - 0s 2ms/step - loss: 0.3115 - accuracy: 0.8735\n",
            "Epoch 174/200\n",
            "250/250 [==============================] - 0s 2ms/step - loss: 0.3116 - accuracy: 0.8717\n",
            "Epoch 175/200\n",
            "250/250 [==============================] - 0s 1ms/step - loss: 0.3119 - accuracy: 0.8736\n",
            "Epoch 176/200\n",
            "250/250 [==============================] - 0s 2ms/step - loss: 0.3111 - accuracy: 0.8731\n",
            "Epoch 177/200\n",
            "250/250 [==============================] - 0s 2ms/step - loss: 0.3109 - accuracy: 0.8733\n",
            "Epoch 178/200\n",
            "250/250 [==============================] - 0s 2ms/step - loss: 0.3111 - accuracy: 0.8731\n",
            "Epoch 179/200\n",
            "250/250 [==============================] - 0s 1ms/step - loss: 0.3113 - accuracy: 0.8712\n",
            "Epoch 180/200\n",
            "250/250 [==============================] - 0s 2ms/step - loss: 0.3105 - accuracy: 0.8716\n",
            "Epoch 181/200\n",
            "250/250 [==============================] - 0s 1ms/step - loss: 0.3107 - accuracy: 0.8719\n",
            "Epoch 182/200\n",
            "250/250 [==============================] - 0s 2ms/step - loss: 0.3108 - accuracy: 0.8721\n",
            "Epoch 183/200\n",
            "250/250 [==============================] - 0s 1ms/step - loss: 0.3104 - accuracy: 0.8735\n",
            "Epoch 184/200\n",
            "250/250 [==============================] - 0s 2ms/step - loss: 0.3109 - accuracy: 0.8741\n",
            "Epoch 185/200\n",
            "250/250 [==============================] - 0s 1ms/step - loss: 0.3099 - accuracy: 0.8752\n",
            "Epoch 186/200\n",
            "250/250 [==============================] - 0s 1ms/step - loss: 0.3105 - accuracy: 0.8729\n",
            "Epoch 187/200\n",
            "250/250 [==============================] - 0s 1ms/step - loss: 0.3111 - accuracy: 0.8727\n",
            "Epoch 188/200\n",
            "250/250 [==============================] - 0s 2ms/step - loss: 0.3110 - accuracy: 0.8714\n",
            "Epoch 189/200\n",
            "250/250 [==============================] - 0s 2ms/step - loss: 0.3105 - accuracy: 0.8731\n",
            "Epoch 190/200\n",
            "250/250 [==============================] - 0s 1ms/step - loss: 0.3100 - accuracy: 0.8741\n",
            "Epoch 191/200\n",
            "250/250 [==============================] - 0s 2ms/step - loss: 0.3101 - accuracy: 0.8755\n",
            "Epoch 192/200\n",
            "250/250 [==============================] - 0s 2ms/step - loss: 0.3099 - accuracy: 0.8754\n",
            "Epoch 193/200\n",
            "250/250 [==============================] - 0s 1ms/step - loss: 0.3104 - accuracy: 0.8756\n",
            "Epoch 194/200\n",
            "250/250 [==============================] - 0s 1ms/step - loss: 0.3104 - accuracy: 0.8742\n",
            "Epoch 195/200\n",
            "250/250 [==============================] - 0s 2ms/step - loss: 0.3100 - accuracy: 0.8741\n",
            "Epoch 196/200\n",
            "250/250 [==============================] - 0s 2ms/step - loss: 0.3099 - accuracy: 0.8739\n",
            "Epoch 197/200\n",
            "250/250 [==============================] - 0s 1ms/step - loss: 0.3100 - accuracy: 0.8726\n",
            "Epoch 198/200\n",
            "250/250 [==============================] - 0s 2ms/step - loss: 0.3094 - accuracy: 0.8739\n",
            "Epoch 199/200\n",
            "250/250 [==============================] - 0s 1ms/step - loss: 0.3090 - accuracy: 0.8751\n",
            "Epoch 200/200\n",
            "250/250 [==============================] - 0s 2ms/step - loss: 0.3095 - accuracy: 0.8755\n"
          ]
        },
        {
          "output_type": "execute_result",
          "data": {
            "text/plain": [
              "<keras.callbacks.History at 0x7f72e265ffd0>"
            ]
          },
          "metadata": {},
          "execution_count": 38
        }
      ]
    },
    {
      "cell_type": "markdown",
      "source": [
        "***Predicting the Test data Results***"
      ],
      "metadata": {
        "id": "U3cPGmzJCulA"
      }
    },
    {
      "cell_type": "code",
      "source": [
        "ANN.evaluate(X_test,Y_test)\n",
        "Y_pred=ANN.predict(X_test)\n",
        "Y_pred=(Y_pred>0.5)                   # output obtained by sigmoid function >0.5 is predicted as 1 and <0.5 is predicted as 0\n",
        "print(np.concatenate((Y_pred.reshape(len(Y_pred),1),np.array(Y_test).reshape(len(Y_test),1)),1))  # comparing the Y_test and Y_pred"
      ],
      "metadata": {
        "colab": {
          "base_uri": "https://localhost:8080/"
        },
        "id": "PoIYU_7dbcGn",
        "outputId": "60a9fc05-aa7c-494b-90c1-91de02b8ca08"
      },
      "execution_count": null,
      "outputs": [
        {
          "output_type": "stream",
          "name": "stdout",
          "text": [
            "63/63 [==============================] - 0s 1ms/step - loss: 0.3415 - accuracy: 0.8585\n",
            "[[0 0]\n",
            " [0 1]\n",
            " [0 0]\n",
            " ...\n",
            " [0 0]\n",
            " [0 0]\n",
            " [0 0]]\n"
          ]
        }
      ]
    },
    {
      "cell_type": "markdown",
      "source": [
        "***Making the Confusion Matrix for our prediction***"
      ],
      "metadata": {
        "id": "eU--adEhDFAa"
      }
    },
    {
      "cell_type": "code",
      "source": [
        "from sklearn.metrics import confusion_matrix,accuracy_score\n",
        "print(confusion_matrix(Y_test,Y_pred))\n",
        "print(\"Accuracy score : \",accuracy_score(Y_test,Y_pred))"
      ],
      "metadata": {
        "colab": {
          "base_uri": "https://localhost:8080/"
        },
        "id": "Opj7-OMQcJwN",
        "outputId": "63d70524-d924-48be-8ea7-385902aac362"
      },
      "execution_count": null,
      "outputs": [
        {
          "output_type": "stream",
          "name": "stdout",
          "text": [
            "[[1493  102]\n",
            " [ 181  224]]\n",
            "Accuracy score :  0.8585\n"
          ]
        }
      ]
    },
    {
      "cell_type": "markdown",
      "source": [
        "\n",
        "\n",
        "---\n",
        "\n"
      ],
      "metadata": {
        "id": "ZKKPNBliE4e3"
      }
    },
    {
      "cell_type": "markdown",
      "source": [
        "\n",
        "\n",
        "---\n",
        "\n"
      ],
      "metadata": {
        "id": "DY57FmFrE7a_"
      }
    }
  ]
}