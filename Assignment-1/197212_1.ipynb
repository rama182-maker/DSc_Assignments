{
  "nbformat": 4,
  "nbformat_minor": 0,
  "metadata": {
    "colab": {
      "name": "197212_1",
      "provenance": [],
      "collapsed_sections": []
    },
    "kernelspec": {
      "name": "python3",
      "display_name": "Python 3"
    },
    "language_info": {
      "name": "python"
    }
  },
  "cells": [
    {
      "cell_type": "code",
      "execution_count": null,
      "metadata": {
        "colab": {
          "base_uri": "https://localhost:8080/"
        },
        "id": "Nqq1EE0MW2NZ",
        "outputId": "4f9cfd04-e542-46e2-b633-35f71dc0de8c"
      },
      "outputs": [
        {
          "output_type": "stream",
          "name": "stdout",
          "text": [
            "number is : 1825\n",
            "number is : 3657\n"
          ]
        }
      ],
      "source": [
        "# declaring and assigning a number 1825 to n\n",
        "n = 1825\n",
        "# printing n which has value of 1825\n",
        "print(\"number is :\",n)\n",
        "\n",
        "# declaring and assigning a number 3657 to num\n",
        "num = 3657\n",
        "# printing n which has value of 3657\n",
        "print(\"number is :\",num);"
      ]
    },
    {
      "cell_type": "code",
      "source": [
        "# taking input of 1 st number as integer\n",
        "a = int(input(\"enter first number : \"))\n",
        "# taking input of 2 nd number as integer\n",
        "b = int(input(\"enter second number : \"))\n",
        "\n",
        "# storing sum of the entered numbers in a variable sum\n",
        "sum = a + b\n",
        "# printing the value in variable sum\n",
        "print(\"sum is :\", sum)"
      ],
      "metadata": {
        "colab": {
          "base_uri": "https://localhost:8080/"
        },
        "id": "y61y-nxiY8KN",
        "outputId": "6e013dae-f366-4899-b0ad-a13f975fc19a"
      },
      "execution_count": null,
      "outputs": [
        {
          "output_type": "stream",
          "name": "stdout",
          "text": [
            "enter first number : 3\n",
            "enter second number : 5\n",
            "sum is : 8\n"
          ]
        }
      ]
    },
    {
      "cell_type": "code",
      "source": [
        "# taking year as input\n",
        "year=int(input(\"Enter year to be checked :\"))\n",
        "\n",
        "# checing the condition for leap year\n",
        "if(year%4==0 and year%100!=0 or year%400==0):\n",
        "    print(\"The year is a leap year!\")\n",
        "else:\n",
        "    print(\"The year isn't a leap year!\")"
      ],
      "metadata": {
        "colab": {
          "base_uri": "https://localhost:8080/"
        },
        "id": "yAwiJ7lnaq8T",
        "outputId": "c347a62d-3a38-4cbe-c13f-7ca91d800f06"
      },
      "execution_count": null,
      "outputs": [
        {
          "output_type": "stream",
          "name": "stdout",
          "text": [
            "Enter year to be checked :2022\n",
            "The year isn't a leap year!\n"
          ]
        }
      ]
    },
    {
      "cell_type": "code",
      "source": [
        "# taking input from user\n",
        "x = int(input('Enter value of x : '))\n",
        "y = int(input('Enter value of y : '))\n",
        "\n",
        "# create a temporary variable and swaping the values\n",
        "temp = x\n",
        "x = y\n",
        "y = temp\n",
        "\n",
        "# printing the swapped values\n",
        "print('The value of x after swapping : ',x)\n",
        "print('The value of y after swapping : ',y)\n"
      ],
      "metadata": {
        "colab": {
          "base_uri": "https://localhost:8080/"
        },
        "id": "rh50h7jPbaEd",
        "outputId": "8951f6dd-6907-44f5-c3a4-2d7e1816f40a"
      },
      "execution_count": null,
      "outputs": [
        {
          "output_type": "stream",
          "name": "stdout",
          "text": [
            "Enter value of x : 5\n",
            "Enter value of y : 8\n",
            "The value of x after swapping :  8\n",
            "The value of y after swapping :  5\n"
          ]
        }
      ]
    },
    {
      "cell_type": "code",
      "source": [
        "# taking input from user\n",
        "x = int(input('Enter value of x : '))\n",
        "y = int(input('Enter value of y : '))\n",
        "\n",
        "# swap code using mul and div\n",
        "x = x * y\n",
        "y = x / y\n",
        "x = x / y\n",
        "\n",
        "# printing the swapped values\n",
        "print('The value of x after swapping : ',x)\n",
        "print('The value of y after swapping : ',y)\n"
      ],
      "metadata": {
        "colab": {
          "base_uri": "https://localhost:8080/"
        },
        "id": "pEEOOOkIb6wl",
        "outputId": "315df29c-4b1d-4b25-a435-5218ee8f8f9f"
      },
      "execution_count": null,
      "outputs": [
        {
          "output_type": "stream",
          "name": "stdout",
          "text": [
            "Enter value of x : 3\n",
            "Enter value of y : 7\n",
            "The value of x after swapping :  7.0\n",
            "The value of y after swapping :  3.0\n"
          ]
        }
      ]
    },
    {
      "cell_type": "code",
      "source": [
        "# taking a character as input\n",
        "ch = input(\"Enter a character : \")\n",
        "\n",
        "# used ord() function to convert a character to an integer (ASCII value)\n",
        "print(\"The ASCII value of '\" + ch + \"' : \", ord(ch))"
      ],
      "metadata": {
        "colab": {
          "base_uri": "https://localhost:8080/"
        },
        "id": "aQkf9qhPeYeh",
        "outputId": "0b8e809a-c0df-44f5-915c-568534786ca5"
      },
      "execution_count": null,
      "outputs": [
        {
          "output_type": "stream",
          "name": "stdout",
          "text": [
            "Enter a character : z\n",
            "The ASCII value of 'z' :  122\n"
          ]
        }
      ]
    },
    {
      "cell_type": "code",
      "source": [
        "# taking a number as input\n",
        "num = int(input(\"Enter a number : \"))\n",
        "\n",
        "# doing the square root operation\n",
        "sqrt = num ** 0.5\n",
        "print(\"square root:\", sqrt)"
      ],
      "metadata": {
        "colab": {
          "base_uri": "https://localhost:8080/"
        },
        "id": "u2N3V_1rfJP3",
        "outputId": "cb3badf6-9869-4331-f3ff-1f8fc4abe9ca"
      },
      "execution_count": null,
      "outputs": [
        {
          "output_type": "stream",
          "name": "stdout",
          "text": [
            "Enter a number : 64\n",
            "square root: 8.0\n"
          ]
        }
      ]
    },
    {
      "cell_type": "code",
      "source": [
        "import random # importing a package (random)\n",
        "a = random.randint(0,15) #generating a random interger from pakage\n",
        "print(\"Random number generated is : \",a)"
      ],
      "metadata": {
        "colab": {
          "base_uri": "https://localhost:8080/"
        },
        "id": "WUl0H9zHfhTs",
        "outputId": "66eacf11-f587-4090-864e-728f7bd5b532"
      },
      "execution_count": null,
      "outputs": [
        {
          "output_type": "stream",
          "name": "stdout",
          "text": [
            "Random number generated is :  6\n"
          ]
        }
      ]
    },
    {
      "cell_type": "code",
      "source": [
        "numlist = [10,11,12,13,14,15,16,17,18,19]\n",
        "\n",
        "#since after 5th index considering from 6th index\n",
        "print(\"Elements after 5th index : \",numlist[6:]) \n",
        "\n",
        "#since before 6th index considering from  0th to 5th index\n",
        "print(\"Elements before 6th index : \",numlist[:6])\n",
        "\n",
        "#considering 2nd and 8th index aswell\n",
        "print(\"Elements between 2nd and 8th indices : \",numlist[2:9])"
      ],
      "metadata": {
        "colab": {
          "base_uri": "https://localhost:8080/"
        },
        "id": "E5QzQpIWg6Zi",
        "outputId": "e61f3cb3-b3fb-4782-fbf8-ab51e3935cf4"
      },
      "execution_count": null,
      "outputs": [
        {
          "output_type": "stream",
          "name": "stdout",
          "text": [
            "Elements after 5th index :  [16, 17, 18, 19]\n",
            "Elements before 6th index :  [10, 11, 12, 13, 14, 15]\n",
            "Elements between 2nd and 8th indices :  [12, 13, 14, 15, 16, 17, 18]\n"
          ]
        }
      ]
    },
    {
      "cell_type": "code",
      "source": [
        "print(\"Area of a triangle using sides\")\n",
        "\n",
        "# taking the length of sides as inputs\n",
        "a = float(input('Enter first side : '))\n",
        "b = float(input('Enter second side : '))\n",
        "c = float(input('Enter third side : '))\n",
        "\n",
        "# calculating the semi-perimeter\n",
        "s = (a + b + c) / 2\n",
        "\n",
        "# calculating the area\n",
        "area1 = (s*(s-a)*(s-b)*(s-c)) ** 0.5\n",
        "print('The area of the triangle is : %0.2f ' %area1)\n",
        "\n",
        "print()\n",
        "print(\"Area of a triangle using height and base\")\n",
        "\n",
        "# taking base and height lengths as inputs\n",
        "height = float(input('Enter height of the triangle : '))\n",
        "base = float(input('Enter base of the triangle : '))\n",
        "\n",
        "#calculating area from formula 1/2bh\n",
        "area2= 0.5*base*height\n",
        "print('The area of the triangle is : %0.2f ' %area2)"
      ],
      "metadata": {
        "colab": {
          "base_uri": "https://localhost:8080/"
        },
        "id": "ALMTJilLgECr",
        "outputId": "21c2f83c-c1f4-4b22-8312-4d4e5e293eb7"
      },
      "execution_count": null,
      "outputs": [
        {
          "output_type": "stream",
          "name": "stdout",
          "text": [
            "Area of a triangle using sides\n",
            "Enter first side : 6\n",
            "Enter second side : 8\n",
            "Enter third side : 10\n",
            "The area of the triangle is : 24.00 \n",
            "\n",
            "Area of a triangle using height and base\n",
            "Enter height of the triangle : 8\n",
            "Enter base of the triangle : 6\n",
            "The area of the triangle is : 24.00 \n"
          ]
        }
      ]
    }
  ]
}