{
  "nbformat": 4,
  "nbformat_minor": 0,
  "metadata": {
    "colab": {
      "name": "197212_4",
      "provenance": [],
      "collapsed_sections": []
    },
    "kernelspec": {
      "name": "python3",
      "display_name": "Python 3"
    },
    "language_info": {
      "name": "python"
    }
  },
  "cells": [
    {
      "cell_type": "markdown",
      "source": [
        "**Assignment 4**\n",
        "\n",
        "**Name : Ramakrishna Reddy Are**\n",
        "\n",
        "**Roll No : 197212**\n",
        "\n",
        "**Section : BTech III year CSE-B**\n",
        "\n",
        "**Date : 04-02-2022**"
      ],
      "metadata": {
        "id": "RuX_dV9XX-_4"
      }
    },
    {
      "cell_type": "markdown",
      "source": [
        "**Polynomial Regression**"
      ],
      "metadata": {
        "id": "MooU45GaYPTZ"
      }
    },
    {
      "cell_type": "code",
      "source": [
        "# import the required libraries\n",
        "import pandas as pd                                             # importing pandas as pd\n",
        "import numpy as np                                              # importing numpy as np     \n",
        "import matplotlib.pyplot as plt                                 # importing matplotlib.pyplot as plt"
      ],
      "metadata": {
        "id": "_arawXzcYT4p"
      },
      "execution_count": 35,
      "outputs": []
    },
    {
      "cell_type": "markdown",
      "source": [
        "**Using Dataset**\n",
        "[Position_Salaries.csv](https://www.kaggle.com/jaypradipshah/polynomial-regression-from-scratch/data?select=Position_Salaries.csv)"
      ],
      "metadata": {
        "id": "jrLhaJzmrq8U"
      }
    },
    {
      "cell_type": "code",
      "source": [
        "dataset=pd.read_csv(\"Position_Salaries.csv\")                    # importing the dataset using read_csv                    "
      ],
      "metadata": {
        "id": "h50XMO7_Zzlg"
      },
      "execution_count": 36,
      "outputs": []
    },
    {
      "cell_type": "code",
      "source": [
        "print(dataset)                                                  # printing the dataset"
      ],
      "metadata": {
        "colab": {
          "base_uri": "https://localhost:8080/"
        },
        "id": "Cjs1iJVRarGA",
        "outputId": "3fd2c39f-6f3b-41c4-9615-ae3de026611c"
      },
      "execution_count": 37,
      "outputs": [
        {
          "output_type": "stream",
          "name": "stdout",
          "text": [
            "            Position  Level   Salary\n",
            "0   Business Analyst      1    45000\n",
            "1  Junior Consultant      2    50000\n",
            "2  Senior Consultant      3    60000\n",
            "3            Manager      4    80000\n",
            "4    Country Manager      5   110000\n",
            "5     Region Manager      6   150000\n",
            "6            Partner      7   200000\n",
            "7     Senior Partner      8   300000\n",
            "8            C-level      9   500000\n",
            "9                CEO     10  1000000\n"
          ]
        }
      ]
    },
    {
      "cell_type": "code",
      "source": [
        "# assigning independent and dependent variable to X and Y\n",
        "X=np.asarray(dataset['Level'],dtype='float')                                          # assigning X0 and Level columns to independent variable X\n",
        "Y=np.asarray(dataset['Salary'],dtype='float')                                         # assigning the salary to dependent variable Y\n",
        "print(X)                                                                              # printing values of X\n",
        "print(Y)                                                                              # printing values of Y"
      ],
      "metadata": {
        "colab": {
          "base_uri": "https://localhost:8080/"
        },
        "id": "aB4cwUhCarOf",
        "outputId": "9179e18e-f2ec-405a-e3c9-730ccbe3d3ec"
      },
      "execution_count": 38,
      "outputs": [
        {
          "output_type": "stream",
          "name": "stdout",
          "text": [
            "[ 1.  2.  3.  4.  5.  6.  7.  8.  9. 10.]\n",
            "[  45000.   50000.   60000.   80000.  110000.  150000.  200000.  300000.\n",
            "  500000. 1000000.]\n"
          ]
        }
      ]
    },
    {
      "cell_type": "code",
      "source": [
        "# for forming a polynomial using features\n",
        "def Polynomialdegree(X,n):                                                      # function to form a polynomial and return it\n",
        "  Y=np.ones(len(X))                                                             # Y is a temp array to return \n",
        "  for i in range(2,n+1):                                                        # Y is having all the arrays raised to the power\n",
        "    Y=np.c_[Y,X**i]\n",
        "  return Y                                                                      # Y is having the features raised to respective powers"
      ],
      "metadata": {
        "id": "aoSCvYDsbE1M"
      },
      "execution_count": 39,
      "outputs": []
    },
    {
      "cell_type": "code",
      "source": [
        "# forming features for given degree\n",
        "X=Polynomialdegree(X,3)\n",
        "print(X)"
      ],
      "metadata": {
        "colab": {
          "base_uri": "https://localhost:8080/"
        },
        "id": "d96GuYGDeMyF",
        "outputId": "5db07929-efa5-4103-b4d0-c8725ab610ea"
      },
      "execution_count": 40,
      "outputs": [
        {
          "output_type": "stream",
          "name": "stdout",
          "text": [
            "[[   1.    1.    1.]\n",
            " [   1.    4.    8.]\n",
            " [   1.    9.   27.]\n",
            " [   1.   16.   64.]\n",
            " [   1.   25.  125.]\n",
            " [   1.   36.  216.]\n",
            " [   1.   49.  343.]\n",
            " [   1.   64.  512.]\n",
            " [   1.   81.  729.]\n",
            " [   1.  100. 1000.]]\n"
          ]
        }
      ]
    },
    {
      "cell_type": "code",
      "source": [
        "# standardizing the dataset\n",
        "m=len(X)\n",
        "n=X.shape[1]\n",
        "for i in range(n):\n",
        "  mean=0                                                        # for mean of each column\n",
        "  sd=0                                                          # for standard deviation of each column\n",
        "  for j in range(m):\n",
        "    mean+=X[j][i]\n",
        "  mean = mean/m                                                 # finding mean of each column\n",
        "  for j in range(m):\n",
        "    sd+=((X[j][i]-mean)**2)                          \n",
        "  sd=sd/(m-1)\n",
        "  sd = np.sqrt(sd)                                              # finding standard deviation of each column\n",
        "  for j in range(m):\n",
        "    cell=X[j][i]\n",
        "    if(sd>0):\n",
        "      X[j][i]=(cell-mean)/sd                                    # replacing the data in the dataset with standardized value"
      ],
      "metadata": {
        "id": "5Lu6ON8NnbSA"
      },
      "execution_count": 41,
      "outputs": []
    },
    {
      "cell_type": "code",
      "source": [
        "def polynomialregression(X,Y,alpha,epochs):             # alpha is the learning rate or step length and epochs is the number of iterations to train the data\n",
        "  theta = np.zeros(X.shape[1])                          # initializing all the coefficients with 0s   \n",
        "  m = (int)(len(X))                                     # size of the training data\n",
        "  for i in range(epochs):\n",
        "    h = X.dot(theta)                                    # h is the predicted value by the present coefficients\n",
        "    pdtheta = X.T.dot(h-Y)                              # value of partial derivative wrt theta                                  \n",
        "    theta = theta - alpha*pdtheta/m                     # updating the value of theta at every iteration\n",
        "  return theta                                          # returning the coefficients of xi"
      ],
      "metadata": {
        "id": "6Kf0yAA4lUvI"
      },
      "execution_count": 42,
      "outputs": []
    },
    {
      "cell_type": "code",
      "source": [
        "theta=polynomialregression(X,Y,0.1,1000)                # finding the coefficients of polynomial\n",
        "print(theta)                                            # printing values of coefficients"
      ],
      "metadata": {
        "colab": {
          "base_uri": "https://localhost:8080/"
        },
        "id": "7bqgQVLelyMp",
        "outputId": "ffd40cdb-8783-44e7-8073-ce602c255655"
      },
      "execution_count": 43,
      "outputs": [
        {
          "output_type": "stream",
          "name": "stdout",
          "text": [
            "[ 249500.         -238070.38814719  518959.28677209]\n"
          ]
        }
      ]
    },
    {
      "cell_type": "code",
      "source": [
        "def predicted(X,theta):                                 # predicting the value of X \n",
        "  return X.dot(theta)\n",
        "Y_pred=predicted(X,theta)                               # predicting the values using X and coefficients\n",
        "print(Y_pred)                                           # printing the predicted values"
      ],
      "metadata": {
        "colab": {
          "base_uri": "https://localhost:8080/"
        },
        "id": "iqPFTlQGrC4J",
        "outputId": "99d2b77f-5175-4134-9227-b8b4bb73e30f"
      },
      "execution_count": 44,
      "outputs": [
        {
          "output_type": "stream",
          "name": "stdout",
          "text": [
            "[ 55540.76836331  45209.81804931  39063.39685986  46160.27424998\n",
            "  75559.21967464 136319.00258887 237498.39244766 388156.15870601\n",
            " 597351.07081893 874141.89824141]\n"
          ]
        }
      ]
    },
    {
      "cell_type": "code",
      "source": [
        "# plotting the graph of scatter points and regression line\n",
        "plt.scatter(X[:,1], Y, color = 'red')                                              # plotting graph of training dataset of scatter points color = red\n",
        "plt.plot(X[:,1], Y_pred, color = 'blue')                                           # plotting the regression line after predicting the training data\n",
        "plt.title('Levels vs Salary (Training set)')                                       # giving the title to the graph\n",
        "plt.xlabel('Levels')                                                               # labelling the x-coordinate of graph\n",
        "plt.ylabel('Salary')                                                               # labelling the y-coordinate of graph\n",
        "plt.show()                                                                         # plotting the graph"
      ],
      "metadata": {
        "colab": {
          "base_uri": "https://localhost:8080/",
          "height": 295
        },
        "id": "mYyHhFLKuydt",
        "outputId": "8a6e1d96-fd6d-46eb-8bac-6176d2b94f62"
      },
      "execution_count": 45,
      "outputs": [
        {
          "output_type": "display_data",
          "data": {
            "image/png": "[encoded data removed]",
            "text/plain": [
              "<Figure size 432x288 with 1 Axes>"
            ]
          },
          "metadata": {
            "needs_background": "light"
          }
        }
      ]
    },
    {
      "cell_type": "code",
      "source": [
        "# Calculate the error / accuracy of the model using root mean squared error\n",
        "n=(int)(len(Y))                                           # size of the test dataset\n",
        "mae=0                                                     # mean absolute error\n",
        "rms=0                                                     # root mean squared error\n",
        "for i in range(n):                            \n",
        "  mae+=abs(Y[i]-Y_pred[i])                                # calculating mean absolute error\n",
        "  rms+=(Y[i]-Y_pred[i])**2                                # calculating root mean square error\n",
        "mae/=n                                                    # calculating mean absolute error\n",
        "rms/=n                                                    # calculating root mean square error\n",
        "mae=float(mae)\n",
        "rms=np.sqrt(rms)\n",
        "rms=float(rms)\n",
        "print(\"Mean Absolute Error : \",mae)                       # printing mean absolute error\n",
        "print(\"Root Mean Squared Error : \",rms)                   # printing root mean square error"
      ],
      "metadata": {
        "colab": {
          "base_uri": "https://localhost:8080/"
        },
        "id": "ybRAgS4ZtN7I",
        "outputId": "1cf72395-76ed-4ab0-e314-3b94a4afaa35"
      },
      "execution_count": 46,
      "outputs": [
        {
          "output_type": "stream",
          "name": "stdout",
          "text": [
            "Mean Absolute Error :  46709.278067184125\n",
            "Root Mean Squared Error :  61307.4135746267\n"
          ]
        }
      ]
    }
  ]
}