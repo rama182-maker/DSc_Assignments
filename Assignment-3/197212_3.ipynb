{
  "nbformat": 4,
  "nbformat_minor": 0,
  "metadata": {
    "colab": {
      "name": "197212_3.ipynb",
      "provenance": [],
      "collapsed_sections": []
    },
    "kernelspec": {
      "name": "python3",
      "display_name": "Python 3"
    },
    "language_info": {
      "name": "python"
    }
  },
  "cells": [
    {
      "cell_type": "markdown",
      "source": [
        "**1. Write a python program to print all the prime numbers between 1 to 1000 using loop.**\n",
        "\n"
      ],
      "metadata": {
        "id": "fJcwfVshFiQC"
      }
    },
    {
      "cell_type": "code",
      "execution_count": null,
      "metadata": {
        "colab": {
          "base_uri": "https://localhost:8080/"
        },
        "id": "6cQnZfLSnZuP",
        "outputId": "871277bc-f1cf-41e5-f8d7-177ac2a9346c"
      },
      "outputs": [
        {
          "output_type": "stream",
          "name": "stdout",
          "text": [
            "All Prime numbers between 1 and 1000 are:\n",
            "2\n",
            "3\n",
            "5\n",
            "7\n",
            "11\n",
            "13\n",
            "17\n",
            "19\n",
            "23\n",
            "29\n",
            "31\n",
            "37\n",
            "41\n",
            "43\n",
            "47\n",
            "53\n",
            "59\n",
            "61\n",
            "67\n",
            "71\n",
            "73\n",
            "79\n",
            "83\n",
            "89\n",
            "97\n",
            "101\n",
            "103\n",
            "107\n",
            "109\n",
            "113\n",
            "127\n",
            "131\n",
            "137\n",
            "139\n",
            "149\n",
            "151\n",
            "157\n",
            "163\n",
            "167\n",
            "173\n",
            "179\n",
            "181\n",
            "191\n",
            "193\n",
            "197\n",
            "199\n",
            "211\n",
            "223\n",
            "227\n",
            "229\n",
            "233\n",
            "239\n",
            "241\n",
            "251\n",
            "257\n",
            "263\n",
            "269\n",
            "271\n",
            "277\n",
            "281\n",
            "283\n",
            "293\n",
            "307\n",
            "311\n",
            "313\n",
            "317\n",
            "331\n",
            "337\n",
            "347\n",
            "349\n",
            "353\n",
            "359\n",
            "367\n",
            "373\n",
            "379\n",
            "383\n",
            "389\n",
            "397\n",
            "401\n",
            "409\n",
            "419\n",
            "421\n",
            "431\n",
            "433\n",
            "439\n",
            "443\n",
            "449\n",
            "457\n",
            "461\n",
            "463\n",
            "467\n",
            "479\n",
            "487\n",
            "491\n",
            "499\n",
            "503\n",
            "509\n",
            "521\n",
            "523\n",
            "541\n",
            "547\n",
            "557\n",
            "563\n",
            "569\n",
            "571\n",
            "577\n",
            "587\n",
            "593\n",
            "599\n",
            "601\n",
            "607\n",
            "613\n",
            "617\n",
            "619\n",
            "631\n",
            "641\n",
            "643\n",
            "647\n",
            "653\n",
            "659\n",
            "661\n",
            "673\n",
            "677\n",
            "683\n",
            "691\n",
            "701\n",
            "709\n",
            "719\n",
            "727\n",
            "733\n",
            "739\n",
            "743\n",
            "751\n",
            "757\n",
            "761\n",
            "769\n",
            "773\n",
            "787\n",
            "797\n",
            "809\n",
            "811\n",
            "821\n",
            "823\n",
            "827\n",
            "829\n",
            "839\n",
            "853\n",
            "857\n",
            "859\n",
            "863\n",
            "877\n",
            "881\n",
            "883\n",
            "887\n",
            "907\n",
            "911\n",
            "919\n",
            "929\n",
            "937\n",
            "941\n",
            "947\n",
            "953\n",
            "967\n",
            "971\n",
            "977\n",
            "983\n",
            "991\n",
            "997\n"
          ]
        }
      ],
      "source": [
        "# Initializing start and end\n",
        "starting = 1\n",
        "ending = 1000\n",
        "\n",
        "# Defining Function for checking Prime number\n",
        "def is_prime_number(n):\n",
        "    if n > starting:\n",
        "        for y in range(starting+1,n):\n",
        "            if not ( n % y ):\n",
        "                return False\n",
        "    else:\n",
        "\t        return False\n",
        "    return True\n",
        "\n",
        "# Checking all numbers in the range and printing if it is prime\n",
        "print(\"All Prime numbers between\", starting, \"and\", ending, \"are:\")\n",
        "for num in range(starting, ending + 1):\n",
        "   if is_prime_number(num) :\n",
        "     print(num)"
      ]
    },
    {
      "cell_type": "markdown",
      "source": [
        "**2. Use python programming to implement bubble sort. [define a function to perform the sorting and\n",
        "take the input from the user; for each passes display pass number and the respective sorted array]**"
      ],
      "metadata": {
        "id": "63CUzICtFzgq"
      }
    },
    {
      "cell_type": "code",
      "source": [
        "# Defining Function for Bubble Sort\n",
        "\n",
        "def BubbleSort(arr,n):\n",
        "  for i in range(n-1):\n",
        "    for j in range(0, n-i-1):\n",
        "      if arr[j] > arr[j+1]:\n",
        "        arr[j], arr[j+1] = arr[j+1], arr[j]\n",
        "\n",
        "    print(\"Pass #\" + str(i+1) + \" : \",end = \" \")    # Printing Passes\n",
        "    print(arr)\n",
        "\n",
        "n = int(input(\"Enter the size of array : \"))\n",
        "arr = []\n",
        "print(\"Enter elements of array : \")\n",
        "for i in range(n):\n",
        "  x = int(input())\n",
        "  arr.append(x)\n",
        "print(\"Entered array is : \")\n",
        "print(arr)\n",
        "BubbleSort(arr,n)"
      ],
      "metadata": {
        "colab": {
          "base_uri": "https://localhost:8080/"
        },
        "id": "PLdlgQUxoVQB",
        "outputId": "17aaa770-99d5-48e4-b3e9-11d365e17d65"
      },
      "execution_count": null,
      "outputs": [
        {
          "output_type": "stream",
          "name": "stdout",
          "text": [
            "Enter the size of array : 6\n",
            "Enter elements of array : \n",
            "3\n",
            "6\n",
            "1\n",
            "4\n",
            "8\n",
            "2\n",
            "Entered array is : \n",
            "[3, 6, 1, 4, 8, 2]\n",
            "Pass #1 :  [3, 1, 4, 6, 2, 8]\n",
            "Pass #2 :  [1, 3, 4, 2, 6, 8]\n",
            "Pass #3 :  [1, 3, 2, 4, 6, 8]\n",
            "Pass #4 :  [1, 2, 3, 4, 6, 8]\n",
            "Pass #5 :  [1, 2, 3, 4, 6, 8]\n"
          ]
        }
      ]
    },
    {
      "cell_type": "markdown",
      "source": [
        "**3. Write a python program to compute the sum of two matrices and display the result. [take the input\n",
        "from the user]**"
      ],
      "metadata": {
        "id": "tZ0VWmVXGB0V"
      }
    },
    {
      "cell_type": "code",
      "source": [
        "# Taking Input of number of rows & columns\n",
        "\n",
        "rows = int(input(\"Enter the Number of rows : \" ))\n",
        "columns = int(input(\"Enter the Number of Columns: \"))\n",
        "\n",
        "print(\"Enter the elements of First Matrix:\")\n",
        "\n",
        "# Taking values to store in matrix_1\n",
        "\n",
        "matrix_1= [[int(input()) for i in range(columns)] for i in range(rows)]\n",
        "print(\"First Matrix is: \")\n",
        "for n in matrix_1:\n",
        "    print(n)\n",
        "\n",
        "print(\"Enter the elements of Second Matrix:\")\n",
        "\n",
        "# Taking values to store in matrix_2\n",
        "\n",
        "matrix_2= [[int(input()) for i in range(columns)] for i in range(rows)]\n",
        "print(\"Second Matrix is: \")\n",
        "for n in matrix_2:\n",
        "    print(n)\n",
        "    \n",
        "# result matrix initialized to all 0's\n",
        "\n",
        "result = [[0 for i in range(columns)] for i in range(rows)] \n",
        "\n",
        "# Performing Addition of 2 matrices\n",
        "\n",
        "for i in range(rows):\n",
        "    for j in range(columns):\n",
        "        result[i][j] = matrix_1[i][j]+matrix_2[i][j]\n",
        "\n",
        "# Printing result matrix of sum\n",
        "\n",
        "print(\"The Sum of Above two Matrices is : \")\n",
        "for r in result:\n",
        "    print(r)"
      ],
      "metadata": {
        "colab": {
          "base_uri": "https://localhost:8080/"
        },
        "id": "ip01cdaQsvM-",
        "outputId": "2acad047-a982-4709-c309-ea87e921c7fd"
      },
      "execution_count": null,
      "outputs": [
        {
          "output_type": "stream",
          "name": "stdout",
          "text": [
            "Enter the Number of rows : 3\n",
            "Enter the Number of Columns: 3\n",
            "Enter the elements of First Matrix:\n",
            "1\n",
            "2\n",
            "3\n",
            "4\n",
            "5\n",
            "6\n",
            "7\n",
            "8\n",
            "9\n",
            "First Matrix is: \n",
            "[1, 2, 3]\n",
            "[4, 5, 6]\n",
            "[7, 8, 9]\n",
            "Enter the elements of Second Matrix:\n",
            "9\n",
            "8\n",
            "7\n",
            "6\n",
            "5\n",
            "4\n",
            "3\n",
            "2\n",
            "1\n",
            "Second Matrix is: \n",
            "[9, 8, 7]\n",
            "[6, 5, 4]\n",
            "[3, 2, 1]\n",
            "The Sum of Above two Matrices is : \n",
            "[10, 10, 10]\n",
            "[10, 10, 10]\n",
            "[10, 10, 10]\n"
          ]
        }
      ]
    },
    {
      "cell_type": "markdown",
      "source": [
        "**4. Use python programming to implement the binary search by using the methods[take the input from\n",
        "the user]:\n",
        "a. Recursive method\n",
        "b. Iterative method**"
      ],
      "metadata": {
        "id": "uswuZqZvGUxH"
      }
    },
    {
      "cell_type": "markdown",
      "source": [
        "***a.Recursive Method***"
      ],
      "metadata": {
        "id": "9XM2eHViGatI"
      }
    },
    {
      "cell_type": "code",
      "source": [
        "# Defining Function for Binary Search \n",
        "# Recursive Method\n",
        "\n",
        "def BinarySearch_Recursive(arr, low, high, x):\n",
        "\n",
        "    if high >= low:\n",
        "\n",
        "        mid = (high + low) //2\n",
        "\n",
        "        # If found at mid, then return it\n",
        "        if arr[mid] == x:\n",
        "            return mid\n",
        "\n",
        "        # Search the left half if element is smaller than mid\n",
        "        elif arr[mid] > x:\n",
        "            return BinarySearch_Recursive(arr, low, mid-1, x)\n",
        "\n",
        "        # Search the right half if element is larger than mid\n",
        "        else:\n",
        "            return BinarySearch_Recursive(arr, mid + 1, high, x)\n",
        "\n",
        "    else:\n",
        "        return -1\n",
        "\n",
        "n = int(input(\"Enter the size of the array : \"))\n",
        "arr = []\n",
        "print(\"Enter elements of array in sorted order for performing Binary Search : \")\n",
        "for i in range(n):\n",
        "  x = int(input())\n",
        "  arr.append(x)\n",
        "print(arr)\n",
        "\n",
        "val = 7\n",
        "res = BinarySearch_Recursive(arr, 0, len(arr)-1, val)   # function called\n",
        "if res != -1:\n",
        "  print(\"Element \"+ str(val) + \" is present at index : \"+ str(res))\n",
        "else:\n",
        "  print(\"Element is not present in the array\")"
      ],
      "metadata": {
        "colab": {
          "base_uri": "https://localhost:8080/"
        },
        "id": "jdRv3DYAuCnO",
        "outputId": "57cf3a3c-c8b1-4329-8311-b1d40f6ba715"
      },
      "execution_count": null,
      "outputs": [
        {
          "output_type": "stream",
          "name": "stdout",
          "text": [
            "Enter the size of the array : 6\n",
            "Enter elements of array in sorted order for performing Binary Search : \n",
            "2\n",
            "4\n",
            "5\n",
            "7\n",
            "9\n",
            "10\n",
            "[2, 4, 5, 7, 9, 10]\n",
            "Element 7 is present at index : 3\n"
          ]
        }
      ]
    },
    {
      "cell_type": "markdown",
      "source": [
        "***a.Iterative Method***\n",
        "\n"
      ],
      "metadata": {
        "id": "GhkDLdfoGp0n"
      }
    },
    {
      "cell_type": "code",
      "source": [
        "# Defining Function fo Binary Search\n",
        "# Iterative Method\n",
        "\n",
        "def BinarySearch_Iterative(arr,x):\n",
        "  low = 0\n",
        "  high = len(arr) - 1\n",
        "  while low <= high:\n",
        "    mid = (high + low) // 2\n",
        "\n",
        "    # The element can only be present in right sub array\n",
        "    if arr[mid] < x:\n",
        "      low = mid + 1\n",
        "    \n",
        "    # if the element is smaller than mid,it can only be present in left sub array\n",
        "    elif arr[mid] > x:\n",
        "      high = mid -1\n",
        "\n",
        "    # x should be present at mid\n",
        "    else:\n",
        "      return mid\n",
        "  \n",
        "  return -1\n",
        "\n",
        "n = int(input(\"Enter the size of the array : \"))\n",
        "arr = []\n",
        "print(\"Enter elements of array in sorted order for performing Binary Search : \")\n",
        "for i in range(n):\n",
        "  x = int(input())\n",
        "  arr.append(x)\n",
        "print(arr)\n",
        "\n",
        "val = 8\n",
        "res = BinarySearch_Iterative(arr, val)  # function called\n",
        "if res != -1:\n",
        "  print(\"Element \"+ str(val) + \" is present at index : \"+ str(res))\n",
        "else:\n",
        "  print(\"Element is not present in the array\")"
      ],
      "metadata": {
        "colab": {
          "base_uri": "https://localhost:8080/"
        },
        "id": "nL6jNgBSyeGj",
        "outputId": "fb4c079b-1c6d-42e2-bf92-aa981c1fb80c"
      },
      "execution_count": null,
      "outputs": [
        {
          "output_type": "stream",
          "name": "stdout",
          "text": [
            "Enter the size of the array : 6\n",
            "Enter elements of array in sorted order for performing Binary Search : \n",
            "2\n",
            "4\n",
            "6\n",
            "8\n",
            "12\n",
            "34\n",
            "[2, 4, 6, 8, 12, 34]\n",
            "Element 8 is present at index : 3\n"
          ]
        }
      ]
    },
    {
      "cell_type": "markdown",
      "source": [
        "**5. Write a python program using NumPy:**\n",
        "\n",
        "\n",
        "---\n",
        "\n"
      ],
      "metadata": {
        "id": "qklbg-O2G5Mh"
      }
    },
    {
      "cell_type": "markdown",
      "source": [
        "\n",
        " **5 a. Create two 1-D arrays of same size with n number of elements and display the index of the\n",
        "arrays where the value of elements in 1st array is more than and equal to its corresponding\n",
        "element in 2nd array.**"
      ],
      "metadata": {
        "id": "ISwdDhTrKOwJ"
      }
    },
    {
      "cell_type": "code",
      "source": [
        "# importing the numpy module\n",
        "import numpy as np\n",
        "\n",
        "# creating the list\n",
        "lst1 = []\n",
        "lst2 = []\n",
        " \n",
        "# number of elements as input\n",
        "n = int(input(\"Enter number of elements : \"))\n",
        " \n",
        "# iterating till the range\n",
        "print(\"enter elements of 1 st list : \")\n",
        "for i in range(0, n):\n",
        "    ele1 = int(input())\n",
        "    lst1.append(ele1) # adding the element\n",
        "\n",
        "print(\"enter elements of 2 nd list : \")\n",
        "for i in range(0, n):\n",
        "    ele2 = int(input())\n",
        "    lst2.append(ele2) # adding the element\n",
        "     \n",
        "# creating 1-d arrays\n",
        "arr1 = np.array(lst1)\n",
        "arr2 = np.array(lst2)\n",
        "\n",
        "print(\"Indexes of elements in which value in 1 st list is >= value in 2nd list : \")\n",
        "\n",
        "for i in range(len(arr1)):\n",
        "  if arr1[i] >= arr2[i]:\n",
        "    print(str(i) + \" \",end = \" \")\n"
      ],
      "metadata": {
        "colab": {
          "base_uri": "https://localhost:8080/"
        },
        "id": "1UhfOVkQzfuE",
        "outputId": "9a077648-7eee-4525-c7e3-85978a7de064"
      },
      "execution_count": null,
      "outputs": [
        {
          "output_type": "stream",
          "name": "stdout",
          "text": [
            "Enter number of elements : 4\n",
            "enter elements of 1 st list : \n",
            "3\n",
            "1\n",
            "4\n",
            "8\n",
            "enter elements of 2 nd list : \n",
            "2\n",
            "4\n",
            "4\n",
            "6\n",
            "Indexes of elements in which value in 1 st list is >= value in 2nd list : \n",
            "0  2  3  "
          ]
        }
      ]
    },
    {
      "cell_type": "markdown",
      "source": [
        "**5 b. Create a 1-D array and perform the following:**\n",
        "\n",
        "i. Replace all even numbers in the array with 0"
      ],
      "metadata": {
        "id": "WDrzCAdfHxci"
      }
    },
    {
      "cell_type": "code",
      "source": [
        "# creating the list\n",
        "lst1 = []\n",
        " \n",
        "# number of elements as input\n",
        "n = int(input(\"Enter number of elements : \"))\n",
        " \n",
        "# iterating till the range\n",
        "print(\"enter elements of 1 st list : \")\n",
        "for i in range(0, n):\n",
        "    ele1 = int(input())\n",
        "    lst1.append(ele1) # adding the element\n",
        "    \n",
        "# creating 1-d arrays\n",
        "arr1 = np.array(lst1)\n",
        "\n",
        "print(\"Before Replacing : \")\n",
        "print(arr1)\n",
        "\n",
        "# Replacing all values with 0 where arr1[i]%2 == 0\n",
        "arr1[arr1%2 == 0] =0\n",
        "print(\"After Replacing : \")\n",
        "print(arr1)"
      ],
      "metadata": {
        "colab": {
          "base_uri": "https://localhost:8080/"
        },
        "id": "TfJZs-da1lY2",
        "outputId": "56304d94-b78f-4a67-dbef-851f53aad62c"
      },
      "execution_count": null,
      "outputs": [
        {
          "output_type": "stream",
          "name": "stdout",
          "text": [
            "Enter number of elements : 7\n",
            "enter elements of 1 st list : \n",
            "3\n",
            "7\n",
            "8\n",
            "2\n",
            "10\n",
            "15\n",
            "4\n",
            "Before Replacing : \n",
            "[ 3  7  8  2 10 15  4]\n",
            "After Replacing : \n",
            "[ 3  7  0  0  0 15  0]\n"
          ]
        }
      ]
    },
    {
      "cell_type": "markdown",
      "source": [
        "**5 b. Create a 1-D array and perform the following:**\n",
        "\n",
        "ii. Extract the prime numbers from the array"
      ],
      "metadata": {
        "id": "YJgM5LjxH7fP"
      }
    },
    {
      "cell_type": "code",
      "source": [
        "# Defining Function to check Prime number\n",
        "def is_prime(n):\n",
        "  if n < 2:\n",
        "    return 0\n",
        "  else:\n",
        "    flag = 1\n",
        "    for i in range(2,n):\n",
        "      if n%i == 0:\n",
        "        flag = 0\n",
        "        break\n",
        "    return flag\n",
        "\n",
        "# Checking each number and printing if it is a Prime\n",
        "for i in range(len(arr1)):\n",
        "  if is_prime(arr1[i]):\n",
        "    print(arr1[i],end = \" \")\n"
      ],
      "metadata": {
        "colab": {
          "base_uri": "https://localhost:8080/"
        },
        "id": "2LrosZGZ21nQ",
        "outputId": "6cb77910-6c6e-4a49-c749-480a7dfc5a4e"
      },
      "execution_count": null,
      "outputs": [
        {
          "output_type": "stream",
          "name": "stdout",
          "text": [
            "3 7 "
          ]
        }
      ]
    },
    {
      "cell_type": "markdown",
      "source": [
        "**5 b. Create a 1-D array and perform the following:**\n",
        "\n",
        "iii. Convert the 1D array to a 2D array in 2 rows Input"
      ],
      "metadata": {
        "id": "fKlVDY44IJkS"
      }
    },
    {
      "cell_type": "code",
      "source": [
        "# Creating np array\n",
        "arr = np.array([3,4,2,6,8,14,15,19])\n",
        "print(\"1d Array :\")\n",
        "print(arr)\n",
        "\n",
        "# We want 2 rows ,therefore number of columns will be arr.size/2\n",
        "arr.shape = (2, arr.size//2)\n",
        "print(\"Converted to 2d Array : \")\n",
        "print(arr)\n"
      ],
      "metadata": {
        "colab": {
          "base_uri": "https://localhost:8080/"
        },
        "id": "qmFJsG8g31qt",
        "outputId": "5b1d9105-0b23-4128-a9a0-3d9de24a78ee"
      },
      "execution_count": null,
      "outputs": [
        {
          "output_type": "stream",
          "name": "stdout",
          "text": [
            "1d Array :\n",
            "[ 3  4  2  6  8 14 15 19]\n",
            "Converted to 2d Array : \n",
            "[[ 3  4  2  6]\n",
            " [ 8 14 15 19]]\n"
          ]
        }
      ]
    },
    {
      "cell_type": "markdown",
      "source": [
        "**5 b. Create a 1-D array and perform the following:**\n",
        "\n",
        "iv. Display the array element indices such that array elements are sorted in ascending\n",
        "order [ without the changing the position of elements]"
      ],
      "metadata": {
        "id": "F74IHY3uIRXR"
      }
    },
    {
      "cell_type": "code",
      "source": [
        "arr = np.array([13, 7, 10, 8, 9, 16, 20, 14])  # 8 elements\n",
        "print(\"Indices of the array in sorted order are : \")\n",
        "print(np.argsort(arr))   # argsort returns the indices that would sort an array."
      ],
      "metadata": {
        "colab": {
          "base_uri": "https://localhost:8080/"
        },
        "id": "J21Kemgt5o10",
        "outputId": "83c2bf73-23a6-4586-8c8a-308b4f9e48f3"
      },
      "execution_count": null,
      "outputs": [
        {
          "output_type": "stream",
          "name": "stdout",
          "text": [
            "Indices of the array in sorted order are : \n",
            "[1 3 4 2 0 7 5 6]\n"
          ]
        }
      ]
    },
    {
      "cell_type": "markdown",
      "source": [
        "**5 b. Create a 1-D array and perform the following:**\n",
        "\n",
        "v. Convert a binary NumPy array (holding only 0s and 1s) to a Boolean NumPy array."
      ],
      "metadata": {
        "id": "wR8wwh2BIbvk"
      }
    },
    {
      "cell_type": "code",
      "source": [
        "# Input as np array of 0's & 1's\n",
        "\n",
        "arr = np.array([0,0,0,0,1,1,1,0,1,0])\n",
        "bool_arr = np.array(arr, dtype=bool)\n",
        "print(bool_arr)"
      ],
      "metadata": {
        "colab": {
          "base_uri": "https://localhost:8080/"
        },
        "id": "QTb3L2hy6SeK",
        "outputId": "267306f4-e5e6-40fc-d05b-6417c3de117b"
      },
      "execution_count": null,
      "outputs": [
        {
          "output_type": "stream",
          "name": "stdout",
          "text": [
            "[False False False False  True  True  True False  True False]\n"
          ]
        }
      ]
    },
    {
      "cell_type": "markdown",
      "source": [
        "**5 b. Create a 1-D array and perform the following:**\n",
        "\n",
        "vi. Take an input of 10 elements and split the array into 3 arrays, where 1st two arrays\n",
        "should have 2 elements each and the rest of the elements in the last array. Display the\n",
        "arrays."
      ],
      "metadata": {
        "id": "aGLDOZqrIk2K"
      }
    },
    {
      "cell_type": "code",
      "source": [
        "arr = []\n",
        "# Taking input of 10 numbers \n",
        "\n",
        "print(\"Enter 10 numbers : \")\n",
        "for i in range(10):\n",
        "  x = int(input())\n",
        "  arr.append(x)\n",
        "\n",
        "arr = np.array(arr)\n",
        "print(\"Original Array : \")\n",
        "print(arr)\n",
        "\n",
        "# Slicing numpy array as per requirements : first two in arr1,next two in arr2 & remaining in arr3\n",
        "\n",
        "print(\"Splitted Arrays : \")\n",
        "arr1 = arr[0:2]\n",
        "arr2 = arr[2:4]\n",
        "arr3 = arr[4:]\n",
        "\n",
        "print(arr1)\n",
        "print(arr2)\n",
        "print(arr3)"
      ],
      "metadata": {
        "colab": {
          "base_uri": "https://localhost:8080/"
        },
        "id": "E4D-FZlN6p7K",
        "outputId": "7aea5122-de44-4243-c684-61c476a55c8b"
      },
      "execution_count": null,
      "outputs": [
        {
          "output_type": "stream",
          "name": "stdout",
          "text": [
            "Enter 10 numbers : \n",
            "2\n",
            "4\n",
            "1\n",
            "5\n",
            "7\n",
            "9\n",
            "6\n",
            "3\n",
            "8\n",
            "10\n",
            "Original Array : \n",
            "[ 2  4  1  5  7  9  6  3  8 10]\n",
            "Splitted Arrays : \n",
            "[2 4]\n",
            "[1 5]\n",
            "[ 7  9  6  3  8 10]\n"
          ]
        }
      ]
    },
    {
      "cell_type": "markdown",
      "source": [
        "**6. There are 190 students in a class of Data Science Theory. The subject is taught every day ( Monday to\n",
        "Sunday) in a week for an hour. Create and display a series of data as a count of attendance of the total\n",
        "number of students attending the subject every day in a week. [Hint: Use pandas to create the\n",
        "dataset, create the dataset for a week i.e. for all 7 days in a week, for each respective day mention the\n",
        "number of attendees.] Perform the following with the series dataset created.**"
      ],
      "metadata": {
        "id": "Dsv-idpTIx0n"
      }
    },
    {
      "cell_type": "markdown",
      "source": [
        "**6 a. Display the dataset**"
      ],
      "metadata": {
        "id": "a72-fWG8I4CS"
      }
    },
    {
      "cell_type": "code",
      "source": [
        "# Importing pandas module\n",
        "import pandas as pd\n",
        "\n",
        "# Creating pandas dataframe for 7 days\n",
        "days = [\"Monday\",\"Tuesday\",\"Wednesday\",\"Thursday\",\"Friday\",\"Saturday\",\"Sunday\"]\n",
        "\n",
        "# daily attendance range will wil from 0 to 190 because there are 190 students in total\n",
        "attendance = []\n",
        "for i in range(7):\n",
        "   x = np.random.randint(0,190)\n",
        "   attendance.append(x)\n",
        "\n",
        "df = pd.DataFrame({'days' : days, 'attendance' : attendance})\n",
        "\n",
        "# Displaying the Dataset\n",
        "df"
      ],
      "metadata": {
        "colab": {
          "base_uri": "https://localhost:8080/",
          "height": 269
        },
        "id": "r0HHiCag8Llm",
        "outputId": "fe620075-aaab-4ed4-a7e1-01d2e0e5978d"
      },
      "execution_count": null,
      "outputs": [
        {
          "output_type": "execute_result",
          "data": {
            "text/html": [
              "\n",
              "  <div id=\"df-d1ebd634-ae29-4a70-b48d-dbacbd85afe2\">\n",
              "    <div class=\"colab-df-container\">\n",
              "      <div>\n",
              "<style scoped>\n",
              "    .dataframe tbody tr th:only-of-type {\n",
              "        vertical-align: middle;\n",
              "    }\n",
              "\n",
              "    .dataframe tbody tr th {\n",
              "        vertical-align: top;\n",
              "    }\n",
              "\n",
              "    .dataframe thead th {\n",
              "        text-align: right;\n",
              "    }\n",
              "</style>\n",
              "<table border=\"1\" class=\"dataframe\">\n",
              "  <thead>\n",
              "    <tr style=\"text-align: right;\">\n",
              "      <th></th>\n",
              "      <th>days</th>\n",
              "      <th>attendance</th>\n",
              "    </tr>\n",
              "  </thead>\n",
              "  <tbody>\n",
              "    <tr>\n",
              "      <th>0</th>\n",
              "      <td>Monday</td>\n",
              "      <td>71</td>\n",
              "    </tr>\n",
              "    <tr>\n",
              "      <th>1</th>\n",
              "      <td>Tuesday</td>\n",
              "      <td>9</td>\n",
              "    </tr>\n",
              "    <tr>\n",
              "      <th>2</th>\n",
              "      <td>Wednesday</td>\n",
              "      <td>129</td>\n",
              "    </tr>\n",
              "    <tr>\n",
              "      <th>3</th>\n",
              "      <td>Thursday</td>\n",
              "      <td>120</td>\n",
              "    </tr>\n",
              "    <tr>\n",
              "      <th>4</th>\n",
              "      <td>Friday</td>\n",
              "      <td>18</td>\n",
              "    </tr>\n",
              "    <tr>\n",
              "      <th>5</th>\n",
              "      <td>Saturday</td>\n",
              "      <td>104</td>\n",
              "    </tr>\n",
              "    <tr>\n",
              "      <th>6</th>\n",
              "      <td>Sunday</td>\n",
              "      <td>37</td>\n",
              "    </tr>\n",
              "  </tbody>\n",
              "</table>\n",
              "</div>\n",
              "      <button class=\"colab-df-convert\" onclick=\"convertToInteractive('df-d1ebd634-ae29-4a70-b48d-dbacbd85afe2')\"\n",
              "              title=\"Convert this dataframe to an interactive table.\"\n",
              "              style=\"display:none;\">\n",
              "        \n",
              "  <svg xmlns=\"http://www.w3.org/2000/svg\" height=\"24px\"viewBox=\"0 0 24 24\"\n",
              "       width=\"24px\">\n",
              "    <path d=\"M0 0h24v24H0V0z\" fill=\"none\"/>\n",
              "    <path d=\"M18.56 5.44l.94 2.06.94-2.06 2.06-.94-2.06-.94-.94-2.06-.94 2.06-2.06.94zm-11 1L8.5 8.5l.94-2.06 2.06-.94-2.06-.94L8.5 2.5l-.94 2.06-2.06.94zm10 10l.94 2.06.94-2.06 2.06-.94-2.06-.94-.94-2.06-.94 2.06-2.06.94z\"/><path d=\"M17.41 7.96l-1.37-1.37c-.4-.4-.92-.59-1.43-.59-.52 0-1.04.2-1.43.59L10.3 9.45l-7.72 7.72c-.78.78-.78 2.05 0 2.83L4 21.41c.39.39.9.59 1.41.59.51 0 1.02-.2 1.41-.59l7.78-7.78 2.81-2.81c.8-.78.8-2.07 0-2.86zM5.41 20L4 18.59l7.72-7.72 1.47 1.35L5.41 20z\"/>\n",
              "  </svg>\n",
              "      </button>\n",
              "      \n",
              "  <style>\n",
              "    .colab-df-container {\n",
              "      display:flex;\n",
              "      flex-wrap:wrap;\n",
              "      gap: 12px;\n",
              "    }\n",
              "\n",
              "    .colab-df-convert {\n",
              "      background-color: #E8F0FE;\n",
              "      border: none;\n",
              "      border-radius: 50%;\n",
              "      cursor: pointer;\n",
              "      display: none;\n",
              "      fill: #1967D2;\n",
              "      height: 32px;\n",
              "      padding: 0 0 0 0;\n",
              "      width: 32px;\n",
              "    }\n",
              "\n",
              "    .colab-df-convert:hover {\n",
              "      background-color: #E2EBFA;\n",
              "      box-shadow: 0px 1px 2px rgba(60, 64, 67, 0.3), 0px 1px 3px 1px rgba(60, 64, 67, 0.15);\n",
              "      fill: #174EA6;\n",
              "    }\n",
              "\n",
              "    [theme=dark] .colab-df-convert {\n",
              "      background-color: #3B4455;\n",
              "      fill: #D2E3FC;\n",
              "    }\n",
              "\n",
              "    [theme=dark] .colab-df-convert:hover {\n",
              "      background-color: #434B5C;\n",
              "      box-shadow: 0px 1px 3px 1px rgba(0, 0, 0, 0.15);\n",
              "      filter: drop-shadow(0px 1px 2px rgba(0, 0, 0, 0.3));\n",
              "      fill: #FFFFFF;\n",
              "    }\n",
              "  </style>\n",
              "\n",
              "      <script>\n",
              "        const buttonEl =\n",
              "          document.querySelector('#df-d1ebd634-ae29-4a70-b48d-dbacbd85afe2 button.colab-df-convert');\n",
              "        buttonEl.style.display =\n",
              "          google.colab.kernel.accessAllowed ? 'block' : 'none';\n",
              "\n",
              "        async function convertToInteractive(key) {\n",
              "          const element = document.querySelector('#df-d1ebd634-ae29-4a70-b48d-dbacbd85afe2');\n",
              "          const dataTable =\n",
              "            await google.colab.kernel.invokeFunction('convertToInteractive',\n",
              "                                                     [key], {});\n",
              "          if (!dataTable) return;\n",
              "\n",
              "          const docLinkHtml = 'Like what you see? Visit the ' +\n",
              "            '<a target=\"_blank\" href=https://colab.research.google.com/notebooks/data_table.ipynb>data table notebook</a>'\n",
              "            + ' to learn more about interactive tables.';\n",
              "          element.innerHTML = '';\n",
              "          dataTable['output_type'] = 'display_data';\n",
              "          await google.colab.output.renderOutput(dataTable, element);\n",
              "          const docLink = document.createElement('div');\n",
              "          docLink.innerHTML = docLinkHtml;\n",
              "          element.appendChild(docLink);\n",
              "        }\n",
              "      </script>\n",
              "    </div>\n",
              "  </div>\n",
              "  "
            ],
            "text/plain": [
              "        days  attendance\n",
              "0     Monday          71\n",
              "1    Tuesday           9\n",
              "2  Wednesday         129\n",
              "3   Thursday         120\n",
              "4     Friday          18\n",
              "5   Saturday         104\n",
              "6     Sunday          37"
            ]
          },
          "metadata": {},
          "execution_count": 8
        }
      ]
    },
    {
      "cell_type": "markdown",
      "source": [
        "**6 b. Display the sorted dataset with least number of attendees at first**"
      ],
      "metadata": {
        "id": "duU8Jem9JA5N"
      }
    },
    {
      "cell_type": "code",
      "source": [
        "# Sort values according to attendance\n",
        "\n",
        "print(df.sort_values('attendance'))"
      ],
      "metadata": {
        "colab": {
          "base_uri": "https://localhost:8080/"
        },
        "id": "s9MVYRQY-HNb",
        "outputId": "6445c81c-d4c5-4c23-80c1-0ae2cd2d436b"
      },
      "execution_count": null,
      "outputs": [
        {
          "output_type": "stream",
          "name": "stdout",
          "text": [
            "        days  attendance\n",
            "1    Tuesday           9\n",
            "4     Friday          18\n",
            "6     Sunday          37\n",
            "0     Monday          71\n",
            "5   Saturday         104\n",
            "3   Thursday         120\n",
            "2  Wednesday         129\n"
          ]
        }
      ]
    },
    {
      "cell_type": "markdown",
      "source": [
        "**6 c. Show the day with maximum number of attendees**"
      ],
      "metadata": {
        "id": "Q7bPQ2v_JGfi"
      }
    },
    {
      "cell_type": "code",
      "source": [
        "# Index with maximum attendance\n",
        "\n",
        "index = df.attendance.argmax()\n",
        "df.iloc[index]"
      ],
      "metadata": {
        "colab": {
          "base_uri": "https://localhost:8080/"
        },
        "id": "BO8EnB66-awu",
        "outputId": "ecd904a6-3967-4fa3-c41c-2ecec1a96d30"
      },
      "execution_count": null,
      "outputs": [
        {
          "output_type": "execute_result",
          "data": {
            "text/plain": [
              "days          Wednesday\n",
              "attendance          129\n",
              "Name: 2, dtype: object"
            ]
          },
          "metadata": {},
          "execution_count": 10
        }
      ]
    },
    {
      "cell_type": "markdown",
      "source": [
        "**6 d. Display the 1st two days of the week and the number of attendees**"
      ],
      "metadata": {
        "id": "sEZo-hXwJNE5"
      }
    },
    {
      "cell_type": "code",
      "source": [
        "# Displaying first 2 days of the week & the attendees\n",
        "\n",
        "df[0:2]"
      ],
      "metadata": {
        "colab": {
          "base_uri": "https://localhost:8080/",
          "height": 112
        },
        "id": "F-LkIEJ7-uc4",
        "outputId": "546bc259-8b4f-422a-d48a-b706dd6cb0ca"
      },
      "execution_count": null,
      "outputs": [
        {
          "output_type": "execute_result",
          "data": {
            "text/html": [
              "\n",
              "  <div id=\"df-5623c1bd-7a3d-43db-a0a7-3794b3f5f425\">\n",
              "    <div class=\"colab-df-container\">\n",
              "      <div>\n",
              "<style scoped>\n",
              "    .dataframe tbody tr th:only-of-type {\n",
              "        vertical-align: middle;\n",
              "    }\n",
              "\n",
              "    .dataframe tbody tr th {\n",
              "        vertical-align: top;\n",
              "    }\n",
              "\n",
              "    .dataframe thead th {\n",
              "        text-align: right;\n",
              "    }\n",
              "</style>\n",
              "<table border=\"1\" class=\"dataframe\">\n",
              "  <thead>\n",
              "    <tr style=\"text-align: right;\">\n",
              "      <th></th>\n",
              "      <th>days</th>\n",
              "      <th>attendance</th>\n",
              "    </tr>\n",
              "  </thead>\n",
              "  <tbody>\n",
              "    <tr>\n",
              "      <th>0</th>\n",
              "      <td>Monday</td>\n",
              "      <td>71</td>\n",
              "    </tr>\n",
              "    <tr>\n",
              "      <th>1</th>\n",
              "      <td>Tuesday</td>\n",
              "      <td>9</td>\n",
              "    </tr>\n",
              "  </tbody>\n",
              "</table>\n",
              "</div>\n",
              "      <button class=\"colab-df-convert\" onclick=\"convertToInteractive('df-5623c1bd-7a3d-43db-a0a7-3794b3f5f425')\"\n",
              "              title=\"Convert this dataframe to an interactive table.\"\n",
              "              style=\"display:none;\">\n",
              "        \n",
              "  <svg xmlns=\"http://www.w3.org/2000/svg\" height=\"24px\"viewBox=\"0 0 24 24\"\n",
              "       width=\"24px\">\n",
              "    <path d=\"M0 0h24v24H0V0z\" fill=\"none\"/>\n",
              "    <path d=\"M18.56 5.44l.94 2.06.94-2.06 2.06-.94-2.06-.94-.94-2.06-.94 2.06-2.06.94zm-11 1L8.5 8.5l.94-2.06 2.06-.94-2.06-.94L8.5 2.5l-.94 2.06-2.06.94zm10 10l.94 2.06.94-2.06 2.06-.94-2.06-.94-.94-2.06-.94 2.06-2.06.94z\"/><path d=\"M17.41 7.96l-1.37-1.37c-.4-.4-.92-.59-1.43-.59-.52 0-1.04.2-1.43.59L10.3 9.45l-7.72 7.72c-.78.78-.78 2.05 0 2.83L4 21.41c.39.39.9.59 1.41.59.51 0 1.02-.2 1.41-.59l7.78-7.78 2.81-2.81c.8-.78.8-2.07 0-2.86zM5.41 20L4 18.59l7.72-7.72 1.47 1.35L5.41 20z\"/>\n",
              "  </svg>\n",
              "      </button>\n",
              "      \n",
              "  <style>\n",
              "    .colab-df-container {\n",
              "      display:flex;\n",
              "      flex-wrap:wrap;\n",
              "      gap: 12px;\n",
              "    }\n",
              "\n",
              "    .colab-df-convert {\n",
              "      background-color: #E8F0FE;\n",
              "      border: none;\n",
              "      border-radius: 50%;\n",
              "      cursor: pointer;\n",
              "      display: none;\n",
              "      fill: #1967D2;\n",
              "      height: 32px;\n",
              "      padding: 0 0 0 0;\n",
              "      width: 32px;\n",
              "    }\n",
              "\n",
              "    .colab-df-convert:hover {\n",
              "      background-color: #E2EBFA;\n",
              "      box-shadow: 0px 1px 2px rgba(60, 64, 67, 0.3), 0px 1px 3px 1px rgba(60, 64, 67, 0.15);\n",
              "      fill: #174EA6;\n",
              "    }\n",
              "\n",
              "    [theme=dark] .colab-df-convert {\n",
              "      background-color: #3B4455;\n",
              "      fill: #D2E3FC;\n",
              "    }\n",
              "\n",
              "    [theme=dark] .colab-df-convert:hover {\n",
              "      background-color: #434B5C;\n",
              "      box-shadow: 0px 1px 3px 1px rgba(0, 0, 0, 0.15);\n",
              "      filter: drop-shadow(0px 1px 2px rgba(0, 0, 0, 0.3));\n",
              "      fill: #FFFFFF;\n",
              "    }\n",
              "  </style>\n",
              "\n",
              "      <script>\n",
              "        const buttonEl =\n",
              "          document.querySelector('#df-5623c1bd-7a3d-43db-a0a7-3794b3f5f425 button.colab-df-convert');\n",
              "        buttonEl.style.display =\n",
              "          google.colab.kernel.accessAllowed ? 'block' : 'none';\n",
              "\n",
              "        async function convertToInteractive(key) {\n",
              "          const element = document.querySelector('#df-5623c1bd-7a3d-43db-a0a7-3794b3f5f425');\n",
              "          const dataTable =\n",
              "            await google.colab.kernel.invokeFunction('convertToInteractive',\n",
              "                                                     [key], {});\n",
              "          if (!dataTable) return;\n",
              "\n",
              "          const docLinkHtml = 'Like what you see? Visit the ' +\n",
              "            '<a target=\"_blank\" href=https://colab.research.google.com/notebooks/data_table.ipynb>data table notebook</a>'\n",
              "            + ' to learn more about interactive tables.';\n",
              "          element.innerHTML = '';\n",
              "          dataTable['output_type'] = 'display_data';\n",
              "          await google.colab.output.renderOutput(dataTable, element);\n",
              "          const docLink = document.createElement('div');\n",
              "          docLink.innerHTML = docLinkHtml;\n",
              "          element.appendChild(docLink);\n",
              "        }\n",
              "      </script>\n",
              "    </div>\n",
              "  </div>\n",
              "  "
            ],
            "text/plain": [
              "      days  attendance\n",
              "0   Monday          71\n",
              "1  Tuesday           9"
            ]
          },
          "metadata": {},
          "execution_count": 11
        }
      ]
    },
    {
      "cell_type": "markdown",
      "source": [
        "**6 e. Plot the dataset for each day in the week.**"
      ],
      "metadata": {
        "id": "h1NkclRMJWhV"
      }
    },
    {
      "cell_type": "code",
      "source": [
        "# Plotting Bar graph between days & attendance\n",
        "\n",
        "df.plot(x ='days', y ='attendance', kind = 'bar')"
      ],
      "metadata": {
        "colab": {
          "base_uri": "https://localhost:8080/",
          "height": 344
        },
        "id": "0yr7xQeb-1j1",
        "outputId": "5290fbf2-af91-44fb-9456-8e450e5aab88"
      },
      "execution_count": null,
      "outputs": [
        {
          "output_type": "execute_result",
          "data": {
            "text/plain": [
              "<matplotlib.axes._subplots.AxesSubplot at 0x7fce29177510>"
            ]
          },
          "metadata": {},
          "execution_count": 12
        },
        {
          "output_type": "display_data",
          "data": {
            "image/png": "[encoded data removed]",
            "text/plain": [
              "<Figure size 432x288 with 1 Axes>"
            ]
          },
          "metadata": {
            "needs_background": "light"
          }
        }
      ]
    },
    {
      "cell_type": "markdown",
      "source": [
        "**7. Consider the data set: https://www.kaggle.com/karthickveerakumar/salary-data-simple-linear-regression and perform the following:**"
      ],
      "metadata": {
        "id": "sZNkbelaJcga"
      }
    },
    {
      "cell_type": "markdown",
      "source": [
        "**7 a. Read the dataset**"
      ],
      "metadata": {
        "id": "eKPZT_l_Jh0y"
      }
    },
    {
      "cell_type": "code",
      "source": [
        "# Reading CSV file\n",
        "\n",
        "df = pd.read_csv(\"Salary_Data.csv\")"
      ],
      "metadata": {
        "id": "1HMA2Va6_IF3"
      },
      "execution_count": null,
      "outputs": []
    },
    {
      "cell_type": "markdown",
      "source": [
        "**7 b. Display the information related to the dataset such as the number of rows and columns**"
      ],
      "metadata": {
        "id": "ebBS-b--JoFk"
      }
    },
    {
      "cell_type": "code",
      "source": [
        "# Shape of the CSV\n",
        "\n",
        "df.shape"
      ],
      "metadata": {
        "colab": {
          "base_uri": "https://localhost:8080/"
        },
        "id": "WZ1NJwFuBI_Y",
        "outputId": "a9955729-6574-4946-d56c-ae36c4f123ba"
      },
      "execution_count": null,
      "outputs": [
        {
          "output_type": "execute_result",
          "data": {
            "text/plain": [
              "(30, 2)"
            ]
          },
          "metadata": {},
          "execution_count": 14
        }
      ]
    },
    {
      "cell_type": "markdown",
      "source": [
        "**7 c. Display the first 5 rows**"
      ],
      "metadata": {
        "id": "UXoYNcK1Jsi_"
      }
    },
    {
      "cell_type": "code",
      "source": [
        "# Displaying first 5 rows\n",
        "\n",
        "df.head()"
      ],
      "metadata": {
        "colab": {
          "base_uri": "https://localhost:8080/",
          "height": 206
        },
        "id": "zZPHvudNBLw_",
        "outputId": "b093f2b4-f1a3-407b-bafe-f4ad6dacff3d"
      },
      "execution_count": null,
      "outputs": [
        {
          "output_type": "execute_result",
          "data": {
            "text/html": [
              "\n",
              "  <div id=\"df-d1611493-88e9-4129-ae92-8a61bae543d5\">\n",
              "    <div class=\"colab-df-container\">\n",
              "      <div>\n",
              "<style scoped>\n",
              "    .dataframe tbody tr th:only-of-type {\n",
              "        vertical-align: middle;\n",
              "    }\n",
              "\n",
              "    .dataframe tbody tr th {\n",
              "        vertical-align: top;\n",
              "    }\n",
              "\n",
              "    .dataframe thead th {\n",
              "        text-align: right;\n",
              "    }\n",
              "</style>\n",
              "<table border=\"1\" class=\"dataframe\">\n",
              "  <thead>\n",
              "    <tr style=\"text-align: right;\">\n",
              "      <th></th>\n",
              "      <th>YearsExperience</th>\n",
              "      <th>Salary</th>\n",
              "    </tr>\n",
              "  </thead>\n",
              "  <tbody>\n",
              "    <tr>\n",
              "      <th>0</th>\n",
              "      <td>1.1</td>\n",
              "      <td>39343.0</td>\n",
              "    </tr>\n",
              "    <tr>\n",
              "      <th>1</th>\n",
              "      <td>1.3</td>\n",
              "      <td>46205.0</td>\n",
              "    </tr>\n",
              "    <tr>\n",
              "      <th>2</th>\n",
              "      <td>1.5</td>\n",
              "      <td>37731.0</td>\n",
              "    </tr>\n",
              "    <tr>\n",
              "      <th>3</th>\n",
              "      <td>2.0</td>\n",
              "      <td>43525.0</td>\n",
              "    </tr>\n",
              "    <tr>\n",
              "      <th>4</th>\n",
              "      <td>2.2</td>\n",
              "      <td>39891.0</td>\n",
              "    </tr>\n",
              "  </tbody>\n",
              "</table>\n",
              "</div>\n",
              "      <button class=\"colab-df-convert\" onclick=\"convertToInteractive('df-d1611493-88e9-4129-ae92-8a61bae543d5')\"\n",
              "              title=\"Convert this dataframe to an interactive table.\"\n",
              "              style=\"display:none;\">\n",
              "        \n",
              "  <svg xmlns=\"http://www.w3.org/2000/svg\" height=\"24px\"viewBox=\"0 0 24 24\"\n",
              "       width=\"24px\">\n",
              "    <path d=\"M0 0h24v24H0V0z\" fill=\"none\"/>\n",
              "    <path d=\"M18.56 5.44l.94 2.06.94-2.06 2.06-.94-2.06-.94-.94-2.06-.94 2.06-2.06.94zm-11 1L8.5 8.5l.94-2.06 2.06-.94-2.06-.94L8.5 2.5l-.94 2.06-2.06.94zm10 10l.94 2.06.94-2.06 2.06-.94-2.06-.94-.94-2.06-.94 2.06-2.06.94z\"/><path d=\"M17.41 7.96l-1.37-1.37c-.4-.4-.92-.59-1.43-.59-.52 0-1.04.2-1.43.59L10.3 9.45l-7.72 7.72c-.78.78-.78 2.05 0 2.83L4 21.41c.39.39.9.59 1.41.59.51 0 1.02-.2 1.41-.59l7.78-7.78 2.81-2.81c.8-.78.8-2.07 0-2.86zM5.41 20L4 18.59l7.72-7.72 1.47 1.35L5.41 20z\"/>\n",
              "  </svg>\n",
              "      </button>\n",
              "      \n",
              "  <style>\n",
              "    .colab-df-container {\n",
              "      display:flex;\n",
              "      flex-wrap:wrap;\n",
              "      gap: 12px;\n",
              "    }\n",
              "\n",
              "    .colab-df-convert {\n",
              "      background-color: #E8F0FE;\n",
              "      border: none;\n",
              "      border-radius: 50%;\n",
              "      cursor: pointer;\n",
              "      display: none;\n",
              "      fill: #1967D2;\n",
              "      height: 32px;\n",
              "      padding: 0 0 0 0;\n",
              "      width: 32px;\n",
              "    }\n",
              "\n",
              "    .colab-df-convert:hover {\n",
              "      background-color: #E2EBFA;\n",
              "      box-shadow: 0px 1px 2px rgba(60, 64, 67, 0.3), 0px 1px 3px 1px rgba(60, 64, 67, 0.15);\n",
              "      fill: #174EA6;\n",
              "    }\n",
              "\n",
              "    [theme=dark] .colab-df-convert {\n",
              "      background-color: #3B4455;\n",
              "      fill: #D2E3FC;\n",
              "    }\n",
              "\n",
              "    [theme=dark] .colab-df-convert:hover {\n",
              "      background-color: #434B5C;\n",
              "      box-shadow: 0px 1px 3px 1px rgba(0, 0, 0, 0.15);\n",
              "      filter: drop-shadow(0px 1px 2px rgba(0, 0, 0, 0.3));\n",
              "      fill: #FFFFFF;\n",
              "    }\n",
              "  </style>\n",
              "\n",
              "      <script>\n",
              "        const buttonEl =\n",
              "          document.querySelector('#df-d1611493-88e9-4129-ae92-8a61bae543d5 button.colab-df-convert');\n",
              "        buttonEl.style.display =\n",
              "          google.colab.kernel.accessAllowed ? 'block' : 'none';\n",
              "\n",
              "        async function convertToInteractive(key) {\n",
              "          const element = document.querySelector('#df-d1611493-88e9-4129-ae92-8a61bae543d5');\n",
              "          const dataTable =\n",
              "            await google.colab.kernel.invokeFunction('convertToInteractive',\n",
              "                                                     [key], {});\n",
              "          if (!dataTable) return;\n",
              "\n",
              "          const docLinkHtml = 'Like what you see? Visit the ' +\n",
              "            '<a target=\"_blank\" href=https://colab.research.google.com/notebooks/data_table.ipynb>data table notebook</a>'\n",
              "            + ' to learn more about interactive tables.';\n",
              "          element.innerHTML = '';\n",
              "          dataTable['output_type'] = 'display_data';\n",
              "          await google.colab.output.renderOutput(dataTable, element);\n",
              "          const docLink = document.createElement('div');\n",
              "          docLink.innerHTML = docLinkHtml;\n",
              "          element.appendChild(docLink);\n",
              "        }\n",
              "      </script>\n",
              "    </div>\n",
              "  </div>\n",
              "  "
            ],
            "text/plain": [
              "   YearsExperience   Salary\n",
              "0              1.1  39343.0\n",
              "1              1.3  46205.0\n",
              "2              1.5  37731.0\n",
              "3              2.0  43525.0\n",
              "4              2.2  39891.0"
            ]
          },
          "metadata": {},
          "execution_count": 15
        }
      ]
    },
    {
      "cell_type": "markdown",
      "source": [
        "**7 d. Display the summary statistics for each numeric column**"
      ],
      "metadata": {
        "id": "tJE3_Gl2Jwf2"
      }
    },
    {
      "cell_type": "code",
      "source": [
        "# Displaying the summary statistics of each numeric column\n",
        "\n",
        "df[[\"YearsExperience\", \"Salary\"]].describe()"
      ],
      "metadata": {
        "colab": {
          "base_uri": "https://localhost:8080/",
          "height": 300
        },
        "id": "8szbiVs-BOzx",
        "outputId": "76adbd12-b08c-4e86-e8b9-8f4cab24f941"
      },
      "execution_count": null,
      "outputs": [
        {
          "output_type": "execute_result",
          "data": {
            "text/html": [
              "\n",
              "  <div id=\"df-f3e39832-00bb-4c8f-98df-d0c37617255d\">\n",
              "    <div class=\"colab-df-container\">\n",
              "      <div>\n",
              "<style scoped>\n",
              "    .dataframe tbody tr th:only-of-type {\n",
              "        vertical-align: middle;\n",
              "    }\n",
              "\n",
              "    .dataframe tbody tr th {\n",
              "        vertical-align: top;\n",
              "    }\n",
              "\n",
              "    .dataframe thead th {\n",
              "        text-align: right;\n",
              "    }\n",
              "</style>\n",
              "<table border=\"1\" class=\"dataframe\">\n",
              "  <thead>\n",
              "    <tr style=\"text-align: right;\">\n",
              "      <th></th>\n",
              "      <th>YearsExperience</th>\n",
              "      <th>Salary</th>\n",
              "    </tr>\n",
              "  </thead>\n",
              "  <tbody>\n",
              "    <tr>\n",
              "      <th>count</th>\n",
              "      <td>30.000000</td>\n",
              "      <td>30.000000</td>\n",
              "    </tr>\n",
              "    <tr>\n",
              "      <th>mean</th>\n",
              "      <td>5.313333</td>\n",
              "      <td>76003.000000</td>\n",
              "    </tr>\n",
              "    <tr>\n",
              "      <th>std</th>\n",
              "      <td>2.837888</td>\n",
              "      <td>27414.429785</td>\n",
              "    </tr>\n",
              "    <tr>\n",
              "      <th>min</th>\n",
              "      <td>1.100000</td>\n",
              "      <td>37731.000000</td>\n",
              "    </tr>\n",
              "    <tr>\n",
              "      <th>25%</th>\n",
              "      <td>3.200000</td>\n",
              "      <td>56720.750000</td>\n",
              "    </tr>\n",
              "    <tr>\n",
              "      <th>50%</th>\n",
              "      <td>4.700000</td>\n",
              "      <td>65237.000000</td>\n",
              "    </tr>\n",
              "    <tr>\n",
              "      <th>75%</th>\n",
              "      <td>7.700000</td>\n",
              "      <td>100544.750000</td>\n",
              "    </tr>\n",
              "    <tr>\n",
              "      <th>max</th>\n",
              "      <td>10.500000</td>\n",
              "      <td>122391.000000</td>\n",
              "    </tr>\n",
              "  </tbody>\n",
              "</table>\n",
              "</div>\n",
              "      <button class=\"colab-df-convert\" onclick=\"convertToInteractive('df-f3e39832-00bb-4c8f-98df-d0c37617255d')\"\n",
              "              title=\"Convert this dataframe to an interactive table.\"\n",
              "              style=\"display:none;\">\n",
              "        \n",
              "  <svg xmlns=\"http://www.w3.org/2000/svg\" height=\"24px\"viewBox=\"0 0 24 24\"\n",
              "       width=\"24px\">\n",
              "    <path d=\"M0 0h24v24H0V0z\" fill=\"none\"/>\n",
              "    <path d=\"M18.56 5.44l.94 2.06.94-2.06 2.06-.94-2.06-.94-.94-2.06-.94 2.06-2.06.94zm-11 1L8.5 8.5l.94-2.06 2.06-.94-2.06-.94L8.5 2.5l-.94 2.06-2.06.94zm10 10l.94 2.06.94-2.06 2.06-.94-2.06-.94-.94-2.06-.94 2.06-2.06.94z\"/><path d=\"M17.41 7.96l-1.37-1.37c-.4-.4-.92-.59-1.43-.59-.52 0-1.04.2-1.43.59L10.3 9.45l-7.72 7.72c-.78.78-.78 2.05 0 2.83L4 21.41c.39.39.9.59 1.41.59.51 0 1.02-.2 1.41-.59l7.78-7.78 2.81-2.81c.8-.78.8-2.07 0-2.86zM5.41 20L4 18.59l7.72-7.72 1.47 1.35L5.41 20z\"/>\n",
              "  </svg>\n",
              "      </button>\n",
              "      \n",
              "  <style>\n",
              "    .colab-df-container {\n",
              "      display:flex;\n",
              "      flex-wrap:wrap;\n",
              "      gap: 12px;\n",
              "    }\n",
              "\n",
              "    .colab-df-convert {\n",
              "      background-color: #E8F0FE;\n",
              "      border: none;\n",
              "      border-radius: 50%;\n",
              "      cursor: pointer;\n",
              "      display: none;\n",
              "      fill: #1967D2;\n",
              "      height: 32px;\n",
              "      padding: 0 0 0 0;\n",
              "      width: 32px;\n",
              "    }\n",
              "\n",
              "    .colab-df-convert:hover {\n",
              "      background-color: #E2EBFA;\n",
              "      box-shadow: 0px 1px 2px rgba(60, 64, 67, 0.3), 0px 1px 3px 1px rgba(60, 64, 67, 0.15);\n",
              "      fill: #174EA6;\n",
              "    }\n",
              "\n",
              "    [theme=dark] .colab-df-convert {\n",
              "      background-color: #3B4455;\n",
              "      fill: #D2E3FC;\n",
              "    }\n",
              "\n",
              "    [theme=dark] .colab-df-convert:hover {\n",
              "      background-color: #434B5C;\n",
              "      box-shadow: 0px 1px 3px 1px rgba(0, 0, 0, 0.15);\n",
              "      filter: drop-shadow(0px 1px 2px rgba(0, 0, 0, 0.3));\n",
              "      fill: #FFFFFF;\n",
              "    }\n",
              "  </style>\n",
              "\n",
              "      <script>\n",
              "        const buttonEl =\n",
              "          document.querySelector('#df-f3e39832-00bb-4c8f-98df-d0c37617255d button.colab-df-convert');\n",
              "        buttonEl.style.display =\n",
              "          google.colab.kernel.accessAllowed ? 'block' : 'none';\n",
              "\n",
              "        async function convertToInteractive(key) {\n",
              "          const element = document.querySelector('#df-f3e39832-00bb-4c8f-98df-d0c37617255d');\n",
              "          const dataTable =\n",
              "            await google.colab.kernel.invokeFunction('convertToInteractive',\n",
              "                                                     [key], {});\n",
              "          if (!dataTable) return;\n",
              "\n",
              "          const docLinkHtml = 'Like what you see? Visit the ' +\n",
              "            '<a target=\"_blank\" href=https://colab.research.google.com/notebooks/data_table.ipynb>data table notebook</a>'\n",
              "            + ' to learn more about interactive tables.';\n",
              "          element.innerHTML = '';\n",
              "          dataTable['output_type'] = 'display_data';\n",
              "          await google.colab.output.renderOutput(dataTable, element);\n",
              "          const docLink = document.createElement('div');\n",
              "          docLink.innerHTML = docLinkHtml;\n",
              "          element.appendChild(docLink);\n",
              "        }\n",
              "      </script>\n",
              "    </div>\n",
              "  </div>\n",
              "  "
            ],
            "text/plain": [
              "       YearsExperience         Salary\n",
              "count        30.000000      30.000000\n",
              "mean          5.313333   76003.000000\n",
              "std           2.837888   27414.429785\n",
              "min           1.100000   37731.000000\n",
              "25%           3.200000   56720.750000\n",
              "50%           4.700000   65237.000000\n",
              "75%           7.700000  100544.750000\n",
              "max          10.500000  122391.000000"
            ]
          },
          "metadata": {},
          "execution_count": 16
        }
      ]
    },
    {
      "cell_type": "markdown",
      "source": [
        "**7 e. Display a random subset ( at least 5)**"
      ],
      "metadata": {
        "id": "8sUD4Je8J2P1"
      }
    },
    {
      "cell_type": "code",
      "source": [
        "# Randomly sampling 8 data tuples from dataframe\n",
        "\n",
        "print(df.sample(n=8))"
      ],
      "metadata": {
        "colab": {
          "base_uri": "https://localhost:8080/"
        },
        "id": "EB3FWHlCBjaC",
        "outputId": "780ccaff-47d5-4006-a6a7-70269768cc22"
      },
      "execution_count": null,
      "outputs": [
        {
          "output_type": "stream",
          "name": "stdout",
          "text": [
            "    YearsExperience    Salary\n",
            "20              6.8   91738.0\n",
            "28             10.3  122391.0\n",
            "19              6.0   93940.0\n",
            "3               2.0   43525.0\n",
            "12              4.0   56957.0\n",
            "17              5.3   83088.0\n",
            "27              9.6  112635.0\n",
            "6               3.0   60150.0\n"
          ]
        }
      ]
    }
  ]
}