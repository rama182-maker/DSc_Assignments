{
  "cells": [
    {
      "cell_type": "markdown",
      "metadata": {
        "id": "54sXyDB-SvEz"
      },
      "source": [
        "**Assignment 3.1**\n",
        "\n",
        "**Name : Ramakrishna Reddy Are**\n",
        "\n",
        "**Roll No : 197212**\n",
        "\n",
        "**Section : BTech III year CSE-B**\n",
        "\n",
        "**Date : 27-01-2022**"
      ]
    },
    {
      "cell_type": "markdown",
      "metadata": {
        "id": "sp7tYYRJIWpz"
      },
      "source": [
        "\n",
        "\n",
        "---\n",
        "\n"
      ]
    },
    {
      "cell_type": "markdown",
      "metadata": {
        "id": "2yXVS_imS-oz"
      },
      "source": [
        "**1. Simple Linear Regression**"
      ]
    },
    {
      "cell_type": "code",
      "execution_count": 40,
      "metadata": {
        "id": "c7m5gY28TO6y"
      },
      "outputs": [],
      "source": [
        "# import the required libraries\n",
        "import pandas as pd                                             # importing pandas as pd\n",
        "import numpy as np                                              # importing numpy as np     \n",
        "import matplotlib.pyplot as plt                                 # importing matplotlib.pyplot as plt"
      ]
    },
    {
      "cell_type": "markdown",
      "metadata": {
        "id": "UqCqC2JTFNUy"
      },
      "source": [
        "***a. import the dataset***\n",
        "[Salary_Data.csv](https://www.kaggle.com/karthickveerakumar/salary-data-simple-linear-regression)"
      ]
    },
    {
      "cell_type": "code",
      "execution_count": 41,
      "metadata": {
        "id": "-FeJSTpkT2eA"
      },
      "outputs": [],
      "source": [
        "dataset = pd.read_csv(\"Salary_Data.csv\")                        # importing the datatset"
      ]
    },
    {
      "cell_type": "code",
      "execution_count": 42,
      "metadata": {
        "colab": {
          "base_uri": "https://localhost:8080/"
        },
        "id": "3KBu0AyLUn87",
        "outputId": "fb4f9bda-1112-41f8-b075-662d532ec8f4"
      },
      "outputs": [
        {
          "name": "stdout",
          "output_type": "stream",
          "text": [
            "    YearsExperience    Salary\n",
            "0               1.1   39343.0\n",
            "1               1.3   46205.0\n",
            "2               1.5   37731.0\n",
            "3               2.0   43525.0\n",
            "4               2.2   39891.0\n",
            "5               2.9   56642.0\n",
            "6               3.0   60150.0\n",
            "7               3.2   54445.0\n",
            "8               3.2   64445.0\n",
            "9               3.7   57189.0\n",
            "10              3.9   63218.0\n",
            "11              4.0   55794.0\n",
            "12              4.0   56957.0\n",
            "13              4.1   57081.0\n",
            "14              4.5   61111.0\n",
            "15              4.9   67938.0\n",
            "16              5.1   66029.0\n",
            "17              5.3   83088.0\n",
            "18              5.9   81363.0\n",
            "19              6.0   93940.0\n",
            "20              6.8   91738.0\n",
            "21              7.1   98273.0\n",
            "22              7.9  101302.0\n",
            "23              8.2  113812.0\n",
            "24              8.7  109431.0\n",
            "25              9.0  105582.0\n",
            "26              9.5  116969.0\n",
            "27              9.6  112635.0\n",
            "28             10.3  122391.0\n",
            "29             10.5  121872.0\n"
          ]
        }
      ],
      "source": [
        "print(dataset)                                                  # printing the dataset"
      ]
    },
    {
      "cell_type": "markdown",
      "metadata": {
        "id": "K6f61VGnF2ao"
      },
      "source": [
        "***b. Assigning the values to independent variable and dependent variable***"
      ]
    },
    {
      "cell_type": "code",
      "execution_count": 43,
      "metadata": {
        "colab": {
          "base_uri": "https://localhost:8080/"
        },
        "id": "kjhOyqfUUyhB",
        "outputId": "466bd99d-30bb-49d7-96b3-6f5529cc0636"
      },
      "outputs": [
        {
          "name": "stdout",
          "output_type": "stream",
          "text": [
            "    YearsExperience\n",
            "0               1.1\n",
            "1               1.3\n",
            "2               1.5\n",
            "3               2.0\n",
            "4               2.2\n",
            "5               2.9\n",
            "6               3.0\n",
            "7               3.2\n",
            "8               3.2\n",
            "9               3.7\n",
            "10              3.9\n",
            "11              4.0\n",
            "12              4.0\n",
            "13              4.1\n",
            "14              4.5\n",
            "15              4.9\n",
            "16              5.1\n",
            "17              5.3\n",
            "18              5.9\n",
            "19              6.0\n",
            "20              6.8\n",
            "21              7.1\n",
            "22              7.9\n",
            "23              8.2\n",
            "24              8.7\n",
            "25              9.0\n",
            "26              9.5\n",
            "27              9.6\n",
            "28             10.3\n",
            "29             10.5\n",
            "0      39343.0\n",
            "1      46205.0\n",
            "2      37731.0\n",
            "3      43525.0\n",
            "4      39891.0\n",
            "5      56642.0\n",
            "6      60150.0\n",
            "7      54445.0\n",
            "8      64445.0\n",
            "9      57189.0\n",
            "10     63218.0\n",
            "11     55794.0\n",
            "12     56957.0\n",
            "13     57081.0\n",
            "14     61111.0\n",
            "15     67938.0\n",
            "16     66029.0\n",
            "17     83088.0\n",
            "18     81363.0\n",
            "19     93940.0\n",
            "20     91738.0\n",
            "21     98273.0\n",
            "22    101302.0\n",
            "23    113812.0\n",
            "24    109431.0\n",
            "25    105582.0\n",
            "26    116969.0\n",
            "27    112635.0\n",
            "28    122391.0\n",
            "29    121872.0\n",
            "Name: Salary, dtype: float64\n"
          ]
        }
      ],
      "source": [
        "X = dataset.iloc[:,:-1]                                         # assigning values to independent variable ie., except last column\n",
        "Y = dataset.iloc[:,-1]                                          # assigning values to dependent variable ie., last column of all rows\n",
        "print(X)                                                        # printing values of independent variable\n",
        "print(Y)                                                        # printing values of dependent variable"
      ]
    },
    {
      "cell_type": "markdown",
      "metadata": {
        "id": "Fnv6JUA_F_FR"
      },
      "source": [
        "***c. Print the first few rows***"
      ]
    },
    {
      "cell_type": "code",
      "execution_count": 44,
      "metadata": {
        "colab": {
          "base_uri": "https://localhost:8080/"
        },
        "id": "25apf9LaVlRE",
        "outputId": "f2e629d5-7f4c-4b64-8fe6-d7482f7212c6"
      },
      "outputs": [
        {
          "name": "stdout",
          "output_type": "stream",
          "text": [
            "   YearsExperience   Salary\n",
            "0              1.1  39343.0\n",
            "1              1.3  46205.0\n",
            "2              1.5  37731.0\n",
            "3              2.0  43525.0\n",
            "4              2.2  39891.0\n",
            "    YearsExperience   Salary\n",
            "0               1.1  39343.0\n",
            "1               1.3  46205.0\n",
            "2               1.5  37731.0\n",
            "3               2.0  43525.0\n",
            "4               2.2  39891.0\n",
            "5               2.9  56642.0\n",
            "6               3.0  60150.0\n",
            "7               3.2  54445.0\n",
            "8               3.2  64445.0\n",
            "9               3.7  57189.0\n",
            "10              3.9  63218.0\n",
            "11              4.0  55794.0\n"
          ]
        }
      ],
      "source": [
        "print(dataset.head())                                           # printing first few rows by default 5 rows\n",
        "print(dataset.head(12))                                         # pritning first 12 rows"
      ]
    },
    {
      "cell_type": "markdown",
      "metadata": {
        "id": "v_wcS_QOGKz6"
      },
      "source": [
        "***d. Separate the dataset into train and test data as 80% and 20% respectively.***"
      ]
    },
    {
      "cell_type": "code",
      "execution_count": 45,
      "metadata": {
        "colab": {
          "base_uri": "https://localhost:8080/"
        },
        "id": "VH5JJYidV9AY",
        "outputId": "4255aad9-b9db-4a52-a164-c4a940f145bf"
      },
      "outputs": [
        {
          "name": "stdout",
          "output_type": "stream",
          "text": [
            "X Train\n",
            "     YearsExperience\n",
            "2               1.5\n",
            "28             10.3\n",
            "13              4.1\n",
            "10              3.9\n",
            "26              9.5\n",
            "24              8.7\n",
            "27              9.6\n",
            "11              4.0\n",
            "17              5.3\n",
            "22              7.9\n",
            "5               2.9\n",
            "16              5.1\n",
            "8               3.2\n",
            "14              4.5\n",
            "23              8.2\n",
            "20              6.8\n",
            "1               1.3\n",
            "29             10.5\n",
            "6               3.0\n",
            "4               2.2\n",
            "18              5.9\n",
            "19              6.0\n",
            "9               3.7\n",
            "7               3.2\n",
            "Y Train\n",
            " 2      37731.0\n",
            "28    122391.0\n",
            "13     57081.0\n",
            "10     63218.0\n",
            "26    116969.0\n",
            "24    109431.0\n",
            "27    112635.0\n",
            "11     55794.0\n",
            "17     83088.0\n",
            "22    101302.0\n",
            "5      56642.0\n",
            "16     66029.0\n",
            "8      64445.0\n",
            "14     61111.0\n",
            "23    113812.0\n",
            "20     91738.0\n",
            "1      46205.0\n",
            "29    121872.0\n",
            "6      60150.0\n",
            "4      39891.0\n",
            "18     81363.0\n",
            "19     93940.0\n",
            "9      57189.0\n",
            "7      54445.0\n",
            "Name: Salary, dtype: float64\n",
            "X test\n",
            "     YearsExperience\n",
            "0               1.1\n",
            "3               2.0\n",
            "12              4.0\n",
            "15              4.9\n",
            "21              7.1\n",
            "25              9.0\n",
            "Y test\n",
            " 0      39343.0\n",
            "3      43525.0\n",
            "12     56957.0\n",
            "15     67938.0\n",
            "21     98273.0\n",
            "25    105582.0\n",
            "Name: Salary, dtype: float64\n"
          ]
        }
      ],
      "source": [
        "X_train=X.sample(frac=0.8,random_state=0)                       # sampling the data with fraction of 0.8 for training\n",
        "X_test=X.drop(X_train.index)                                    # dropping the data present in training data\n",
        "Y_train=Y[X_train.index]                                        # assigning Y value for the training data with respective indexes of X\n",
        "Y_test=Y[X_test.index]                                          # assigning Y value for the testing data with respective indexes of X\n",
        "print(\"X Train\\n\",X_train)                                      # printing X Train\n",
        "print(\"Y Train\\n\",Y_train)                                      # printing Y Train\n",
        "print(\"X test\\n\",X_test)                                        # printing X Test\n",
        "print(\"Y test\\n\",Y_test)                                        # printing Y Test"
      ]
    },
    {
      "cell_type": "markdown",
      "metadata": {
        "id": "G9tR2QTMGyRB"
      },
      "source": [
        "***e. Plot the dataset (train dataset)( independent variable vs dependent variable)***"
      ]
    },
    {
      "cell_type": "code",
      "execution_count": 46,
      "metadata": {
        "colab": {
          "base_uri": "https://localhost:8080/",
          "height": 295
        },
        "id": "iSm3nk0QaJzl",
        "outputId": "a0f0d771-f83e-4f42-ede0-cc93ce8f953a"
      },
      "outputs": [
        {
          "data": {
            "image/png": "[encoded data removed]",
            "text/plain": [
              "<Figure size 432x288 with 1 Axes>"
            ]
          },
          "metadata": {
            "needs_background": "light"
          },
          "output_type": "display_data"
        }
      ],
      "source": [
        "# plotting train dataset\n",
        "plt.scatter(X_train,Y_train,color='red')                        # plotting graph of training dataset of scatter points color = red\n",
        "plt.title('Salary vs Experience (Training set)')                # giving the title to the graph\n",
        "plt.xlabel('Years of Experience')                               # labelling the x-coordinate of graph\n",
        "plt.ylabel('Salary')                                            # labelling the y-coordinate of graph\n",
        "plt.show()                                                      # plotting the graph"
      ]
    },
    {
      "cell_type": "markdown",
      "metadata": {
        "id": "4rsCR5B15OPv"
      },
      "source": [
        "**Least Mean Square Method**"
      ]
    },
    {
      "cell_type": "markdown",
      "metadata": {
        "id": "BB-lmZuvHIYm"
      },
      "source": [
        "***f(i). Compute the slope***\n",
        "\n",
        "***f(ii). Compute the intercept***\n",
        "\n",
        "***Linear Regression Least Mean Square***"
      ]
    },
    {
      "cell_type": "code",
      "execution_count": 47,
      "metadata": {
        "colab": {
          "base_uri": "https://localhost:8080/"
        },
        "id": "1BeI56Ka6JgO",
        "outputId": "83d9b9dc-91a9-48e8-cae1-f2cb4c509be0"
      },
      "outputs": [
        {
          "name": "stdout",
          "output_type": "stream",
          "text": [
            "Slope :  9489.831603861505\n",
            "Intercept :  25935.71293387436\n"
          ]
        }
      ],
      "source": [
        "X_mean = np.mean(X_train)                                           # calculating mean of independent variable\n",
        "Y_mean = np.mean(Y_train)                                           # calculating mean of dependent variable\n",
        "num=0                                                               # variable to find numerator\n",
        "den=0                                                               # variable to find denominator\n",
        "for i in range(len(X_train)):                                       \n",
        "  num+=(X_train.iloc[i]-X_mean)*(Y_train.iloc[i]-Y_mean)            # finding numerator term\n",
        "  den+=(X_train.iloc[i]-X_mean)**2                                  # finding denominator term\n",
        "slope=num/den                                                       # finding slope\n",
        "intercept=Y_mean-slope*(X_mean)                                     # finding intercept\n",
        "slope=float(slope)                  \n",
        "intercept=float(intercept)\n",
        "print(\"Slope : \",slope)                                             # printing slope\n",
        "print(\"Intercept : \",intercept)                                     # printing intercept"
      ]
    },
    {
      "cell_type": "markdown",
      "metadata": {
        "id": "mnjUdRHSHnoH"
      },
      "source": [
        "***f(iii). plotting the graph of scatter points and regression line on training dataset***"
      ]
    },
    {
      "cell_type": "code",
      "execution_count": 48,
      "metadata": {
        "colab": {
          "base_uri": "https://localhost:8080/",
          "height": 295
        },
        "id": "yZKGNH2u8h7e",
        "outputId": "bfcf5fe9-93c7-449e-af08-21eaae9071bd"
      },
      "outputs": [
        {
          "data": {
            "image/png": "[encoded data removed]",
            "text/plain": [
              "<Figure size 432x288 with 1 Axes>"
            ]
          },
          "metadata": {
            "needs_background": "light"
          },
          "output_type": "display_data"
        }
      ],
      "source": [
        "Y_pred=intercept + slope*X_train\n",
        "plt.scatter(X_train, Y_train, color = 'red')                                    # plotting graph of training dataset of scatter points color = red\n",
        "plt.plot(X_train, Y_pred, color = 'green')                                      # plotting the regression line after predicting the training data\n",
        "plt.title('Salary vs Experience (Training set)')                                # giving the title to the graph\n",
        "plt.xlabel('Years of Experience')                                               # labelling the x-coordinate of graph\n",
        "plt.ylabel('Salary')                                                            # labelling the y-coordinate of graph\n",
        "plt.show()                                                                      # plotting the graph"
      ]
    },
    {
      "cell_type": "markdown",
      "metadata": {
        "id": "TufzLIxUHyJ3"
      },
      "source": [
        "***f(iii). plotting the graph of scatter points and regression line on testing dataset***"
      ]
    },
    {
      "cell_type": "code",
      "execution_count": 49,
      "metadata": {
        "colab": {
          "base_uri": "https://localhost:8080/",
          "height": 295
        },
        "id": "1FQeGO9E8o93",
        "outputId": "6b8de590-4a0a-47c1-e598-bfdddcfb7fdb"
      },
      "outputs": [
        {
          "data": {
            "image/png": "[encoded data removed]",
            "text/plain": [
              "<Figure size 432x288 with 1 Axes>"
            ]
          },
          "metadata": {
            "needs_background": "light"
          },
          "output_type": "display_data"
        }
      ],
      "source": [
        "Y_pred=intercept + slope*X_test\n",
        "plt.scatter(X_test, Y_test, color = 'red')                                      # plotting graph of testing dataset of scatter points color = red\n",
        "plt.plot(X_test, Y_pred , color = 'green')                                      # plotting the regression line after predicting the testing data\n",
        "plt.title('Salary vs Experience (Testing set)')                                 # giving the title to the graph\n",
        "plt.xlabel('Years of Experience')                                               # labelling the x-coordinate of graph\n",
        "plt.ylabel('Salary')                                                            # labelling the y-coordinate of graph\n",
        "plt.show()                                                                      # plotting the graph"
      ]
    },
    {
      "cell_type": "markdown",
      "metadata": {
        "id": "wk_zrVL-IEos"
      },
      "source": [
        "***g. predicting the values of testing data***"
      ]
    },
    {
      "cell_type": "code",
      "execution_count": 50,
      "metadata": {
        "colab": {
          "base_uri": "https://localhost:8080/"
        },
        "id": "Was1VJIN8xnQ",
        "outputId": "7a070e76-9d8e-4ec6-ed73-c168d2b37584"
      },
      "outputs": [
        {
          "name": "stdout",
          "output_type": "stream",
          "text": [
            "Y Test\n",
            " 0      39343.0\n",
            "3      43525.0\n",
            "12     56957.0\n",
            "15     67938.0\n",
            "21     98273.0\n",
            "25    105582.0\n",
            "Name: Salary, dtype: float64\n",
            "Y Predicted\n",
            "     YearsExperience\n",
            "0      36374.527698\n",
            "3      44915.376142\n",
            "12     63895.039349\n",
            "15     72435.887793\n",
            "21     93313.517321\n",
            "25    111344.197369\n"
          ]
        }
      ],
      "source": [
        "Y_predicted = intercept + slope*X_test                                          # predicting the values of test data\n",
        "print(\"Y Test\\n\",Y_test)                                                        # printing Y test data\n",
        "print(\"Y Predicted\\n\",Y_predicted)                                              # printing Y predicted by our model"
      ]
    },
    {
      "cell_type": "markdown",
      "metadata": {
        "id": "oI4Bzs97IKL3"
      },
      "source": [
        "***h. Calculate the error / accuracy of the model using root mean squared error***"
      ]
    },
    {
      "cell_type": "code",
      "execution_count": 51,
      "metadata": {
        "colab": {
          "base_uri": "https://localhost:8080/"
        },
        "id": "o7_aF9O783nM",
        "outputId": "880ba5c3-9db5-4086-9589-72532c3aae1a"
      },
      "outputs": [
        {
          "name": "stdout",
          "output_type": "stream",
          "text": [
            "Mean Absolute Error :  4419.409272154725\n",
            "Root Mean Squared Error :  4776.884360942035\n"
          ]
        }
      ],
      "source": [
        "n=(int)(len(Y_test))                                      # size of the test dataset\n",
        "mae=0                                                     # mean absolute error\n",
        "rms=0                                                     # root mean squared error\n",
        "for i in range(n):                            \n",
        "  mae+=abs(Y_test.iloc[i]-Y_predicted.iloc[i])            # calculating mean absolute error\n",
        "  rms+=(Y_test.iloc[i]-Y_predicted.iloc[i])**2            # calculating root mean square error\n",
        "mae/=n                                                    # calculating mean absolute error\n",
        "rms/=n                                                    # calculating root mean square error\n",
        "mae=float(mae)\n",
        "rms=np.sqrt(rms)\n",
        "rms=float(rms)\n",
        "print(\"Mean Absolute Error : \",mae)                       # printing mean absolute error\n",
        "print(\"Root Mean Squared Error : \",rms)                   # printing root mean square error"
      ]
    },
    {
      "cell_type": "markdown",
      "metadata": {
        "id": "_10YhVplIQPY"
      },
      "source": [
        "\n",
        "\n",
        "---\n",
        "\n",
        "\n"
      ]
    },
    {
      "cell_type": "markdown",
      "metadata": {
        "id": "P0QpuF7IMtqo"
      },
      "source": [
        "**2. Multiple Linear Regression**"
      ]
    },
    {
      "cell_type": "code",
      "execution_count": 52,
      "metadata": {
        "id": "mV50sD42M96D"
      },
      "outputs": [],
      "source": [
        "# import the required libraries\n",
        "import pandas as pd                                             # importing pandas as pd\n",
        "import numpy as np                                              # importing numpy as np     \n",
        "import matplotlib.pyplot as plt                                 # importing matplotlib.pyplot as plt"
      ]
    },
    {
      "cell_type": "markdown",
      "metadata": {
        "id": "AuNWGYUAI2GX"
      },
      "source": [
        "***a. import the dataset*** \n",
        "[housing.csv](https://www.kaggle.com/prasadperera/the-boston-housing-dataset/data?select=housing.csv)"
      ]
    },
    {
      "cell_type": "code",
      "execution_count": 53,
      "metadata": {
        "id": "GNIR3eT-NRPw"
      },
      "outputs": [],
      "source": [
        "column_names = ['CRIM', 'ZN', 'INDUS', 'CHAS', 'NOX', 'RM', 'AGE', 'DIS', 'RAD', 'TAX', 'PTRATIO', 'B', 'LSTAT', 'MEDV']\n",
        "dataset = pd.read_csv('housing.csv', header=None, delimiter=r\"\\s+\", names=column_names)"
      ]
    },
    {
      "cell_type": "code",
      "execution_count": 54,
      "metadata": {
        "colab": {
          "base_uri": "https://localhost:8080/"
        },
        "id": "RNc1GMvaNcq3",
        "outputId": "c6db5658-c487-4db1-8082-625ec319ec13"
      },
      "outputs": [
        {
          "name": "stdout",
          "output_type": "stream",
          "text": [
            "        CRIM    ZN  INDUS  CHAS    NOX  ...    TAX  PTRATIO       B  LSTAT  MEDV\n",
            "0    0.00632  18.0   2.31     0  0.538  ...  296.0     15.3  396.90   4.98  24.0\n",
            "1    0.02731   0.0   7.07     0  0.469  ...  242.0     17.8  396.90   9.14  21.6\n",
            "2    0.02729   0.0   7.07     0  0.469  ...  242.0     17.8  392.83   4.03  34.7\n",
            "3    0.03237   0.0   2.18     0  0.458  ...  222.0     18.7  394.63   2.94  33.4\n",
            "4    0.06905   0.0   2.18     0  0.458  ...  222.0     18.7  396.90   5.33  36.2\n",
            "..       ...   ...    ...   ...    ...  ...    ...      ...     ...    ...   ...\n",
            "501  0.06263   0.0  11.93     0  0.573  ...  273.0     21.0  391.99   9.67  22.4\n",
            "502  0.04527   0.0  11.93     0  0.573  ...  273.0     21.0  396.90   9.08  20.6\n",
            "503  0.06076   0.0  11.93     0  0.573  ...  273.0     21.0  396.90   5.64  23.9\n",
            "504  0.10959   0.0  11.93     0  0.573  ...  273.0     21.0  393.45   6.48  22.0\n",
            "505  0.04741   0.0  11.93     0  0.573  ...  273.0     21.0  396.90   7.88  11.9\n",
            "\n",
            "[506 rows x 14 columns]\n"
          ]
        }
      ],
      "source": [
        "print(dataset)                                                  # printing the dataset"
      ]
    },
    {
      "cell_type": "markdown",
      "metadata": {
        "id": "IAoL7YAOI_1z"
      },
      "source": [
        "***b. Scale the dataset [Standardization of the data]***"
      ]
    },
    {
      "cell_type": "code",
      "execution_count": 55,
      "metadata": {
        "id": "ksfqU8TRNg8E"
      },
      "outputs": [],
      "source": [
        "# dataset = dataset.fillna(0)                                   # replacing all Nan values in dataset with 0\n",
        "m=dataset.shape[0]\n",
        "n=dataset.shape[1]\n",
        "k=0\n",
        "for i in dataset.columns[:-1]:\n",
        "  mean=0                                                        # for mean of each column\n",
        "  sd=0                                                          # for standard deviation of each column\n",
        "  mean = np.mean(dataset[i])                                    # finding mean of each column\n",
        "  sd = np.sum((dataset[i]-mean)**2)                          \n",
        "  sd=sd/(m-1)\n",
        "  sd = np.sqrt(sd)                                              # finding standard deviation of each column\n",
        "  for j in range(m):\n",
        "    cell=dataset.iat[j,k]\n",
        "    dataset.iat[j,k]=(cell-mean)/sd                             # replacing the data in the dataset with standardized value\n",
        "  k+=1"
      ]
    },
    {
      "cell_type": "code",
      "execution_count": 56,
      "metadata": {
        "colab": {
          "base_uri": "https://localhost:8080/"
        },
        "id": "YeEXKiXAVQoV",
        "outputId": "b1cb623e-0ef2-4cd7-bf16-af283cbcb71a"
      },
      "outputs": [
        {
          "name": "stdout",
          "output_type": "stream",
          "text": [
            "         CRIM        ZN     INDUS  ...   PTRATIO         B     LSTAT\n",
            "0   -0.419367  0.284548 -1.286636  ... -1.457558  0.440616 -1.074499\n",
            "1   -0.416927 -0.487240 -0.592794  ... -0.302794  0.440616 -0.491953\n",
            "2   -0.416929 -0.487240 -0.592794  ... -0.302794  0.396035 -1.207532\n",
            "3   -0.416338 -0.487240 -1.305586  ...  0.112920  0.415751 -1.360171\n",
            "4   -0.412074 -0.487240 -1.305586  ...  0.112920  0.440616 -1.025487\n",
            "..        ...       ...       ...  ...       ...       ...       ...\n",
            "501 -0.412820 -0.487240  0.115624  ...  1.175303  0.386834 -0.417734\n",
            "502 -0.414839 -0.487240  0.115624  ...  1.175303  0.440616 -0.500355\n",
            "503 -0.413038 -0.487240  0.115624  ...  1.175303  0.440616 -0.982076\n",
            "504 -0.407361 -0.487240  0.115624  ...  1.175303  0.402826 -0.864446\n",
            "505 -0.414590 -0.487240  0.115624  ...  1.175303  0.440616 -0.668397\n",
            "\n",
            "[506 rows x 13 columns]\n",
            "0      24.0\n",
            "1      21.6\n",
            "2      34.7\n",
            "3      33.4\n",
            "4      36.2\n",
            "       ... \n",
            "501    22.4\n",
            "502    20.6\n",
            "503    23.9\n",
            "504    22.0\n",
            "505    11.9\n",
            "Name: MEDV, Length: 506, dtype: float64\n"
          ]
        }
      ],
      "source": [
        "# Assigning the values to independent variable and dependent variable\n",
        "X = dataset.iloc[:,:-1]                                         # assigning values to independent variable ie., except last column\n",
        "Y = dataset.iloc[:,-1]                                          # assigning values to dependent variable ie., last column of all rows\n",
        "print(X)                                                        # printing values of independent variable\n",
        "print(Y)                                                        # printing values of dependent variable"
      ]
    },
    {
      "cell_type": "markdown",
      "metadata": {
        "id": "LZ0xlutZJKxi"
      },
      "source": [
        "***c. Separate the dataset into train and test data as 80% and 20% respectively.***"
      ]
    },
    {
      "cell_type": "code",
      "execution_count": 57,
      "metadata": {
        "colab": {
          "base_uri": "https://localhost:8080/"
        },
        "id": "1DeN8Ck6U9_z",
        "outputId": "a0e51ca0-f4a9-4813-fc56-09f71e7dce78"
      },
      "outputs": [
        {
          "name": "stdout",
          "output_type": "stream",
          "text": [
            "X Train\n",
            "          CRIM        ZN     INDUS  ...   PTRATIO         B     LSTAT\n",
            "173 -0.409432 -0.487240 -1.033005  ... -0.857081  0.425281 -0.505956\n",
            "274 -0.413540  1.227845 -0.688999  ... -0.395176  0.440616 -1.277550\n",
            "491 -0.407809 -0.487240  2.420170  ...  0.759588  0.366242  0.758562\n",
            "72  -0.409448 -0.487240 -0.047633  ...  0.343873  0.375004 -0.998880\n",
            "452  0.171672 -0.487240  1.014995  ...  0.805778  0.311255  0.646534\n",
            "..        ...       ...       ...  ...       ...       ...       ...\n",
            "504 -0.407361 -0.487240  0.115624  ...  1.175303  0.402826 -0.864446\n",
            "337 -0.416566 -0.487240 -0.866833  ...  0.805778  0.417723 -0.293103\n",
            "236 -0.359580 -0.487240 -0.719610  ... -0.487557  0.348059 -0.435938\n",
            "207 -0.390806 -0.487240 -0.079701  ...  0.066730  0.358793  0.757161\n",
            "212 -0.394852 -0.487240 -0.079701  ...  0.066730  0.375333  0.472890\n",
            "\n",
            "[405 rows x 13 columns]\n",
            "Y Train\n",
            " 173    23.6\n",
            "274    32.4\n",
            "491    13.6\n",
            "72     22.8\n",
            "452    16.1\n",
            "       ... \n",
            "504    22.0\n",
            "337    18.5\n",
            "236    25.1\n",
            "207    22.5\n",
            "212    22.4\n",
            "Name: MEDV, Length: 405, dtype: float64\n",
            "X test\n",
            "          CRIM       ZN     INDUS  ...   PTRATIO         B     LSTAT\n",
            "1   -0.416927 -0.48724 -0.592794  ... -0.302794  0.440616 -0.491953\n",
            "13  -0.346887 -0.48724 -0.436826  ...  1.175303  0.440616 -0.615184\n",
            "20  -0.274571 -0.48724 -0.436826  ...  1.175303  0.217931  1.171666\n",
            "21  -0.321045 -0.48724 -0.436826  ...  1.175303  0.392749  0.164813\n",
            "34  -0.232598 -0.48724 -0.436826  ...  1.175303 -1.186967  1.076442\n",
            "..        ...      ...       ...  ...       ...       ...       ...\n",
            "488 -0.402563 -0.48724  2.420170  ...  0.759588  0.420790  0.757161\n",
            "494 -0.387599 -0.48724 -0.210890  ...  0.343873  0.440616  0.131204\n",
            "498 -0.392302 -0.48724 -0.210890  ...  0.343873  0.440616  0.037381\n",
            "502 -0.414839 -0.48724  0.115624  ...  1.175303  0.440616 -0.500355\n",
            "505 -0.414590 -0.48724  0.115624  ...  1.175303  0.440616 -0.668397\n",
            "\n",
            "[101 rows x 13 columns]\n",
            "Y test\n",
            " 1      21.6\n",
            "13     20.4\n",
            "20     13.6\n",
            "21     19.6\n",
            "34     13.5\n",
            "       ... \n",
            "488    15.2\n",
            "494    24.5\n",
            "498    21.2\n",
            "502    20.6\n",
            "505    11.9\n",
            "Name: MEDV, Length: 101, dtype: float64\n"
          ]
        }
      ],
      "source": [
        "X_train=X.sample(frac=0.8,random_state=42)                      # sampling the data with fraction of 0.8 for training\n",
        "X_test=X.drop(X_train.index)                                    # dropping the data present in training data\n",
        "Y_train=Y[X_train.index]                                        # assigning Y value for the training data with respective indexes of X\n",
        "Y_test=Y[X_test.index]                                          # assigning Y value for the testing data with respective indexes of X\n",
        "print(\"X Train\\n\",X_train)                                      # printing X Train\n",
        "print(\"Y Train\\n\",Y_train)                                      # printing Y Train\n",
        "print(\"X test\\n\",X_test)                                        # printing X Test\n",
        "print(\"Y test\\n\",Y_test)                                        # printing Y Test"
      ]
    },
    {
      "cell_type": "markdown",
      "metadata": {
        "id": "e5_FXTvqJRKp"
      },
      "source": [
        "***d. Implement the logic of the algorithm using Gradient Descent Function.***"
      ]
    },
    {
      "cell_type": "code",
      "execution_count": 58,
      "metadata": {
        "colab": {
          "base_uri": "https://localhost:8080/"
        },
        "id": "dwlLjNX2ZMka",
        "outputId": "35631b11-00d2-4657-a743-a9c17429a9eb"
      },
      "outputs": [
        {
          "name": "stdout",
          "output_type": "stream",
          "text": [
            "Output from method 2\n",
            " [ 5.85045797 -0.43959615  0.49643795 -0.59657196  0.41976165 -0.55305632\n",
            "  1.34649046 -0.33319981  0.08434148 -0.32079836 -0.59549224 -0.73467907\n",
            "  0.46290512 -1.1532291 ]\n"
          ]
        }
      ],
      "source": [
        "def gradient_descent(X,Y,alpha,epochs):                 # alpha is the learning rate or step length and epochs is the number of iterations to train the data\n",
        "  X = np.c_[np.ones(len(X),dtype='float64'),X]          # adding extra column ie., for x0=1\n",
        "  theta = np.zeros(X.shape[1])                          # initializing all the coefficients with 0s   \n",
        "  m = (int)(len(X))                                     # size of the training data\n",
        "  for i in range(epochs):\n",
        "    h = X.dot(theta)                                    # h is the predicted value by the present coefficients\n",
        "    pdtheta = X.T.dot(h-Y)                              # value of partial derivative wrt theta                                  \n",
        "    theta = theta - alpha*pdtheta/m                     # updating the value of theta at every iteration\n",
        "  return theta                                          # returning the coefficients of xi\n",
        "\n",
        "print(\"Output from method 2\\n\",gradient_descent(X_train,Y_train,0.003,100))"
      ]
    },
    {
      "cell_type": "markdown",
      "metadata": {
        "id": "ItdTodv9JY_L"
      },
      "source": [
        "***e. Train the model and plot the data***"
      ]
    },
    {
      "cell_type": "code",
      "execution_count": 59,
      "metadata": {
        "colab": {
          "base_uri": "https://localhost:8080/",
          "height": 336
        },
        "id": "aAWlw0pLbf0n",
        "outputId": "fce3abbb-8767-464d-ee2a-a8351e76ca65"
      },
      "outputs": [
        {
          "data": {
            "image/png": "[encoded data removed]",
            "text/plain": [
              "<Figure size 720x360 with 1 Axes>"
            ]
          },
          "metadata": {
            "needs_background": "light"
          },
          "output_type": "display_data"
        }
      ],
      "source": [
        "def pred(X,theta):                                              # function for predicting the Y value X and theta given\n",
        "  X = np.c_[np.ones(len(X),dtype='float64'),X]                  \n",
        "  return X.dot(theta)                                           # dot product of X and theta gives Y\n",
        "theta = gradient_descent(X_train,Y_train,0.003,1000)            # training the model using gradient descent function and storing value of coefficients in theta\n",
        "plt.figure(figsize=[10,5])                                      # fixing the size of the figure    \n",
        "N = np.arange(len(Y_train.head(10)))                            # used for arranging the bars sideways            \n",
        "plt.bar(N,Y_train.head(10),color='red',width=0.25)              # actual training value is displayed in red\n",
        "plt.bar(N+0.25,pred(X_train,theta)[:10],color='green',width=0.25)# predicted training value is displayed in green\n",
        "plt.title(\"Actual vs Predicted in Training data\")               # Giving title to the plot graph\n",
        "plt.legend(['Actual','Predicted'])                              # for showing the color representations\n",
        "plt.show()                                                      # displaying the figure"
      ]
    },
    {
      "cell_type": "markdown",
      "metadata": {
        "id": "_bGYA7k8JoUu"
      },
      "source": [
        "***f. Predict the values using test data.***"
      ]
    },
    {
      "cell_type": "code",
      "execution_count": 60,
      "metadata": {
        "colab": {
          "base_uri": "https://localhost:8080/",
          "height": 496
        },
        "id": "KWq08W61nDeL",
        "outputId": "96f2052e-49b7-42d5-fc23-a1107e7efb30"
      },
      "outputs": [
        {
          "name": "stdout",
          "output_type": "stream",
          "text": [
            "Actual Values\n",
            " 1     21.6\n",
            "13    20.4\n",
            "20    13.6\n",
            "21    19.6\n",
            "34    13.5\n",
            "Name: MEDV, dtype: float64\n",
            "Predicted Values\n",
            " [24.31417813 19.52514369 12.80358522 17.74917766 14.38051941]\n"
          ]
        },
        {
          "data": {
            "image/png": "[encoded data removed]",
            "text/plain": [
              "<Figure size 720x360 with 1 Axes>"
            ]
          },
          "metadata": {
            "needs_background": "light"
          },
          "output_type": "display_data"
        }
      ],
      "source": [
        "def pred(X,theta):                                              # function for predicting the Y value X and theta given\n",
        "  X = np.c_[np.ones(len(X),dtype='float64'),X]                  \n",
        "  return X.dot(theta)                                           # dot product of X and theta gives Y\n",
        "Y_pred = pred(X_test,theta)                                     # predicting the values of test data                                            \n",
        "print(\"Actual Values\\n\",Y_test.head(5))                         # printing 5 actual test values\n",
        "print(\"Predicted Values\\n\",Y_pred[:5])                          # printing 5 predicted values \n",
        "plt.figure(figsize=[10,5])                                      # fixing the size of the figure    \n",
        "N = np.arange(len(Y_test.head(10)))                             # used for arranging the bars sideways            \n",
        "plt.bar(N,Y_test.head(10),color='red',width=0.25)               # actual training value is displayed in red\n",
        "plt.bar(N+0.25,Y_pred[:10],color='green',width=0.25)             # predicted training value is displayed in green\n",
        "plt.title(\"Actual vs Predicted in Testing data\")                # Giving title to the plot graph\n",
        "plt.legend(['Actual','Predicted'])                              # for showing the color representations\n",
        "plt.show()                                                      # displaying the figure"
      ]
    },
    {
      "cell_type": "markdown",
      "metadata": {
        "id": "zC_B_M6xJuhh"
      },
      "source": [
        "***g. Calculate the error / accuracy of the model using root mean squared error***"
      ]
    },
    {
      "cell_type": "code",
      "execution_count": 61,
      "metadata": {
        "colab": {
          "base_uri": "https://localhost:8080/"
        },
        "id": "wIQQNnBqlLO6",
        "outputId": "4eda4142-c26e-4585-c310-9c3d47e26678"
      },
      "outputs": [
        {
          "name": "stdout",
          "output_type": "stream",
          "text": [
            "Mean Absolute Error :  2.9481201389383096\n",
            "Root Mean Squared Error :  4.759403559792814\n"
          ]
        }
      ],
      "source": [
        "from sklearn.metrics import mean_squared_error\n",
        "n=(int)(len(Y_test))                                      # size of the test dataset\n",
        "mae=0                                                     # mean absolute error\n",
        "rms=0                                                     # root mean squared error\n",
        "for i in range(n):                            \n",
        "  mae+=abs(Y_test.iloc[i]-Y_pred[i])                      # calculating mean absolute error\n",
        "  rms+=(Y_test.iloc[i]-Y_pred[i])**2                      # calculating root mean square error\n",
        "mae/=n                                                    # calculating mean absolute error\n",
        "rms/=n                                                    # calculating root mean square error\n",
        "mae=float(mae)\n",
        "rms=np.sqrt(rms)\n",
        "rms=float(rms)\n",
        "print(\"Mean Absolute Error : \",mae)                       # printing mean absolute error\n",
        "print(\"Root Mean Squared Error : \",rms)                   # printing root mean square error"
      ]
    },
    {
      "cell_type": "markdown",
      "metadata": {
        "id": "Ab_XmblDJ1rN"
      },
      "source": [
        "\n",
        "\n",
        "---\n",
        "\n"
      ]
    }
  ],
  "metadata": {
    "colab": {
      "collapsed_sections": [],
      "name": "197212_3.1",
      "provenance": []
    },
    "kernelspec": {
      "display_name": "Python 3",
      "name": "python3"
    },
    "language_info": {
      "name": "python"
    }
  },
  "nbformat": 4,
  "nbformat_minor": 0
}
