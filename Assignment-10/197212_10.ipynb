{
  "nbformat": 4,
  "nbformat_minor": 0,
  "metadata": {
    "colab": {
      "name": "197212_10.ipynb",
      "provenance": [],
      "collapsed_sections": []
    },
    "kernelspec": {
      "name": "python3",
      "display_name": "Python 3"
    },
    "language_info": {
      "name": "python"
    }
  },
  "cells": [
    {
      "cell_type": "markdown",
      "source": [
        "**Assignment 10**\n",
        "\n",
        "**Name : Ramakrishna Reddy Are**\n",
        "\n",
        "**Roll No. : 197212**\n",
        "\n",
        "**Section : BTech III year CSE-B**\n",
        "\n",
        "**Date : 10-04-2022**"
      ],
      "metadata": {
        "id": "bRDvlhdqeIj0"
      }
    },
    {
      "cell_type": "markdown",
      "source": [
        "\n",
        "\n",
        "---\n",
        "\n"
      ],
      "metadata": {
        "id": "clQkMJc-w1TN"
      }
    },
    {
      "cell_type": "markdown",
      "source": [
        "**Implementation of Linear Discriminant Analysis (LDA)**\n",
        "\n",
        "\n",
        "---\n",
        "\n"
      ],
      "metadata": {
        "id": "KHLSpXhxwmh2"
      }
    },
    {
      "cell_type": "code",
      "source": [
        "# Importing libraries\n",
        "import numpy as np \n",
        "import pandas as pd\n",
        "import matplotlib.pyplot as plt\n",
        "from sklearn.preprocessing import StandardScaler\n",
        "from matplotlib import style\n",
        "from sklearn.model_selection import train_test_split\n",
        "from sklearn.neighbors import KNeighborsClassifier"
      ],
      "metadata": {
        "id": "Rmtodaeow0Y-"
      },
      "execution_count": null,
      "outputs": []
    },
    {
      "cell_type": "markdown",
      "source": [
        "***Importing the dataset [iris.data](https://archive.ics.uci.edu/ml/machine-learning-databases/iris/iris.data)***"
      ],
      "metadata": {
        "id": "S84kWKhaNizc"
      }
    },
    {
      "cell_type": "code",
      "source": [
        "# Loading dataset\n",
        "url = \"https://archive.ics.uci.edu/ml/machine-learning-databases/iris/iris.data\"\n",
        "dataset = pd.read_csv(url, names=['sepal length','sepal width','petal length','petal width','target'])\n",
        "print(dataset)"
      ],
      "metadata": {
        "id": "SmD-PTpwYetH",
        "colab": {
          "base_uri": "https://localhost:8080/"
        },
        "outputId": "f50ba188-8e23-4d9a-999c-4dd15b49568d"
      },
      "execution_count": null,
      "outputs": [
        {
          "output_type": "stream",
          "name": "stdout",
          "text": [
            "     sepal length  sepal width  petal length  petal width          target\n",
            "0             5.1          3.5           1.4          0.2     Iris-setosa\n",
            "1             4.9          3.0           1.4          0.2     Iris-setosa\n",
            "2             4.7          3.2           1.3          0.2     Iris-setosa\n",
            "3             4.6          3.1           1.5          0.2     Iris-setosa\n",
            "4             5.0          3.6           1.4          0.2     Iris-setosa\n",
            "..            ...          ...           ...          ...             ...\n",
            "145           6.7          3.0           5.2          2.3  Iris-virginica\n",
            "146           6.3          2.5           5.0          1.9  Iris-virginica\n",
            "147           6.5          3.0           5.2          2.0  Iris-virginica\n",
            "148           6.2          3.4           5.4          2.3  Iris-virginica\n",
            "149           5.9          3.0           5.1          1.8  Iris-virginica\n",
            "\n",
            "[150 rows x 5 columns]\n"
          ]
        }
      ]
    },
    {
      "cell_type": "code",
      "source": [
        "dataset.shape"
      ],
      "metadata": {
        "colab": {
          "base_uri": "https://localhost:8080/"
        },
        "id": "C2ubcwdFfnh3",
        "outputId": "f58852c6-3d04-4422-a16b-4cd62e8700a9"
      },
      "execution_count": null,
      "outputs": [
        {
          "output_type": "execute_result",
          "data": {
            "text/plain": [
              "(150, 5)"
            ]
          },
          "metadata": {},
          "execution_count": 37
        }
      ]
    },
    {
      "cell_type": "code",
      "source": [
        "X = dataset.iloc[:,0:4]            \n",
        "Y = dataset.iloc[:,-1]              \n",
        "print(X)                            \n",
        "print(Y)           "
      ],
      "metadata": {
        "colab": {
          "base_uri": "https://localhost:8080/"
        },
        "id": "_LzuwOf_APqs",
        "outputId": "b2894fae-fdf6-4e96-dff6-768014ce4a01"
      },
      "execution_count": null,
      "outputs": [
        {
          "output_type": "stream",
          "name": "stdout",
          "text": [
            "     sepal length  sepal width  petal length  petal width\n",
            "0             5.1          3.5           1.4          0.2\n",
            "1             4.9          3.0           1.4          0.2\n",
            "2             4.7          3.2           1.3          0.2\n",
            "3             4.6          3.1           1.5          0.2\n",
            "4             5.0          3.6           1.4          0.2\n",
            "..            ...          ...           ...          ...\n",
            "145           6.7          3.0           5.2          2.3\n",
            "146           6.3          2.5           5.0          1.9\n",
            "147           6.5          3.0           5.2          2.0\n",
            "148           6.2          3.4           5.4          2.3\n",
            "149           5.9          3.0           5.1          1.8\n",
            "\n",
            "[150 rows x 4 columns]\n",
            "0         Iris-setosa\n",
            "1         Iris-setosa\n",
            "2         Iris-setosa\n",
            "3         Iris-setosa\n",
            "4         Iris-setosa\n",
            "            ...      \n",
            "145    Iris-virginica\n",
            "146    Iris-virginica\n",
            "147    Iris-virginica\n",
            "148    Iris-virginica\n",
            "149    Iris-virginica\n",
            "Name: target, Length: 150, dtype: object\n"
          ]
        }
      ]
    },
    {
      "cell_type": "markdown",
      "source": [
        "***Grouping the data into its respective classes***"
      ],
      "metadata": {
        "id": "V7SBvevf3Alc"
      }
    },
    {
      "cell_type": "code",
      "source": [
        "# Grouping the data into its respective classes\n",
        "grp = dataset.groupby('target')\n",
        "for name, group in grp:\n",
        "    print(name)\n",
        "    print(group)"
      ],
      "metadata": {
        "colab": {
          "base_uri": "https://localhost:8080/"
        },
        "id": "ApKkXErBpaSD",
        "outputId": "280ba267-1d65-4e33-fba6-52e54e89dd18"
      },
      "execution_count": null,
      "outputs": [
        {
          "output_type": "stream",
          "name": "stdout",
          "text": [
            "Iris-setosa\n",
            "    sepal length  sepal width  petal length  petal width       target\n",
            "0            5.1          3.5           1.4          0.2  Iris-setosa\n",
            "1            4.9          3.0           1.4          0.2  Iris-setosa\n",
            "2            4.7          3.2           1.3          0.2  Iris-setosa\n",
            "3            4.6          3.1           1.5          0.2  Iris-setosa\n",
            "4            5.0          3.6           1.4          0.2  Iris-setosa\n",
            "5            5.4          3.9           1.7          0.4  Iris-setosa\n",
            "6            4.6          3.4           1.4          0.3  Iris-setosa\n",
            "7            5.0          3.4           1.5          0.2  Iris-setosa\n",
            "8            4.4          2.9           1.4          0.2  Iris-setosa\n",
            "9            4.9          3.1           1.5          0.1  Iris-setosa\n",
            "10           5.4          3.7           1.5          0.2  Iris-setosa\n",
            "11           4.8          3.4           1.6          0.2  Iris-setosa\n",
            "12           4.8          3.0           1.4          0.1  Iris-setosa\n",
            "13           4.3          3.0           1.1          0.1  Iris-setosa\n",
            "14           5.8          4.0           1.2          0.2  Iris-setosa\n",
            "15           5.7          4.4           1.5          0.4  Iris-setosa\n",
            "16           5.4          3.9           1.3          0.4  Iris-setosa\n",
            "17           5.1          3.5           1.4          0.3  Iris-setosa\n",
            "18           5.7          3.8           1.7          0.3  Iris-setosa\n",
            "19           5.1          3.8           1.5          0.3  Iris-setosa\n",
            "20           5.4          3.4           1.7          0.2  Iris-setosa\n",
            "21           5.1          3.7           1.5          0.4  Iris-setosa\n",
            "22           4.6          3.6           1.0          0.2  Iris-setosa\n",
            "23           5.1          3.3           1.7          0.5  Iris-setosa\n",
            "24           4.8          3.4           1.9          0.2  Iris-setosa\n",
            "25           5.0          3.0           1.6          0.2  Iris-setosa\n",
            "26           5.0          3.4           1.6          0.4  Iris-setosa\n",
            "27           5.2          3.5           1.5          0.2  Iris-setosa\n",
            "28           5.2          3.4           1.4          0.2  Iris-setosa\n",
            "29           4.7          3.2           1.6          0.2  Iris-setosa\n",
            "30           4.8          3.1           1.6          0.2  Iris-setosa\n",
            "31           5.4          3.4           1.5          0.4  Iris-setosa\n",
            "32           5.2          4.1           1.5          0.1  Iris-setosa\n",
            "33           5.5          4.2           1.4          0.2  Iris-setosa\n",
            "34           4.9          3.1           1.5          0.1  Iris-setosa\n",
            "35           5.0          3.2           1.2          0.2  Iris-setosa\n",
            "36           5.5          3.5           1.3          0.2  Iris-setosa\n",
            "37           4.9          3.1           1.5          0.1  Iris-setosa\n",
            "38           4.4          3.0           1.3          0.2  Iris-setosa\n",
            "39           5.1          3.4           1.5          0.2  Iris-setosa\n",
            "40           5.0          3.5           1.3          0.3  Iris-setosa\n",
            "41           4.5          2.3           1.3          0.3  Iris-setosa\n",
            "42           4.4          3.2           1.3          0.2  Iris-setosa\n",
            "43           5.0          3.5           1.6          0.6  Iris-setosa\n",
            "44           5.1          3.8           1.9          0.4  Iris-setosa\n",
            "45           4.8          3.0           1.4          0.3  Iris-setosa\n",
            "46           5.1          3.8           1.6          0.2  Iris-setosa\n",
            "47           4.6          3.2           1.4          0.2  Iris-setosa\n",
            "48           5.3          3.7           1.5          0.2  Iris-setosa\n",
            "49           5.0          3.3           1.4          0.2  Iris-setosa\n",
            "Iris-versicolor\n",
            "    sepal length  sepal width  petal length  petal width           target\n",
            "50           7.0          3.2           4.7          1.4  Iris-versicolor\n",
            "51           6.4          3.2           4.5          1.5  Iris-versicolor\n",
            "52           6.9          3.1           4.9          1.5  Iris-versicolor\n",
            "53           5.5          2.3           4.0          1.3  Iris-versicolor\n",
            "54           6.5          2.8           4.6          1.5  Iris-versicolor\n",
            "55           5.7          2.8           4.5          1.3  Iris-versicolor\n",
            "56           6.3          3.3           4.7          1.6  Iris-versicolor\n",
            "57           4.9          2.4           3.3          1.0  Iris-versicolor\n",
            "58           6.6          2.9           4.6          1.3  Iris-versicolor\n",
            "59           5.2          2.7           3.9          1.4  Iris-versicolor\n",
            "60           5.0          2.0           3.5          1.0  Iris-versicolor\n",
            "61           5.9          3.0           4.2          1.5  Iris-versicolor\n",
            "62           6.0          2.2           4.0          1.0  Iris-versicolor\n",
            "63           6.1          2.9           4.7          1.4  Iris-versicolor\n",
            "64           5.6          2.9           3.6          1.3  Iris-versicolor\n",
            "65           6.7          3.1           4.4          1.4  Iris-versicolor\n",
            "66           5.6          3.0           4.5          1.5  Iris-versicolor\n",
            "67           5.8          2.7           4.1          1.0  Iris-versicolor\n",
            "68           6.2          2.2           4.5          1.5  Iris-versicolor\n",
            "69           5.6          2.5           3.9          1.1  Iris-versicolor\n",
            "70           5.9          3.2           4.8          1.8  Iris-versicolor\n",
            "71           6.1          2.8           4.0          1.3  Iris-versicolor\n",
            "72           6.3          2.5           4.9          1.5  Iris-versicolor\n",
            "73           6.1          2.8           4.7          1.2  Iris-versicolor\n",
            "74           6.4          2.9           4.3          1.3  Iris-versicolor\n",
            "75           6.6          3.0           4.4          1.4  Iris-versicolor\n",
            "76           6.8          2.8           4.8          1.4  Iris-versicolor\n",
            "77           6.7          3.0           5.0          1.7  Iris-versicolor\n",
            "78           6.0          2.9           4.5          1.5  Iris-versicolor\n",
            "79           5.7          2.6           3.5          1.0  Iris-versicolor\n",
            "80           5.5          2.4           3.8          1.1  Iris-versicolor\n",
            "81           5.5          2.4           3.7          1.0  Iris-versicolor\n",
            "82           5.8          2.7           3.9          1.2  Iris-versicolor\n",
            "83           6.0          2.7           5.1          1.6  Iris-versicolor\n",
            "84           5.4          3.0           4.5          1.5  Iris-versicolor\n",
            "85           6.0          3.4           4.5          1.6  Iris-versicolor\n",
            "86           6.7          3.1           4.7          1.5  Iris-versicolor\n",
            "87           6.3          2.3           4.4          1.3  Iris-versicolor\n",
            "88           5.6          3.0           4.1          1.3  Iris-versicolor\n",
            "89           5.5          2.5           4.0          1.3  Iris-versicolor\n",
            "90           5.5          2.6           4.4          1.2  Iris-versicolor\n",
            "91           6.1          3.0           4.6          1.4  Iris-versicolor\n",
            "92           5.8          2.6           4.0          1.2  Iris-versicolor\n",
            "93           5.0          2.3           3.3          1.0  Iris-versicolor\n",
            "94           5.6          2.7           4.2          1.3  Iris-versicolor\n",
            "95           5.7          3.0           4.2          1.2  Iris-versicolor\n",
            "96           5.7          2.9           4.2          1.3  Iris-versicolor\n",
            "97           6.2          2.9           4.3          1.3  Iris-versicolor\n",
            "98           5.1          2.5           3.0          1.1  Iris-versicolor\n",
            "99           5.7          2.8           4.1          1.3  Iris-versicolor\n",
            "Iris-virginica\n",
            "     sepal length  sepal width  petal length  petal width          target\n",
            "100           6.3          3.3           6.0          2.5  Iris-virginica\n",
            "101           5.8          2.7           5.1          1.9  Iris-virginica\n",
            "102           7.1          3.0           5.9          2.1  Iris-virginica\n",
            "103           6.3          2.9           5.6          1.8  Iris-virginica\n",
            "104           6.5          3.0           5.8          2.2  Iris-virginica\n",
            "105           7.6          3.0           6.6          2.1  Iris-virginica\n",
            "106           4.9          2.5           4.5          1.7  Iris-virginica\n",
            "107           7.3          2.9           6.3          1.8  Iris-virginica\n",
            "108           6.7          2.5           5.8          1.8  Iris-virginica\n",
            "109           7.2          3.6           6.1          2.5  Iris-virginica\n",
            "110           6.5          3.2           5.1          2.0  Iris-virginica\n",
            "111           6.4          2.7           5.3          1.9  Iris-virginica\n",
            "112           6.8          3.0           5.5          2.1  Iris-virginica\n",
            "113           5.7          2.5           5.0          2.0  Iris-virginica\n",
            "114           5.8          2.8           5.1          2.4  Iris-virginica\n",
            "115           6.4          3.2           5.3          2.3  Iris-virginica\n",
            "116           6.5          3.0           5.5          1.8  Iris-virginica\n",
            "117           7.7          3.8           6.7          2.2  Iris-virginica\n",
            "118           7.7          2.6           6.9          2.3  Iris-virginica\n",
            "119           6.0          2.2           5.0          1.5  Iris-virginica\n",
            "120           6.9          3.2           5.7          2.3  Iris-virginica\n",
            "121           5.6          2.8           4.9          2.0  Iris-virginica\n",
            "122           7.7          2.8           6.7          2.0  Iris-virginica\n",
            "123           6.3          2.7           4.9          1.8  Iris-virginica\n",
            "124           6.7          3.3           5.7          2.1  Iris-virginica\n",
            "125           7.2          3.2           6.0          1.8  Iris-virginica\n",
            "126           6.2          2.8           4.8          1.8  Iris-virginica\n",
            "127           6.1          3.0           4.9          1.8  Iris-virginica\n",
            "128           6.4          2.8           5.6          2.1  Iris-virginica\n",
            "129           7.2          3.0           5.8          1.6  Iris-virginica\n",
            "130           7.4          2.8           6.1          1.9  Iris-virginica\n",
            "131           7.9          3.8           6.4          2.0  Iris-virginica\n",
            "132           6.4          2.8           5.6          2.2  Iris-virginica\n",
            "133           6.3          2.8           5.1          1.5  Iris-virginica\n",
            "134           6.1          2.6           5.6          1.4  Iris-virginica\n",
            "135           7.7          3.0           6.1          2.3  Iris-virginica\n",
            "136           6.3          3.4           5.6          2.4  Iris-virginica\n",
            "137           6.4          3.1           5.5          1.8  Iris-virginica\n",
            "138           6.0          3.0           4.8          1.8  Iris-virginica\n",
            "139           6.9          3.1           5.4          2.1  Iris-virginica\n",
            "140           6.7          3.1           5.6          2.4  Iris-virginica\n",
            "141           6.9          3.1           5.1          2.3  Iris-virginica\n",
            "142           5.8          2.7           5.1          1.9  Iris-virginica\n",
            "143           6.8          3.2           5.9          2.3  Iris-virginica\n",
            "144           6.7          3.3           5.7          2.5  Iris-virginica\n",
            "145           6.7          3.0           5.2          2.3  Iris-virginica\n",
            "146           6.3          2.5           5.0          1.9  Iris-virginica\n",
            "147           6.5          3.0           5.2          2.0  Iris-virginica\n",
            "148           6.2          3.4           5.4          2.3  Iris-virginica\n",
            "149           5.9          3.0           5.1          1.8  Iris-virginica\n"
          ]
        }
      ]
    },
    {
      "cell_type": "markdown",
      "source": [
        "***Calculating mean vector of given data of K-dimensions excluding the target class***"
      ],
      "metadata": {
        "id": "zOESS4V-2yXk"
      }
    },
    {
      "cell_type": "code",
      "source": [
        "totalmean=dataset.iloc[:,:-1].mean()      # mean vector\n",
        "print(totalmean)"
      ],
      "metadata": {
        "colab": {
          "base_uri": "https://localhost:8080/"
        },
        "id": "nG5sqhEcvCXa",
        "outputId": "a5dd2891-5d50-4556-f445-f918734326ed"
      },
      "execution_count": null,
      "outputs": [
        {
          "output_type": "stream",
          "name": "stdout",
          "text": [
            "sepal length    5.843333\n",
            "sepal width     3.054000\n",
            "petal length    3.758667\n",
            "petal width     1.198667\n",
            "dtype: float64\n"
          ]
        }
      ]
    },
    {
      "cell_type": "markdown",
      "source": [
        "***Calculating class-wise mean vector for the given training data***"
      ],
      "metadata": {
        "id": "-0VpzDWl3ueA"
      }
    },
    {
      "cell_type": "code",
      "source": [
        "classwisemean=grp.mean()                  # classwise mean\n",
        "print(classwisemean)"
      ],
      "metadata": {
        "colab": {
          "base_uri": "https://localhost:8080/"
        },
        "id": "DCpnl1Y10AlQ",
        "outputId": "31754c16-c3f5-49f9-b2fd-ded1bf0665e1"
      },
      "execution_count": null,
      "outputs": [
        {
          "output_type": "stream",
          "name": "stdout",
          "text": [
            "                 sepal length  sepal width  petal length  petal width\n",
            "target                                                               \n",
            "Iris-setosa             5.006        3.418         1.464        0.244\n",
            "Iris-versicolor         5.936        2.770         4.260        1.326\n",
            "Iris-virginica          6.588        2.974         5.552        2.026\n"
          ]
        }
      ]
    },
    {
      "cell_type": "markdown",
      "source": [
        "***Calculating scatter matrices needed to maximize the difference between means of given classes and minimize the variance of given classes.***"
      ],
      "metadata": {
        "id": "5tSr2wQz4VsA"
      }
    },
    {
      "cell_type": "code",
      "source": [
        "within_class_scatter_matrix=np.zeros([X.shape[1],X.shape[1]])       # initializing within class scatter matrix\n",
        "for name,group in grp:                                              # finding within class scatter matrix\n",
        "  temp=group.drop('target',axis=1)\n",
        "  within_class_scatter_matrix += (temp-classwisemean.loc[name]).T.dot((temp-classwisemean.loc[name])) # calculating within class scatter matrix\n",
        "print(within_class_scatter_matrix)                                  # printing within class scatter matrix\n",
        "\n",
        "#finding the between class scatter matrix\n",
        "between_class_scatter_matrix=np.zeros([X.shape[1],X.shape[1]])     # initializing between class scatter matrix\n",
        "for rows in range(classwisemean.shape[0]):\n",
        "  between_class_scatter_matrix += grp.get_group(classwisemean.iloc[rows].name).shape[0] * (classwisemean.iloc[rows]-totalmean).T.dot((classwisemean.iloc[rows]-totalmean))\n",
        "print(between_class_scatter_matrix)                                # printing the between class scatter matrix"
      ],
      "metadata": {
        "colab": {
          "base_uri": "https://localhost:8080/"
        },
        "id": "NILashg50XQS",
        "outputId": "c8784e19-6945-485e-f91d-676c642afda8"
      },
      "execution_count": null,
      "outputs": [
        {
          "output_type": "stream",
          "name": "stdout",
          "text": [
            "              sepal length  sepal width  petal length  petal width\n",
            "sepal length       38.9562      13.6830       24.6140       5.6556\n",
            "sepal width        13.6830      17.0350        8.1200       4.9132\n",
            "petal length       24.6140       8.1200       27.2200       6.2536\n",
            "petal width         5.6556       4.9132        6.2536       6.1756\n",
            "[[591.4376 591.4376 591.4376 591.4376]\n",
            " [591.4376 591.4376 591.4376 591.4376]\n",
            " [591.4376 591.4376 591.4376 591.4376]\n",
            " [591.4376 591.4376 591.4376 591.4376]]\n"
          ]
        }
      ]
    },
    {
      "cell_type": "markdown",
      "source": [
        "***Calculating eigen values of M and get eigen vector pairs for first n (needed ) dimensions.***"
      ],
      "metadata": {
        "id": "UsJ9aVNE62Wd"
      }
    },
    {
      "cell_type": "code",
      "source": [
        "eigen_values, eigen_vectors = np.linalg.eig(np.linalg.inv(within_class_scatter_matrix).dot(between_class_scatter_matrix)) # calculating the eigen values and eigen vectors\n",
        "print(\"Eigen Values : \",\"\\n\",eigen_values)\n",
        "print(\"Eigen Vectors : \",\"\\n\",eigen_vectors)"
      ],
      "metadata": {
        "colab": {
          "base_uri": "https://localhost:8080/"
        },
        "id": "UzV-jyda_lUp",
        "outputId": "fc1fbc34-af07-42ea-d01e-c8e37ce68c10"
      },
      "execution_count": null,
      "outputs": [
        {
          "output_type": "stream",
          "name": "stdout",
          "text": [
            "Eigen Values :  \n",
            " [ 1.42108547e-14  9.77669909e+01  2.88586666e-15 -2.59964517e-15]\n",
            "Eigen Vectors :  \n",
            " [[-0.73551924  0.00375503 -0.00304764  0.00119198]\n",
            " [ 0.07357881 -0.10860203  0.7403312   0.67426261]\n",
            " [-0.01145863  0.0169129  -0.06855271  0.06054966]\n",
            " [ 0.67339907 -0.99393433 -0.66873085 -0.73600425]]\n"
          ]
        }
      ]
    },
    {
      "cell_type": "code",
      "source": [
        "# Sorting the eigen values and their corresponding eigen vectors\n",
        "indx=np.argsort(eigen_values)                       # finding the indexes of eigen values in sorted order\n",
        "indx=indx[::-1]                                     # arranging the indexes in descending order\n",
        "eigen_values=eigen_values[indx]\n",
        "eigen_vectors=eigen_vectors[:,indx]\n",
        "print(\"Eigen Values in Sorted Order \")              \n",
        "print(eigen_values)\n",
        "print(\"Eigen Vectors in Sorted Order \")\n",
        "print(eigen_vectors)"
      ],
      "metadata": {
        "colab": {
          "base_uri": "https://localhost:8080/"
        },
        "id": "a0wWjfvMAONA",
        "outputId": "c72d763c-f648-481c-a473-8b7d4e3dc4ac"
      },
      "execution_count": null,
      "outputs": [
        {
          "output_type": "stream",
          "name": "stdout",
          "text": [
            "Eigen Values in Sorted Order \n",
            "[ 9.77669909e+01  1.42108547e-14  2.88586666e-15 -2.59964517e-15]\n",
            "Eigen Vectors in Sorted Order \n",
            "[[ 0.00375503 -0.73551924 -0.00304764  0.00119198]\n",
            " [-0.10860203  0.07357881  0.7403312   0.67426261]\n",
            " [ 0.0169129  -0.01145863 -0.06855271  0.06054966]\n",
            " [-0.99393433  0.67339907 -0.66873085 -0.73600425]]\n"
          ]
        }
      ]
    },
    {
      "cell_type": "code",
      "source": [
        "j=1\n",
        "for i in range(len(eigen_values)-1,-1,-1) :\n",
        "    print(\"Explained variance for principle component {} = {}\".format(j,eigen_values[i]/np.sum(eigen_values)))\n",
        "    j+=1;"
      ],
      "metadata": {
        "colab": {
          "base_uri": "https://localhost:8080/"
        },
        "id": "OVLBBHM19Fpi",
        "outputId": "515db718-160c-4481-8b0f-3b3ae0142007"
      },
      "execution_count": null,
      "outputs": [
        {
          "output_type": "stream",
          "name": "stdout",
          "text": [
            "Explained variance for principle component 1 = -2.6590213575180975e-17\n",
            "Explained variance for principle component 2 = 2.951780181386498e-17\n",
            "Explained variance for principle component 3 = 1.4535432233691747e-16\n",
            "Explained variance for principle component 4 = 0.9999999999999999\n"
          ]
        }
      ]
    },
    {
      "cell_type": "code",
      "source": [
        "# Choose first 2 eigen vectors\n",
        "choosen_eigenvectors=eigen_vectors[:,0:2]\n",
        "print(\"Choosen Eigen Vectors\")                    \n",
        "print(choosen_eigenvectors)\n",
        "\n",
        "# Transforming the samples onto the new subspace.\n",
        "data=np.matmul(X,choosen_eigenvectors)\n",
        "transformed_data=pd.DataFrame({\"LDA1\":data.iloc[:,0],\"LDA2\":data.iloc[:,1],\"Species\":Y})\n",
        "print(transformed_data)"
      ],
      "metadata": {
        "colab": {
          "base_uri": "https://localhost:8080/"
        },
        "id": "IJnk18xrAp5O",
        "outputId": "05165a92-407b-4a42-f8a8-6e440278173e"
      },
      "execution_count": null,
      "outputs": [
        {
          "output_type": "stream",
          "name": "stdout",
          "text": [
            "Choosen Eigen Vectors\n",
            "[[ 0.00375503 -0.73551924]\n",
            " [-0.10860203  0.07357881]\n",
            " [ 0.0169129  -0.01145863]\n",
            " [-0.99393433  0.67339907]]\n",
            "         LDA1      LDA2         Species\n",
            "0   -0.536065 -3.374985     Iris-setosa\n",
            "1   -0.482515 -3.264670     Iris-setosa\n",
            "2   -0.506678 -3.101705     Iris-setosa\n",
            "3   -0.492811 -3.037802     Iris-setosa\n",
            "4   -0.547301 -3.294075     Iris-setosa\n",
            "..        ...       ...             ...\n",
            "145 -2.498749 -3.218010  Iris-virginica\n",
            "146 -2.051759 -3.227659  Iris-virginica\n",
            "147 -2.201320 -3.272925  Iris-virginica\n",
            "148 -2.540685 -2.823110  Iris-virginica\n",
            "149 -2.006477 -2.965148  Iris-virginica\n",
            "\n",
            "[150 rows x 3 columns]\n"
          ]
        }
      ]
    },
    {
      "cell_type": "code",
      "source": [
        "# plotting the data\n",
        "def getcolor(Y):\n",
        "  l=[]\n",
        "  for i in range(len(Y)):\n",
        "    if(Y[i]=='Iris-setosa'): \n",
        "      l.append('red')\n",
        "    elif(Y[i]=='Iris-versicolor'):\n",
        "      l.append('blue')\n",
        "    else: \n",
        "      l.append('green')\n",
        "  return l\n",
        "# plotting test data\n",
        "plt.scatter(transformed_data['LDA1'],transformed_data['LDA2'], color = getcolor(Y))    \n",
        "plt.title('LDA1 vs LDA2')    \n",
        "plt.xlabel('LDA1')                                                                   \n",
        "plt.ylabel('LDA2')\n",
        "plt.show()                                                                           # plotting the graph                  \n",
        "# we get better prdiction if we take only one eigen vector as it has much explained variance                                                                                                 # plotting the graph"
      ],
      "metadata": {
        "colab": {
          "base_uri": "https://localhost:8080/",
          "height": 295
        },
        "id": "o6UEGtQ0CM5M",
        "outputId": "8f6db6ec-e97f-4bcb-d010-f3cc101b1a4b"
      },
      "execution_count": null,
      "outputs": [
        {
          "output_type": "display_data",
          "data": {
            "text/plain": [
              "<Figure size 432x288 with 1 Axes>"
            ],
            "image/png": "[encoded data removed]"
          },
          "metadata": {
            "needs_background": "light"
          }
        }
      ]
    },
    {
      "cell_type": "markdown",
      "source": [
        "\n",
        "\n",
        "---\n",
        "\n"
      ],
      "metadata": {
        "id": "XDVToH_5ArAr"
      }
    },
    {
      "cell_type": "markdown",
      "source": [
        "**Logistic Regression by using LDA**\n",
        "\n",
        "\n",
        "---\n",
        "\n"
      ],
      "metadata": {
        "id": "VR5KaSpZATQZ"
      }
    },
    {
      "cell_type": "code",
      "source": [
        "# importing Libraries\n",
        "import numpy as np\n",
        "import pandas as pd\n",
        "import matplotlib.pyplot as plt"
      ],
      "metadata": {
        "id": "kVaX4bC3DOME"
      },
      "execution_count": null,
      "outputs": []
    },
    {
      "cell_type": "markdown",
      "source": [
        "***Importing the dataset Wine.csv***"
      ],
      "metadata": {
        "id": "59R9i8DeJDsp"
      }
    },
    {
      "cell_type": "code",
      "source": [
        "# loading dataset\n",
        "dataset=pd.read_csv(\"Wine.csv\")\n",
        "dataset=dataset.dropna()"
      ],
      "metadata": {
        "id": "-sfsyGPPDjx8"
      },
      "execution_count": null,
      "outputs": []
    },
    {
      "cell_type": "code",
      "source": [
        "dataset.head(5)"
      ],
      "metadata": {
        "colab": {
          "base_uri": "https://localhost:8080/",
          "height": 270
        },
        "id": "2objliguDn-u",
        "outputId": "b6d0e144-a98d-4ee6-9424-7f6c38d70ac2"
      },
      "execution_count": null,
      "outputs": [
        {
          "output_type": "execute_result",
          "data": {
            "text/plain": [
              "   Alcohol  Malic_Acid   Ash  Ash_Alcanity  Magnesium  Total_Phenols  \\\n",
              "0    14.23        1.71  2.43          15.6        127           2.80   \n",
              "1    13.20        1.78  2.14          11.2        100           2.65   \n",
              "2    13.16        2.36  2.67          18.6        101           2.80   \n",
              "3    14.37        1.95  2.50          16.8        113           3.85   \n",
              "4    13.24        2.59  2.87          21.0        118           2.80   \n",
              "\n",
              "   Flavanoids  Nonflavanoid_Phenols  Proanthocyanins  Color_Intensity   Hue  \\\n",
              "0        3.06                  0.28             2.29             5.64  1.04   \n",
              "1        2.76                  0.26             1.28             4.38  1.05   \n",
              "2        3.24                  0.30             2.81             5.68  1.03   \n",
              "3        3.49                  0.24             2.18             7.80  0.86   \n",
              "4        2.69                  0.39             1.82             4.32  1.04   \n",
              "\n",
              "   OD280  Proline  Customer_Segment  \n",
              "0   3.92     1065                 1  \n",
              "1   3.40     1050                 1  \n",
              "2   3.17     1185                 1  \n",
              "3   3.45     1480                 1  \n",
              "4   2.93      735                 1  "
            ],
            "text/html": [
              "\n",
              "  <div id=\"df-8e95e8bb-8ad9-4e22-bff7-3b1dd967c24e\">\n",
              "    <div class=\"colab-df-container\">\n",
              "      <div>\n",
              "<style scoped>\n",
              "    .dataframe tbody tr th:only-of-type {\n",
              "        vertical-align: middle;\n",
              "    }\n",
              "\n",
              "    .dataframe tbody tr th {\n",
              "        vertical-align: top;\n",
              "    }\n",
              "\n",
              "    .dataframe thead th {\n",
              "        text-align: right;\n",
              "    }\n",
              "</style>\n",
              "<table border=\"1\" class=\"dataframe\">\n",
              "  <thead>\n",
              "    <tr style=\"text-align: right;\">\n",
              "      <th></th>\n",
              "      <th>Alcohol</th>\n",
              "      <th>Malic_Acid</th>\n",
              "      <th>Ash</th>\n",
              "      <th>Ash_Alcanity</th>\n",
              "      <th>Magnesium</th>\n",
              "      <th>Total_Phenols</th>\n",
              "      <th>Flavanoids</th>\n",
              "      <th>Nonflavanoid_Phenols</th>\n",
              "      <th>Proanthocyanins</th>\n",
              "      <th>Color_Intensity</th>\n",
              "      <th>Hue</th>\n",
              "      <th>OD280</th>\n",
              "      <th>Proline</th>\n",
              "      <th>Customer_Segment</th>\n",
              "    </tr>\n",
              "  </thead>\n",
              "  <tbody>\n",
              "    <tr>\n",
              "      <th>0</th>\n",
              "      <td>14.23</td>\n",
              "      <td>1.71</td>\n",
              "      <td>2.43</td>\n",
              "      <td>15.6</td>\n",
              "      <td>127</td>\n",
              "      <td>2.80</td>\n",
              "      <td>3.06</td>\n",
              "      <td>0.28</td>\n",
              "      <td>2.29</td>\n",
              "      <td>5.64</td>\n",
              "      <td>1.04</td>\n",
              "      <td>3.92</td>\n",
              "      <td>1065</td>\n",
              "      <td>1</td>\n",
              "    </tr>\n",
              "    <tr>\n",
              "      <th>1</th>\n",
              "      <td>13.20</td>\n",
              "      <td>1.78</td>\n",
              "      <td>2.14</td>\n",
              "      <td>11.2</td>\n",
              "      <td>100</td>\n",
              "      <td>2.65</td>\n",
              "      <td>2.76</td>\n",
              "      <td>0.26</td>\n",
              "      <td>1.28</td>\n",
              "      <td>4.38</td>\n",
              "      <td>1.05</td>\n",
              "      <td>3.40</td>\n",
              "      <td>1050</td>\n",
              "      <td>1</td>\n",
              "    </tr>\n",
              "    <tr>\n",
              "      <th>2</th>\n",
              "      <td>13.16</td>\n",
              "      <td>2.36</td>\n",
              "      <td>2.67</td>\n",
              "      <td>18.6</td>\n",
              "      <td>101</td>\n",
              "      <td>2.80</td>\n",
              "      <td>3.24</td>\n",
              "      <td>0.30</td>\n",
              "      <td>2.81</td>\n",
              "      <td>5.68</td>\n",
              "      <td>1.03</td>\n",
              "      <td>3.17</td>\n",
              "      <td>1185</td>\n",
              "      <td>1</td>\n",
              "    </tr>\n",
              "    <tr>\n",
              "      <th>3</th>\n",
              "      <td>14.37</td>\n",
              "      <td>1.95</td>\n",
              "      <td>2.50</td>\n",
              "      <td>16.8</td>\n",
              "      <td>113</td>\n",
              "      <td>3.85</td>\n",
              "      <td>3.49</td>\n",
              "      <td>0.24</td>\n",
              "      <td>2.18</td>\n",
              "      <td>7.80</td>\n",
              "      <td>0.86</td>\n",
              "      <td>3.45</td>\n",
              "      <td>1480</td>\n",
              "      <td>1</td>\n",
              "    </tr>\n",
              "    <tr>\n",
              "      <th>4</th>\n",
              "      <td>13.24</td>\n",
              "      <td>2.59</td>\n",
              "      <td>2.87</td>\n",
              "      <td>21.0</td>\n",
              "      <td>118</td>\n",
              "      <td>2.80</td>\n",
              "      <td>2.69</td>\n",
              "      <td>0.39</td>\n",
              "      <td>1.82</td>\n",
              "      <td>4.32</td>\n",
              "      <td>1.04</td>\n",
              "      <td>2.93</td>\n",
              "      <td>735</td>\n",
              "      <td>1</td>\n",
              "    </tr>\n",
              "  </tbody>\n",
              "</table>\n",
              "</div>\n",
              "      <button class=\"colab-df-convert\" onclick=\"convertToInteractive('df-8e95e8bb-8ad9-4e22-bff7-3b1dd967c24e')\"\n",
              "              title=\"Convert this dataframe to an interactive table.\"\n",
              "              style=\"display:none;\">\n",
              "        \n",
              "  <svg xmlns=\"http://www.w3.org/2000/svg\" height=\"24px\"viewBox=\"0 0 24 24\"\n",
              "       width=\"24px\">\n",
              "    <path d=\"M0 0h24v24H0V0z\" fill=\"none\"/>\n",
              "    <path d=\"M18.56 5.44l.94 2.06.94-2.06 2.06-.94-2.06-.94-.94-2.06-.94 2.06-2.06.94zm-11 1L8.5 8.5l.94-2.06 2.06-.94-2.06-.94L8.5 2.5l-.94 2.06-2.06.94zm10 10l.94 2.06.94-2.06 2.06-.94-2.06-.94-.94-2.06-.94 2.06-2.06.94z\"/><path d=\"M17.41 7.96l-1.37-1.37c-.4-.4-.92-.59-1.43-.59-.52 0-1.04.2-1.43.59L10.3 9.45l-7.72 7.72c-.78.78-.78 2.05 0 2.83L4 21.41c.39.39.9.59 1.41.59.51 0 1.02-.2 1.41-.59l7.78-7.78 2.81-2.81c.8-.78.8-2.07 0-2.86zM5.41 20L4 18.59l7.72-7.72 1.47 1.35L5.41 20z\"/>\n",
              "  </svg>\n",
              "      </button>\n",
              "      \n",
              "  <style>\n",
              "    .colab-df-container {\n",
              "      display:flex;\n",
              "      flex-wrap:wrap;\n",
              "      gap: 12px;\n",
              "    }\n",
              "\n",
              "    .colab-df-convert {\n",
              "      background-color: #E8F0FE;\n",
              "      border: none;\n",
              "      border-radius: 50%;\n",
              "      cursor: pointer;\n",
              "      display: none;\n",
              "      fill: #1967D2;\n",
              "      height: 32px;\n",
              "      padding: 0 0 0 0;\n",
              "      width: 32px;\n",
              "    }\n",
              "\n",
              "    .colab-df-convert:hover {\n",
              "      background-color: #E2EBFA;\n",
              "      box-shadow: 0px 1px 2px rgba(60, 64, 67, 0.3), 0px 1px 3px 1px rgba(60, 64, 67, 0.15);\n",
              "      fill: #174EA6;\n",
              "    }\n",
              "\n",
              "    [theme=dark] .colab-df-convert {\n",
              "      background-color: #3B4455;\n",
              "      fill: #D2E3FC;\n",
              "    }\n",
              "\n",
              "    [theme=dark] .colab-df-convert:hover {\n",
              "      background-color: #434B5C;\n",
              "      box-shadow: 0px 1px 3px 1px rgba(0, 0, 0, 0.15);\n",
              "      filter: drop-shadow(0px 1px 2px rgba(0, 0, 0, 0.3));\n",
              "      fill: #FFFFFF;\n",
              "    }\n",
              "  </style>\n",
              "\n",
              "      <script>\n",
              "        const buttonEl =\n",
              "          document.querySelector('#df-8e95e8bb-8ad9-4e22-bff7-3b1dd967c24e button.colab-df-convert');\n",
              "        buttonEl.style.display =\n",
              "          google.colab.kernel.accessAllowed ? 'block' : 'none';\n",
              "\n",
              "        async function convertToInteractive(key) {\n",
              "          const element = document.querySelector('#df-8e95e8bb-8ad9-4e22-bff7-3b1dd967c24e');\n",
              "          const dataTable =\n",
              "            await google.colab.kernel.invokeFunction('convertToInteractive',\n",
              "                                                     [key], {});\n",
              "          if (!dataTable) return;\n",
              "\n",
              "          const docLinkHtml = 'Like what you see? Visit the ' +\n",
              "            '<a target=\"_blank\" href=https://colab.research.google.com/notebooks/data_table.ipynb>data table notebook</a>'\n",
              "            + ' to learn more about interactive tables.';\n",
              "          element.innerHTML = '';\n",
              "          dataTable['output_type'] = 'display_data';\n",
              "          await google.colab.output.renderOutput(dataTable, element);\n",
              "          const docLink = document.createElement('div');\n",
              "          docLink.innerHTML = docLinkHtml;\n",
              "          element.appendChild(docLink);\n",
              "        }\n",
              "      </script>\n",
              "    </div>\n",
              "  </div>\n",
              "  "
            ]
          },
          "metadata": {},
          "execution_count": 52
        }
      ]
    },
    {
      "cell_type": "code",
      "source": [
        "X = dataset.iloc[:,:-1]            \n",
        "Y = dataset.iloc[:,-1]              \n",
        "print(X)                            \n",
        "print(Y)           "
      ],
      "metadata": {
        "colab": {
          "base_uri": "https://localhost:8080/"
        },
        "outputId": "de463db4-4555-493a-edc4-70681dd95add",
        "id": "qVXCgSKbCEky"
      },
      "execution_count": null,
      "outputs": [
        {
          "output_type": "stream",
          "name": "stdout",
          "text": [
            "     Alcohol  Malic_Acid   Ash  Ash_Alcanity  Magnesium  Total_Phenols  \\\n",
            "0      14.23        1.71  2.43          15.6        127           2.80   \n",
            "1      13.20        1.78  2.14          11.2        100           2.65   \n",
            "2      13.16        2.36  2.67          18.6        101           2.80   \n",
            "3      14.37        1.95  2.50          16.8        113           3.85   \n",
            "4      13.24        2.59  2.87          21.0        118           2.80   \n",
            "..       ...         ...   ...           ...        ...            ...   \n",
            "173    13.71        5.65  2.45          20.5         95           1.68   \n",
            "174    13.40        3.91  2.48          23.0        102           1.80   \n",
            "175    13.27        4.28  2.26          20.0        120           1.59   \n",
            "176    13.17        2.59  2.37          20.0        120           1.65   \n",
            "177    14.13        4.10  2.74          24.5         96           2.05   \n",
            "\n",
            "     Flavanoids  Nonflavanoid_Phenols  Proanthocyanins  Color_Intensity   Hue  \\\n",
            "0          3.06                  0.28             2.29             5.64  1.04   \n",
            "1          2.76                  0.26             1.28             4.38  1.05   \n",
            "2          3.24                  0.30             2.81             5.68  1.03   \n",
            "3          3.49                  0.24             2.18             7.80  0.86   \n",
            "4          2.69                  0.39             1.82             4.32  1.04   \n",
            "..          ...                   ...              ...              ...   ...   \n",
            "173        0.61                  0.52             1.06             7.70  0.64   \n",
            "174        0.75                  0.43             1.41             7.30  0.70   \n",
            "175        0.69                  0.43             1.35            10.20  0.59   \n",
            "176        0.68                  0.53             1.46             9.30  0.60   \n",
            "177        0.76                  0.56             1.35             9.20  0.61   \n",
            "\n",
            "     OD280  Proline  \n",
            "0     3.92     1065  \n",
            "1     3.40     1050  \n",
            "2     3.17     1185  \n",
            "3     3.45     1480  \n",
            "4     2.93      735  \n",
            "..     ...      ...  \n",
            "173   1.74      740  \n",
            "174   1.56      750  \n",
            "175   1.56      835  \n",
            "176   1.62      840  \n",
            "177   1.60      560  \n",
            "\n",
            "[178 rows x 13 columns]\n",
            "0      1\n",
            "1      1\n",
            "2      1\n",
            "3      1\n",
            "4      1\n",
            "      ..\n",
            "173    3\n",
            "174    3\n",
            "175    3\n",
            "176    3\n",
            "177    3\n",
            "Name: Customer_Segment, Length: 178, dtype: int64\n"
          ]
        }
      ]
    },
    {
      "cell_type": "code",
      "source": [
        "# Scale the dataset [Standardization of the data]\n",
        "def standardize(X):\n",
        "  m=X.shape[0]\n",
        "  n=X.shape[1]\n",
        "  k=0\n",
        "  for i in X.columns:\n",
        "    mean=0                                                        # for mean of each column\n",
        "    sd=0                                                          # for standard deviation of each column\n",
        "    mean = np.mean(X[i])                                          # finding mean of each column\n",
        "    sd = np.sum((X[i]-mean)**2)                          \n",
        "    sd=sd/(m)\n",
        "    sd = np.sqrt(sd)                                              # finding standard deviation of each column\n",
        "    for j in range(m):\n",
        "      cell=X.iat[j,k]\n",
        "      X.iat[j,k]=(cell-mean)/sd                                   # replacing the data in the dataset with standardized value\n",
        "    k+=1\n",
        "  return X"
      ],
      "metadata": {
        "id": "Irfd8UYnBMIC"
      },
      "execution_count": null,
      "outputs": []
    },
    {
      "cell_type": "code",
      "source": [
        "X_scaled=standardize(X) \n",
        "X_scaled.head()"
      ],
      "metadata": {
        "colab": {
          "base_uri": "https://localhost:8080/",
          "height": 270
        },
        "id": "mfMmIxpPBjwm",
        "outputId": "48ed87d9-2b2b-4242-996c-f93d25b354f4"
      },
      "execution_count": null,
      "outputs": [
        {
          "output_type": "execute_result",
          "data": {
            "text/plain": [
              "    Alcohol  Malic_Acid       Ash  Ash_Alcanity  Magnesium  Total_Phenols  \\\n",
              "0  1.518613   -0.562250  0.232053     -1.169593   1.913905       0.808997   \n",
              "1  0.246290   -0.499413 -0.827996     -2.490847   0.018145       0.568648   \n",
              "2  0.196879    0.021231  1.109334     -0.268738   0.088358       0.808997   \n",
              "3  1.691550   -0.346811  0.487926     -0.809251   0.930918       2.491446   \n",
              "4  0.295700    0.227694  1.840403      0.451946   1.281985       0.808997   \n",
              "\n",
              "   Flavanoids  Nonflavanoid_Phenols  Proanthocyanins  Color_Intensity  \\\n",
              "0    1.034819             -0.659563         1.224884         0.251717   \n",
              "1    0.733629             -0.820719        -0.544721        -0.293321   \n",
              "2    1.215533             -0.498407         2.135968         0.269020   \n",
              "3    1.466525             -0.981875         1.032155         1.186068   \n",
              "4    0.663351              0.226796         0.401404        -0.319276   \n",
              "\n",
              "        Hue     OD280   Proline  \n",
              "0  0.362177  1.847920  1.013009  \n",
              "1  0.406051  1.113449  0.965242  \n",
              "2  0.318304  0.788587  1.395148  \n",
              "3 -0.427544  1.184071  2.334574  \n",
              "4  0.362177  0.449601 -0.037874  "
            ],
            "text/html": [
              "\n",
              "  <div id=\"df-0b2f321b-908c-4a12-911b-d0801367d355\">\n",
              "    <div class=\"colab-df-container\">\n",
              "      <div>\n",
              "<style scoped>\n",
              "    .dataframe tbody tr th:only-of-type {\n",
              "        vertical-align: middle;\n",
              "    }\n",
              "\n",
              "    .dataframe tbody tr th {\n",
              "        vertical-align: top;\n",
              "    }\n",
              "\n",
              "    .dataframe thead th {\n",
              "        text-align: right;\n",
              "    }\n",
              "</style>\n",
              "<table border=\"1\" class=\"dataframe\">\n",
              "  <thead>\n",
              "    <tr style=\"text-align: right;\">\n",
              "      <th></th>\n",
              "      <th>Alcohol</th>\n",
              "      <th>Malic_Acid</th>\n",
              "      <th>Ash</th>\n",
              "      <th>Ash_Alcanity</th>\n",
              "      <th>Magnesium</th>\n",
              "      <th>Total_Phenols</th>\n",
              "      <th>Flavanoids</th>\n",
              "      <th>Nonflavanoid_Phenols</th>\n",
              "      <th>Proanthocyanins</th>\n",
              "      <th>Color_Intensity</th>\n",
              "      <th>Hue</th>\n",
              "      <th>OD280</th>\n",
              "      <th>Proline</th>\n",
              "    </tr>\n",
              "  </thead>\n",
              "  <tbody>\n",
              "    <tr>\n",
              "      <th>0</th>\n",
              "      <td>1.518613</td>\n",
              "      <td>-0.562250</td>\n",
              "      <td>0.232053</td>\n",
              "      <td>-1.169593</td>\n",
              "      <td>1.913905</td>\n",
              "      <td>0.808997</td>\n",
              "      <td>1.034819</td>\n",
              "      <td>-0.659563</td>\n",
              "      <td>1.224884</td>\n",
              "      <td>0.251717</td>\n",
              "      <td>0.362177</td>\n",
              "      <td>1.847920</td>\n",
              "      <td>1.013009</td>\n",
              "    </tr>\n",
              "    <tr>\n",
              "      <th>1</th>\n",
              "      <td>0.246290</td>\n",
              "      <td>-0.499413</td>\n",
              "      <td>-0.827996</td>\n",
              "      <td>-2.490847</td>\n",
              "      <td>0.018145</td>\n",
              "      <td>0.568648</td>\n",
              "      <td>0.733629</td>\n",
              "      <td>-0.820719</td>\n",
              "      <td>-0.544721</td>\n",
              "      <td>-0.293321</td>\n",
              "      <td>0.406051</td>\n",
              "      <td>1.113449</td>\n",
              "      <td>0.965242</td>\n",
              "    </tr>\n",
              "    <tr>\n",
              "      <th>2</th>\n",
              "      <td>0.196879</td>\n",
              "      <td>0.021231</td>\n",
              "      <td>1.109334</td>\n",
              "      <td>-0.268738</td>\n",
              "      <td>0.088358</td>\n",
              "      <td>0.808997</td>\n",
              "      <td>1.215533</td>\n",
              "      <td>-0.498407</td>\n",
              "      <td>2.135968</td>\n",
              "      <td>0.269020</td>\n",
              "      <td>0.318304</td>\n",
              "      <td>0.788587</td>\n",
              "      <td>1.395148</td>\n",
              "    </tr>\n",
              "    <tr>\n",
              "      <th>3</th>\n",
              "      <td>1.691550</td>\n",
              "      <td>-0.346811</td>\n",
              "      <td>0.487926</td>\n",
              "      <td>-0.809251</td>\n",
              "      <td>0.930918</td>\n",
              "      <td>2.491446</td>\n",
              "      <td>1.466525</td>\n",
              "      <td>-0.981875</td>\n",
              "      <td>1.032155</td>\n",
              "      <td>1.186068</td>\n",
              "      <td>-0.427544</td>\n",
              "      <td>1.184071</td>\n",
              "      <td>2.334574</td>\n",
              "    </tr>\n",
              "    <tr>\n",
              "      <th>4</th>\n",
              "      <td>0.295700</td>\n",
              "      <td>0.227694</td>\n",
              "      <td>1.840403</td>\n",
              "      <td>0.451946</td>\n",
              "      <td>1.281985</td>\n",
              "      <td>0.808997</td>\n",
              "      <td>0.663351</td>\n",
              "      <td>0.226796</td>\n",
              "      <td>0.401404</td>\n",
              "      <td>-0.319276</td>\n",
              "      <td>0.362177</td>\n",
              "      <td>0.449601</td>\n",
              "      <td>-0.037874</td>\n",
              "    </tr>\n",
              "  </tbody>\n",
              "</table>\n",
              "</div>\n",
              "      <button class=\"colab-df-convert\" onclick=\"convertToInteractive('df-0b2f321b-908c-4a12-911b-d0801367d355')\"\n",
              "              title=\"Convert this dataframe to an interactive table.\"\n",
              "              style=\"display:none;\">\n",
              "        \n",
              "  <svg xmlns=\"http://www.w3.org/2000/svg\" height=\"24px\"viewBox=\"0 0 24 24\"\n",
              "       width=\"24px\">\n",
              "    <path d=\"M0 0h24v24H0V0z\" fill=\"none\"/>\n",
              "    <path d=\"M18.56 5.44l.94 2.06.94-2.06 2.06-.94-2.06-.94-.94-2.06-.94 2.06-2.06.94zm-11 1L8.5 8.5l.94-2.06 2.06-.94-2.06-.94L8.5 2.5l-.94 2.06-2.06.94zm10 10l.94 2.06.94-2.06 2.06-.94-2.06-.94-.94-2.06-.94 2.06-2.06.94z\"/><path d=\"M17.41 7.96l-1.37-1.37c-.4-.4-.92-.59-1.43-.59-.52 0-1.04.2-1.43.59L10.3 9.45l-7.72 7.72c-.78.78-.78 2.05 0 2.83L4 21.41c.39.39.9.59 1.41.59.51 0 1.02-.2 1.41-.59l7.78-7.78 2.81-2.81c.8-.78.8-2.07 0-2.86zM5.41 20L4 18.59l7.72-7.72 1.47 1.35L5.41 20z\"/>\n",
              "  </svg>\n",
              "      </button>\n",
              "      \n",
              "  <style>\n",
              "    .colab-df-container {\n",
              "      display:flex;\n",
              "      flex-wrap:wrap;\n",
              "      gap: 12px;\n",
              "    }\n",
              "\n",
              "    .colab-df-convert {\n",
              "      background-color: #E8F0FE;\n",
              "      border: none;\n",
              "      border-radius: 50%;\n",
              "      cursor: pointer;\n",
              "      display: none;\n",
              "      fill: #1967D2;\n",
              "      height: 32px;\n",
              "      padding: 0 0 0 0;\n",
              "      width: 32px;\n",
              "    }\n",
              "\n",
              "    .colab-df-convert:hover {\n",
              "      background-color: #E2EBFA;\n",
              "      box-shadow: 0px 1px 2px rgba(60, 64, 67, 0.3), 0px 1px 3px 1px rgba(60, 64, 67, 0.15);\n",
              "      fill: #174EA6;\n",
              "    }\n",
              "\n",
              "    [theme=dark] .colab-df-convert {\n",
              "      background-color: #3B4455;\n",
              "      fill: #D2E3FC;\n",
              "    }\n",
              "\n",
              "    [theme=dark] .colab-df-convert:hover {\n",
              "      background-color: #434B5C;\n",
              "      box-shadow: 0px 1px 3px 1px rgba(0, 0, 0, 0.15);\n",
              "      filter: drop-shadow(0px 1px 2px rgba(0, 0, 0, 0.3));\n",
              "      fill: #FFFFFF;\n",
              "    }\n",
              "  </style>\n",
              "\n",
              "      <script>\n",
              "        const buttonEl =\n",
              "          document.querySelector('#df-0b2f321b-908c-4a12-911b-d0801367d355 button.colab-df-convert');\n",
              "        buttonEl.style.display =\n",
              "          google.colab.kernel.accessAllowed ? 'block' : 'none';\n",
              "\n",
              "        async function convertToInteractive(key) {\n",
              "          const element = document.querySelector('#df-0b2f321b-908c-4a12-911b-d0801367d355');\n",
              "          const dataTable =\n",
              "            await google.colab.kernel.invokeFunction('convertToInteractive',\n",
              "                                                     [key], {});\n",
              "          if (!dataTable) return;\n",
              "\n",
              "          const docLinkHtml = 'Like what you see? Visit the ' +\n",
              "            '<a target=\"_blank\" href=https://colab.research.google.com/notebooks/data_table.ipynb>data table notebook</a>'\n",
              "            + ' to learn more about interactive tables.';\n",
              "          element.innerHTML = '';\n",
              "          dataTable['output_type'] = 'display_data';\n",
              "          await google.colab.output.renderOutput(dataTable, element);\n",
              "          const docLink = document.createElement('div');\n",
              "          docLink.innerHTML = docLinkHtml;\n",
              "          element.appendChild(docLink);\n",
              "        }\n",
              "      </script>\n",
              "    </div>\n",
              "  </div>\n",
              "  "
            ]
          },
          "metadata": {},
          "execution_count": 55
        }
      ]
    },
    {
      "cell_type": "code",
      "source": [
        "from sklearn.discriminant_analysis import LinearDiscriminantAnalysis as LDA # importing libraries for LDA\n",
        "lda = LDA(n_components=2)\n",
        "X=lda.fit_transform(X,Y)\n",
        "print(X) "
      ],
      "metadata": {
        "colab": {
          "base_uri": "https://localhost:8080/"
        },
        "id": "fsowImD8DyZ1",
        "outputId": "c069a3e9-038a-44c0-a438-dd5749cb0650"
      },
      "execution_count": null,
      "outputs": [
        {
          "output_type": "stream",
          "name": "stdout",
          "text": [
            "[[-4.70024401  1.97913835]\n",
            " [-4.30195811  1.17041286]\n",
            " [-3.42071952  1.42910139]\n",
            " [-4.20575366  4.00287148]\n",
            " [-1.50998168  0.4512239 ]\n",
            " [-4.51868934  3.21313756]\n",
            " [-4.52737794  3.26912179]\n",
            " [-4.14834781  3.10411765]\n",
            " [-3.86082876  1.95338263]\n",
            " [-3.36662444  1.67864327]\n",
            " [-4.80587907  2.23536271]\n",
            " [-3.42807646  2.17510939]\n",
            " [-3.66610246  2.26248961]\n",
            " [-5.58824635  2.05478773]\n",
            " [-5.50131449  3.61304865]\n",
            " [-3.18475189  2.88952528]\n",
            " [-3.28936988  2.76584266]\n",
            " [-2.99809262  1.42511132]\n",
            " [-5.24640372  3.70982655]\n",
            " [-3.13653106  1.97689922]\n",
            " [-3.57747791  0.5624599 ]\n",
            " [-1.69077135  0.91342136]\n",
            " [-4.83515033  0.9147628 ]\n",
            " [-3.09588961  0.61735888]\n",
            " [-3.32164716  0.29847734]\n",
            " [-2.14482223  0.16369247]\n",
            " [-3.9824285   2.17515679]\n",
            " [-2.68591432  1.21850924]\n",
            " [-3.56309464  1.03817651]\n",
            " [-3.17301573  1.37789624]\n",
            " [-2.99626797  1.32419896]\n",
            " [-3.56866244  2.34065478]\n",
            " [-3.38506383  0.20123426]\n",
            " [-3.5275375   1.71592739]\n",
            " [-2.85190852  1.47070771]\n",
            " [-2.79411996  0.23793093]\n",
            " [-2.75808511  1.56970421]\n",
            " [-2.17734477  1.01036455]\n",
            " [-3.02926382 -0.23509583]\n",
            " [-3.27105228  2.6040459 ]\n",
            " [-2.92065533  0.25523343]\n",
            " [-2.23721062  0.91946116]\n",
            " [-4.69972568  2.56075339]\n",
            " [-1.23036133  0.42259515]\n",
            " [-2.58203904 -0.35029195]\n",
            " [-2.58312049  2.87686572]\n",
            " [-3.88887889  2.05160408]\n",
            " [-3.44975356  0.95183917]\n",
            " [-2.34223331  1.4325895 ]\n",
            " [-3.52062596  2.08155356]\n",
            " [-3.21840912  0.8791287 ]\n",
            " [-4.38214896  2.16471573]\n",
            " [-4.36311727  2.27182928]\n",
            " [-3.51917293  3.00737373]\n",
            " [-3.12277475  1.59356669]\n",
            " [-1.8024054   1.33006156]\n",
            " [-2.87378754  1.72989942]\n",
            " [-3.61690518  2.29115753]\n",
            " [-3.73868551  2.46011803]\n",
            " [ 1.58618749 -2.42384416]\n",
            " [ 0.79967216 -1.39406461]\n",
            " [ 2.38015446 -1.45188659]\n",
            " [-0.45917726 -1.19045365]\n",
            " [-0.50726885 -3.16662403]\n",
            " [ 0.39398359 -2.7798417 ]\n",
            " [-0.92256616 -1.38872368]\n",
            " [-1.95549377 -2.69360629]\n",
            " [-0.34732815 -2.59289903]\n",
            " [ 0.20371212  0.01962135]\n",
            " [-0.24831914 -2.7561761 ]\n",
            " [ 1.17987999 -0.90034277]\n",
            " [-1.07718925 -1.82670118]\n",
            " [ 0.64100179 -1.44531367]\n",
            " [-1.74684421 -1.78455859]\n",
            " [-0.34721117 -1.48810682]\n",
            " [ 1.14274222 -3.089249  ]\n",
            " [ 0.18665882 -2.67317096]\n",
            " [ 0.900525   -1.81942357]\n",
            " [-0.70709551 -2.12304449]\n",
            " [-0.59562833 -2.48962245]\n",
            " [-0.55761818 -4.65303778]\n",
            " [-1.80430417 -1.48714945]\n",
            " [ 0.23077079 -2.84287547]\n",
            " [ 2.03482711 -0.79032003]\n",
            " [-0.62113021 -1.69689588]\n",
            " [-1.03372742 -2.44143762]\n",
            " [ 0.76598781 -3.44641402]\n",
            " [ 0.35042568 -3.22935698]\n",
            " [ 0.15324508 -2.11287767]\n",
            " [-0.14962842 -2.9919321 ]\n",
            " [ 0.48079504 -2.54002408]\n",
            " [ 1.39689016 -2.54082291]\n",
            " [ 0.91972331 -2.24859665]\n",
            " [-0.59102937 -2.93845393]\n",
            " [ 0.49411386 -2.93631076]\n",
            " [-1.62614426 -2.02049545]\n",
            " [ 2.00044562 -0.63448464]\n",
            " [-1.00534818 -3.33112586]\n",
            " [-2.07121314 -2.7144542 ]\n",
            " [-1.6381589  -3.87739654]\n",
            " [-1.0589434  -2.99987263]\n",
            " [ 0.02594549 -2.35411388]\n",
            " [-0.21887407 -1.64289601]\n",
            " [ 1.3643764  -3.81747174]\n",
            " [-1.12901245 -2.32685245]\n",
            " [-0.21263094 -2.99677582]\n",
            " [-0.77946884 -2.47277392]\n",
            " [ 0.61546732 -2.17823987]\n",
            " [ 0.22550192 -3.79734159]\n",
            " [-2.03869851 -2.18532522]\n",
            " [ 0.79274716 -3.66157598]\n",
            " [ 0.30229545 -2.79527873]\n",
            " [-0.50664882 -1.09527341]\n",
            " [ 0.99837397 -3.44598675]\n",
            " [-0.21954922 -2.79759769]\n",
            " [-0.37131517 -6.00561031]\n",
            " [ 0.05545894 -3.4784697 ]\n",
            " [-0.09137874 -3.61977733]\n",
            " [ 1.79755252 -0.85012177]\n",
            " [-0.17405009 -2.63224971]\n",
            " [-1.17870281 -2.20519226]\n",
            " [-3.2105439  -2.90531169]\n",
            " [ 0.62605202 -1.99570866]\n",
            " [ 0.03366613 -1.38435976]\n",
            " [-0.6993008  -2.45943957]\n",
            " [-0.72061079 -3.2466652 ]\n",
            " [-0.51933512 -2.86969325]\n",
            " [ 1.17030045 -3.31947864]\n",
            " [ 0.10824791 -3.79876143]\n",
            " [ 1.12319783 -1.28784815]\n",
            " [ 2.24632419  0.18734787]\n",
            " [ 3.28527755  0.69608625]\n",
            " [ 4.07236441  0.14425752]\n",
            " [ 3.86691235  0.53503357]\n",
            " [ 3.45088333 -0.21734536]\n",
            " [ 3.71583899  0.5651013 ]\n",
            " [ 3.9222051   0.89352622]\n",
            " [ 4.8516102   0.31406852]\n",
            " [ 3.54993389  0.9159633 ]\n",
            " [ 3.76889174  0.22554113]\n",
            " [ 2.6694225   1.14109076]\n",
            " [ 2.32491492  1.9484833 ]\n",
            " [ 3.17712883  1.05985317]\n",
            " [ 2.88964418  1.15705922]\n",
            " [ 3.78325562  2.00739304]\n",
            " [ 3.04411324  0.9812437 ]\n",
            " [ 4.70697017  1.81778277]\n",
            " [ 4.85021393  2.20818213]\n",
            " [ 4.98359184  2.0349552 ]\n",
            " [ 4.86968293  1.80832861]\n",
            " [ 4.5986919   1.87224228]\n",
            " [ 5.67447884  1.82580271]\n",
            " [ 5.32986123  0.58218515]\n",
            " [ 5.03401031  2.27732076]\n",
            " [ 4.52080087 -0.0067342 ]\n",
            " [ 5.0978371   2.0016203 ]\n",
            " [ 5.04368277  2.5119033 ]\n",
            " [ 4.86980829  1.09158074]\n",
            " [ 5.61316558  2.98439332]\n",
            " [ 5.67046737  2.27306996]\n",
            " [ 5.37413513  0.76247223]\n",
            " [ 3.09975377  1.94106484]\n",
            " [ 3.35888137  0.54868961]\n",
            " [ 3.04007194  1.45698898]\n",
            " [ 4.94861303  2.18992458]\n",
            " [ 4.54504458  1.21989845]\n",
            " [ 5.27255844  2.71623061]\n",
            " [ 5.13016117  2.29172536]\n",
            " [ 4.30468082  2.39112531]\n",
            " [ 5.08336782  3.15766665]\n",
            " [ 4.06743571  0.31892192]\n",
            " [ 5.74212961  1.46708165]\n",
            " [ 4.4820514   3.30708382]\n",
            " [ 4.29150758  3.39033191]\n",
            " [ 4.50329623  2.08354592]\n",
            " [ 5.04747033  3.19623136]\n",
            " [ 4.27615505  2.43138798]\n",
            " [ 5.5380861   3.04205709]]\n"
          ]
        }
      ]
    },
    {
      "cell_type": "code",
      "source": [
        "transformed_data=pd.DataFrame({\"LDA1\":X[:,0],\"LDA2\":X[:,1],\"Customer_Segment\":Y}) # creating dataframe for transformed data\n",
        "print(transformed_data)"
      ],
      "metadata": {
        "colab": {
          "base_uri": "https://localhost:8080/"
        },
        "id": "6BZmYT4KEvtA",
        "outputId": "48e3cee0-3343-40eb-c393-34fedffe546f"
      },
      "execution_count": null,
      "outputs": [
        {
          "output_type": "stream",
          "name": "stdout",
          "text": [
            "         LDA1      LDA2  Customer_Segment\n",
            "0   -4.700244  1.979138                 1\n",
            "1   -4.301958  1.170413                 1\n",
            "2   -3.420720  1.429101                 1\n",
            "3   -4.205754  4.002871                 1\n",
            "4   -1.509982  0.451224                 1\n",
            "..        ...       ...               ...\n",
            "173  4.291508  3.390332                 3\n",
            "174  4.503296  2.083546                 3\n",
            "175  5.047470  3.196231                 3\n",
            "176  4.276155  2.431388                 3\n",
            "177  5.538086  3.042057                 3\n",
            "\n",
            "[178 rows x 3 columns]\n"
          ]
        }
      ]
    },
    {
      "cell_type": "code",
      "source": [
        "# Applying logistic regression for transformed data\n",
        "X=transformed_data.iloc[:,:-1].values  \n",
        "Y=transformed_data.iloc[:,-1].values"
      ],
      "metadata": {
        "id": "swlEBFTrFaJB"
      },
      "execution_count": null,
      "outputs": []
    },
    {
      "cell_type": "code",
      "source": [
        "# Now splitting the dataset\n",
        "from sklearn.model_selection import train_test_split\n",
        "X_train , X_test , Y_train , Y_test = train_test_split(X , Y , test_size = 0.2 , random_state = 0)"
      ],
      "metadata": {
        "id": "micRUUNlFd55"
      },
      "execution_count": null,
      "outputs": []
    },
    {
      "cell_type": "code",
      "source": [
        "#printing data\n",
        "print(\"X Train\",\"\\n\",X_train)\n",
        "print(\"Y Train\",\"\\n\",Y_train)\n",
        "print(\"X Test\",\"\\n\",X_test)\n",
        "print(\"Y Test\",\"\\n\",Y_test)"
      ],
      "metadata": {
        "colab": {
          "base_uri": "https://localhost:8080/"
        },
        "id": "MHdxAekFFjvg",
        "outputId": "6fa53875-cce7-4790-c665-dac2060406d1"
      },
      "execution_count": null,
      "outputs": [
        {
          "output_type": "stream",
          "name": "stdout",
          "text": [
            "X Train \n",
            " [[ 3.09975377  1.94106484]\n",
            " [ 0.91972331 -2.24859665]\n",
            " [ 0.49411386 -2.93631076]\n",
            " [ 4.50329623  2.08354592]\n",
            " [-3.32164716  0.29847734]\n",
            " [-2.99626797  1.32419896]\n",
            " [-0.59102937 -2.93845393]\n",
            " [ 0.02594549 -2.35411388]\n",
            " [ 0.99837397 -3.44598675]\n",
            " [-3.13653106  1.97689922]\n",
            " [ 3.71583899  0.5651013 ]\n",
            " [-0.34721117 -1.48810682]\n",
            " [ 3.78325562  2.00739304]\n",
            " [-3.28936988  2.76584266]\n",
            " [ 3.28527755  0.69608625]\n",
            " [ 3.54993389  0.9159633 ]\n",
            " [-2.92065533  0.25523343]\n",
            " [ 5.61316558  2.98439332]\n",
            " [-4.83515033  0.9147628 ]\n",
            " [ 0.22550192 -3.79734159]\n",
            " [ 5.04747033  3.19623136]\n",
            " [ 3.04411324  0.9812437 ]\n",
            " [-1.07718925 -1.82670118]\n",
            " [ 3.35888137  0.54868961]\n",
            " [ 5.04368277  2.5119033 ]\n",
            " [-2.68591432  1.21850924]\n",
            " [ 2.03482711 -0.79032003]\n",
            " [ 3.45088333 -0.21734536]\n",
            " [-1.00534818 -3.33112586]\n",
            " [ 1.79755252 -0.85012177]\n",
            " [ 3.04007194  1.45698898]\n",
            " [-0.45917726 -1.19045365]\n",
            " [-3.42071952  1.42910139]\n",
            " [ 1.58618749 -2.42384416]\n",
            " [-1.62614426 -2.02049545]\n",
            " [ 2.00044562 -0.63448464]\n",
            " [-1.23036133  0.42259515]\n",
            " [-4.80587907  2.23536271]\n",
            " [-2.03869851 -2.18532522]\n",
            " [-1.74684421 -1.78455859]\n",
            " [ 5.74212961  1.46708165]\n",
            " [ 5.67046737  2.27306996]\n",
            " [ 0.79274716 -3.66157598]\n",
            " [-0.72061079 -3.2466652 ]\n",
            " [ 0.05545894 -3.4784697 ]\n",
            " [ 5.27255844  2.71623061]\n",
            " [ 4.06743571  0.31892192]\n",
            " [-3.21840912  0.8791287 ]\n",
            " [ 5.0978371   2.0016203 ]\n",
            " [-0.14962842 -2.9919321 ]\n",
            " [ 0.39398359 -2.7798417 ]\n",
            " [ 0.62605202 -1.99570866]\n",
            " [-0.6993008  -2.45943957]\n",
            " [-0.24831914 -2.7561761 ]\n",
            " [-3.52062596  2.08155356]\n",
            " [-2.34223331  1.4325895 ]\n",
            " [-1.03372742 -2.44143762]\n",
            " [-5.58824635  2.05478773]\n",
            " [ 3.9222051   0.89352622]\n",
            " [-3.09588961  0.61735888]\n",
            " [ 4.54504458  1.21989845]\n",
            " [-3.57747791  0.5624599 ]\n",
            " [-3.18475189  2.88952528]\n",
            " [-0.70709551 -2.12304449]\n",
            " [-4.36311727  2.27182928]\n",
            " [-1.0589434  -2.99987263]\n",
            " [ 0.18665882 -2.67317096]\n",
            " [-4.20575366  4.00287148]\n",
            " [ 4.27615505  2.43138798]\n",
            " [ 0.61546732 -2.17823987]\n",
            " [-4.52737794  3.26912179]\n",
            " [ 0.20371212  0.01962135]\n",
            " [ 1.14274222 -3.089249  ]\n",
            " [-0.62113021 -1.69689588]\n",
            " [ 2.24632419  0.18734787]\n",
            " [-3.66610246  2.26248961]\n",
            " [ 4.8516102   0.31406852]\n",
            " [ 5.32986123  0.58218515]\n",
            " [-5.50131449  3.61304865]\n",
            " [-4.70024401  1.97913835]\n",
            " [ 1.39689016 -2.54082291]\n",
            " [ 5.03401031  2.27732076]\n",
            " [-3.88887889  2.05160408]\n",
            " [-3.42807646  2.17510939]\n",
            " [-0.17405009 -2.63224971]\n",
            " [-0.21887407 -1.64289601]\n",
            " [-2.79411996  0.23793093]\n",
            " [-3.61690518  2.29115753]\n",
            " [-2.23721062  0.91946116]\n",
            " [ 4.29150758  3.39033191]\n",
            " [-0.92256616 -1.38872368]\n",
            " [-4.30195811  1.17041286]\n",
            " [-1.17870281 -2.20519226]\n",
            " [ 2.88964418  1.15705922]\n",
            " [-4.69972568  2.56075339]\n",
            " [-0.21263094 -2.99677582]\n",
            " [ 4.07236441  0.14425752]\n",
            " [ 4.52080087 -0.0067342 ]\n",
            " [-2.99809262  1.42511132]\n",
            " [-3.02926382 -0.23509583]\n",
            " [ 3.86691235  0.53503357]\n",
            " [-3.51917293  3.00737373]\n",
            " [ 3.76889174  0.22554113]\n",
            " [ 0.10824791 -3.79876143]\n",
            " [-2.85190852  1.47070771]\n",
            " [-3.56309464  1.03817651]\n",
            " [-0.21954922 -2.79759769]\n",
            " [-3.56866244  2.34065478]\n",
            " [ 4.86968293  1.80832861]\n",
            " [ 1.17030045 -3.31947864]\n",
            " [ 4.86980829  1.09158074]\n",
            " [-3.38506383  0.20123426]\n",
            " [ 3.17712883  1.05985317]\n",
            " [ 4.5986919   1.87224228]\n",
            " [ 4.85021393  2.20818213]\n",
            " [-3.17301573  1.37789624]\n",
            " [-1.6381589  -3.87739654]\n",
            " [ 0.23077079 -2.84287547]\n",
            " [-0.59562833 -2.48962245]\n",
            " [-0.37131517 -6.00561031]\n",
            " [ 4.98359184  2.0349552 ]\n",
            " [ 5.5380861   3.04205709]\n",
            " [ 0.64100179 -1.44531367]\n",
            " [ 0.900525   -1.81942357]\n",
            " [-2.14482223  0.16369247]\n",
            " [-1.80430417 -1.48714945]\n",
            " [ 5.13016117  2.29172536]\n",
            " [ 5.08336782  3.15766665]\n",
            " [-3.27105228  2.6040459 ]\n",
            " [-3.73868551  2.46011803]\n",
            " [ 2.6694225   1.14109076]\n",
            " [ 0.15324508 -2.11287767]\n",
            " [ 1.17987999 -0.90034277]\n",
            " [ 0.35042568 -3.22935698]\n",
            " [-2.75808511  1.56970421]\n",
            " [-1.69077135  0.91342136]\n",
            " [-3.36662444  1.67864327]\n",
            " [ 1.3643764  -3.81747174]\n",
            " [-0.34732815 -2.59289903]\n",
            " [-0.09137874 -3.61977733]\n",
            " [-3.44975356  0.95183917]\n",
            " [ 4.4820514   3.30708382]]\n",
            "Y Train \n",
            " [3 2 2 3 1 1 2 2 2 1 3 2 3 1 3 3 1 3 1 2 3 3 2 3 3 1 2 3 2 2 3 2 1 2 2 2 1\n",
            " 1 2 2 3 3 2 2 2 3 3 1 3 2 2 2 2 2 1 1 2 1 3 1 3 1 1 2 1 2 2 1 3 2 1 2 2 2\n",
            " 3 1 3 3 1 1 2 3 1 1 2 2 1 1 1 3 2 1 2 3 1 2 3 3 1 1 3 1 3 2 1 1 2 1 3 2 3\n",
            " 1 3 3 3 1 2 2 2 2 3 3 2 2 1 2 3 3 1 1 3 2 2 2 1 1 1 2 2 2 1 3]\n",
            "X Test \n",
            " [[-3.12277475  1.59356669]\n",
            " [ 5.67447884  1.82580271]\n",
            " [-0.50726885 -3.16662403]\n",
            " [-1.8024054   1.33006156]\n",
            " [ 0.03366613 -1.38435976]\n",
            " [-3.2105439  -2.90531169]\n",
            " [-4.14834781  3.10411765]\n",
            " [ 5.37413513  0.76247223]\n",
            " [-0.77946884 -2.47277392]\n",
            " [ 0.48079504 -2.54002408]\n",
            " [ 2.32491492  1.9484833 ]\n",
            " [ 4.70697017  1.81778277]\n",
            " [-4.51868934  3.21313756]\n",
            " [-2.07121314 -2.7144542 ]\n",
            " [ 4.30468082  2.39112531]\n",
            " [-0.55761818 -4.65303778]\n",
            " [-3.5275375   1.71592739]\n",
            " [-5.24640372  3.70982655]\n",
            " [ 2.38015446 -1.45188659]\n",
            " [-4.38214896  2.16471573]\n",
            " [-1.95549377 -2.69360629]\n",
            " [-2.17734477  1.01036455]\n",
            " [-1.50998168  0.4512239 ]\n",
            " [-1.12901245 -2.32685245]\n",
            " [ 0.79967216 -1.39406461]\n",
            " [ 0.30229545 -2.79527873]\n",
            " [-0.51933512 -2.86969325]\n",
            " [ 0.76598781 -3.44641402]\n",
            " [-0.50664882 -1.09527341]\n",
            " [ 4.94861303  2.18992458]\n",
            " [-3.9824285   2.17515679]\n",
            " [-2.87378754  1.72989942]\n",
            " [ 1.12319783 -1.28784815]\n",
            " [-2.58312049  2.87686572]\n",
            " [-3.86082876  1.95338263]\n",
            " [-2.58203904 -0.35029195]]\n",
            "Y Test \n",
            " [1 3 2 1 2 2 1 3 2 2 3 3 1 2 3 2 1 1 2 1 2 1 1 2 2 2 2 2 2 3 1 1 2 1 1 1]\n"
          ]
        }
      ]
    },
    {
      "cell_type": "code",
      "source": [
        "# Feature Scaling\n",
        "from sklearn.preprocessing import StandardScaler\n",
        "sc = StandardScaler()\n",
        "X_train=sc.fit_transform(X_train)\n",
        "X_test=sc.fit_transform(X_test)"
      ],
      "metadata": {
        "id": "VZ6I6NdbFlun"
      },
      "execution_count": null,
      "outputs": []
    },
    {
      "cell_type": "code",
      "source": [
        "# Training the Logistic Regression with the Training Data\n",
        "from sklearn.linear_model import LogisticRegression\n",
        "classifier = LogisticRegression(random_state = 0)\n",
        "classifier.fit(X_train,Y_train)"
      ],
      "metadata": {
        "colab": {
          "base_uri": "https://localhost:8080/"
        },
        "id": "rrRp2K4gFow-",
        "outputId": "888cbbae-14aa-47ec-9979-cabb6d20e271"
      },
      "execution_count": null,
      "outputs": [
        {
          "output_type": "execute_result",
          "data": {
            "text/plain": [
              "LogisticRegression(random_state=0)"
            ]
          },
          "metadata": {},
          "execution_count": 62
        }
      ]
    },
    {
      "cell_type": "code",
      "source": [
        "# predicting the test data\n",
        "Y_pred=classifier.predict(X_test)\n",
        "print(np.concatenate((Y_pred.reshape(len(Y_pred),1),Y_test.reshape(len(Y_test),1)),1))"
      ],
      "metadata": {
        "colab": {
          "base_uri": "https://localhost:8080/"
        },
        "id": "-gTeJHhbFqzh",
        "outputId": "43c7e62b-6eb3-4b38-ddd7-10ad106cc123"
      },
      "execution_count": null,
      "outputs": [
        {
          "output_type": "stream",
          "name": "stdout",
          "text": [
            "[[1 1]\n",
            " [3 3]\n",
            " [2 2]\n",
            " [1 1]\n",
            " [2 2]\n",
            " [2 2]\n",
            " [1 1]\n",
            " [3 3]\n",
            " [2 2]\n",
            " [2 2]\n",
            " [3 3]\n",
            " [3 3]\n",
            " [1 1]\n",
            " [2 2]\n",
            " [3 3]\n",
            " [2 2]\n",
            " [1 1]\n",
            " [1 1]\n",
            " [2 2]\n",
            " [1 1]\n",
            " [2 2]\n",
            " [1 1]\n",
            " [1 1]\n",
            " [2 2]\n",
            " [2 2]\n",
            " [2 2]\n",
            " [2 2]\n",
            " [2 2]\n",
            " [2 2]\n",
            " [3 3]\n",
            " [1 1]\n",
            " [1 1]\n",
            " [2 2]\n",
            " [1 1]\n",
            " [1 1]\n",
            " [1 1]]\n"
          ]
        }
      ]
    },
    {
      "cell_type": "code",
      "source": [
        "# Making the Confusion Matrix and Accuracy Score\n",
        "from sklearn.metrics import confusion_matrix,accuracy_score\n",
        "cm=confusion_matrix(Y_test,Y_pred)\n",
        "print(\"Confusion Matrix\",\"\\n\",cm)\n",
        "print(\"Accuracy : \",accuracy_score(Y_test,Y_pred))"
      ],
      "metadata": {
        "colab": {
          "base_uri": "https://localhost:8080/"
        },
        "id": "47EB8aUiFs6C",
        "outputId": "3ceab36b-3a5d-4e69-cf70-992055d61127"
      },
      "execution_count": null,
      "outputs": [
        {
          "output_type": "stream",
          "name": "stdout",
          "text": [
            "Confusion Matrix \n",
            " [[14  0  0]\n",
            " [ 0 16  0]\n",
            " [ 0  0  6]]\n",
            "Accuracy :  1.0\n"
          ]
        }
      ]
    },
    {
      "cell_type": "markdown",
      "source": [
        "\n",
        "\n",
        "---\n",
        "\n"
      ],
      "metadata": {
        "id": "mZfOZ8RwJYIO"
      }
    }
  ]
}