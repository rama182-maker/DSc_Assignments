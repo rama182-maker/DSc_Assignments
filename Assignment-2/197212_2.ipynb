{
  "nbformat": 4,
  "nbformat_minor": 0,
  "metadata": {
    "colab": {
      "name": "197212_2",
      "provenance": [],
      "collapsed_sections": []
    },
    "kernelspec": {
      "name": "python3",
      "display_name": "Python 3"
    },
    "language_info": {
      "name": "python"
    }
  },
  "cells": [
    {
      "cell_type": "markdown",
      "source": [
        "**QUESTION-1**"
      ],
      "metadata": {
        "id": "PcYj4JkweFNQ"
      }
    },
    {
      "cell_type": "code",
      "execution_count": null,
      "metadata": {
        "id": "-WgoOKTWIvr2",
        "colab": {
          "base_uri": "https://localhost:8080/"
        },
        "outputId": "ab9117bc-f831-4007-bf48-8f8a24c6c0a5"
      },
      "outputs": [
        {
          "output_type": "stream",
          "name": "stdout",
          "text": [
            "[2, 3.14, 'hello', 'c', {8, 2, 4, 6}, {'bye': 4}]\n"
          ]
        }
      ],
      "source": [
        "# 197212 RAMAKRISHNA\n",
        "# Question-1\n",
        "\n",
        "# list with different data types\n",
        "list = [2,3.14,\"hello\",'c',set({2,4,6,8}),{\"bye\":4}]\n",
        "print(list)"
      ]
    },
    {
      "cell_type": "markdown",
      "source": [
        "**1-a**"
      ],
      "metadata": {
        "id": "g262M8YDeLK8"
      }
    },
    {
      "cell_type": "code",
      "source": [
        "# 197212 RAMAKRISHNA\n",
        "# Question-1 \n",
        "# a\n",
        "# length of list\n",
        "len(list)"
      ],
      "metadata": {
        "colab": {
          "base_uri": "https://localhost:8080/"
        },
        "id": "Os4gGNoDP3EY",
        "outputId": "c5aa2477-e0c9-41d2-e1f8-309f79398a54"
      },
      "execution_count": null,
      "outputs": [
        {
          "output_type": "execute_result",
          "data": {
            "text/plain": [
              "6"
            ]
          },
          "metadata": {},
          "execution_count": 43
        }
      ]
    },
    {
      "cell_type": "markdown",
      "source": [
        "**1-b**"
      ],
      "metadata": {
        "id": "sbDskNYSeNuB"
      }
    },
    {
      "cell_type": "code",
      "source": [
        "# 197212 RAMAKRISHNA\n",
        "# Question-1 \n",
        "# b\n",
        "print(list[-1]) # list(6)\n",
        "\n",
        "print(list[-3]) # list(4)\n",
        "\n",
        "#list[-i] -> list[n-i] where n=len(list)"
      ],
      "metadata": {
        "colab": {
          "base_uri": "https://localhost:8080/"
        },
        "id": "FIncepUOQSkT",
        "outputId": "796d55c0-04a7-48dc-aa0c-00a54cf3743a"
      },
      "execution_count": null,
      "outputs": [
        {
          "output_type": "stream",
          "name": "stdout",
          "text": [
            "{'bye': 4}\n",
            "c\n"
          ]
        }
      ]
    },
    {
      "cell_type": "markdown",
      "source": [
        "**1-c**"
      ],
      "metadata": {
        "id": "mjUN06bfeRSa"
      }
    },
    {
      "cell_type": "code",
      "source": [
        "# 197212 RAMAKRISHNA\n",
        "# Question-1 \n",
        "# c\n",
        "list.append('new element') # adding new elememt of data type string\n",
        "print(list)"
      ],
      "metadata": {
        "colab": {
          "base_uri": "https://localhost:8080/"
        },
        "id": "KGeKkSDVRMe1",
        "outputId": "5860626d-a1ae-4182-a540-de544894694a"
      },
      "execution_count": null,
      "outputs": [
        {
          "output_type": "stream",
          "name": "stdout",
          "text": [
            "[2, 3.14, 'hello', 'c', {8, 2, 4, 6}, {'bye': 4}, 'new element']\n"
          ]
        }
      ]
    },
    {
      "cell_type": "markdown",
      "source": [
        "**1-d**"
      ],
      "metadata": {
        "id": "jR5Ygs-UeUIc"
      }
    },
    {
      "cell_type": "code",
      "source": [
        "# 197212 RAMAKRISHNA\n",
        "# Question-1 \n",
        "# d\n",
        "list.extend([\"adding several items to the list\",2.094,365,'k'])\n",
        "print(list)"
      ],
      "metadata": {
        "colab": {
          "base_uri": "https://localhost:8080/"
        },
        "id": "PSUV15MKS08D",
        "outputId": "c2574ce8-ebff-4861-dfb6-3f27e6aced53"
      },
      "execution_count": null,
      "outputs": [
        {
          "output_type": "stream",
          "name": "stdout",
          "text": [
            "[2, 3.14, 'hello', 'c', {8, 2, 4, 6}, {'bye': 4}, 'new element', 'adding several items to the list', 2.094, 365, 'k']\n"
          ]
        }
      ]
    },
    {
      "cell_type": "markdown",
      "source": [
        "**1-e**"
      ],
      "metadata": {
        "id": "dTkNP765eWQ7"
      }
    },
    {
      "cell_type": "code",
      "source": [
        "# 197212 RAMAKRISHNA\n",
        "# Question-1 \n",
        "# e\n",
        "list.append([\"This is nested list\",8.124,9]) #adding list (becomes nested list)\n",
        "print(list)"
      ],
      "metadata": {
        "colab": {
          "base_uri": "https://localhost:8080/"
        },
        "id": "s0RxGyHGThQB",
        "outputId": "f500f644-ece3-4d58-f488-a75074c4debd"
      },
      "execution_count": null,
      "outputs": [
        {
          "output_type": "stream",
          "name": "stdout",
          "text": [
            "[2, 3.14, 'hello', 'c', {8, 2, 4, 6}, {'bye': 4}, 'new element', 'adding several items to the list', 2.094, 365, 'k', ['This is nested list', 8.124, 9]]\n"
          ]
        }
      ]
    },
    {
      "cell_type": "markdown",
      "source": [
        "**1-f**"
      ],
      "metadata": {
        "id": "3Q0DVw_0eYwR"
      }
    },
    {
      "cell_type": "code",
      "source": [
        "# 197212 RAMAKRISHNA\n",
        "# Question-1 \n",
        "# f\n",
        "print(list.index(3.14))               # getting index of float 3.14\n",
        "print(list.index(\"new element\"))      # getting index of string \"new element\"\n",
        "print(list.index({8,2,4,6}))          # getting index of set {8,2,4,6}"
      ],
      "metadata": {
        "colab": {
          "base_uri": "https://localhost:8080/"
        },
        "id": "SnwhDuCTT8gg",
        "outputId": "8ee0e27a-4578-485b-8ef1-27d281ae6d66"
      },
      "execution_count": null,
      "outputs": [
        {
          "output_type": "stream",
          "name": "stdout",
          "text": [
            "1\n",
            "6\n",
            "4\n"
          ]
        }
      ]
    },
    {
      "cell_type": "markdown",
      "source": [
        "**1-g**"
      ],
      "metadata": {
        "id": "buh7_JelecmH"
      }
    },
    {
      "cell_type": "code",
      "source": [
        "# 197212 RAMAKRISHNA\n",
        "# Question-1 \n",
        "# g\n",
        "list.insert(3,\"insert at index 3\")    # inserting string at index 3\n",
        "print(list)"
      ],
      "metadata": {
        "colab": {
          "base_uri": "https://localhost:8080/"
        },
        "id": "HdL2-QkaUtyf",
        "outputId": "41a3c582-1f13-4c9f-f0a3-b43d7c80514c"
      },
      "execution_count": null,
      "outputs": [
        {
          "output_type": "stream",
          "name": "stdout",
          "text": [
            "[2, 3.14, 'hello', 'insert at index 3', 'c', {8, 2, 4, 6}, {'bye': 4}, 'new element', 'adding several items to the list', 2.094, 365, 'k', ['This is nested list', 8.124, 9]]\n"
          ]
        }
      ]
    },
    {
      "cell_type": "markdown",
      "source": [
        "**1-h**"
      ],
      "metadata": {
        "id": "b_WkqWp6ee1W"
      }
    },
    {
      "cell_type": "code",
      "source": [
        "# 197212 RAMAKRISHNA\n",
        "# Question-1 \n",
        "# h\n",
        "list[4]='A'   #we can change or update any value directly by accessing the index\n",
        "print(list)"
      ],
      "metadata": {
        "colab": {
          "base_uri": "https://localhost:8080/"
        },
        "id": "cY6NZjafU-8-",
        "outputId": "5ca2ef64-c814-4fa3-862e-625de14c9a9d"
      },
      "execution_count": null,
      "outputs": [
        {
          "output_type": "stream",
          "name": "stdout",
          "text": [
            "[2, 3.14, 'hello', 'insert at index 3', 'A', {8, 2, 4, 6}, {'bye': 4}, 'new element', 'adding several items to the list', 2.094, 365, 'k', ['This is nested list', 8.124, 9]]\n"
          ]
        }
      ]
    },
    {
      "cell_type": "markdown",
      "source": [
        "**1-i**"
      ],
      "metadata": {
        "id": "x0Zo4y5oeh4Z"
      }
    },
    {
      "cell_type": "code",
      "source": [
        "# 197212 RAMAKRISHNA\n",
        "# Question-1 \n",
        "# i\n",
        "\n",
        "# adding duplicate values 'A'\n",
        "list.append('A')\n",
        "list.append('A')\n",
        "list.append('A')\n",
        "print(list)"
      ],
      "metadata": {
        "colab": {
          "base_uri": "https://localhost:8080/"
        },
        "id": "8eXL9u3fVUmb",
        "outputId": "79a4ff81-293c-4d04-ea3c-6d1c49066946"
      },
      "execution_count": null,
      "outputs": [
        {
          "output_type": "stream",
          "name": "stdout",
          "text": [
            "[2, 3.14, 'hello', 'insert at index 3', 'A', {8, 2, 4, 6}, {'bye': 4}, 'new element', 'adding several items to the list', 2.094, 365, 'k', ['This is nested list', 8.124, 9], 'A', 'A', 'A']\n"
          ]
        }
      ]
    },
    {
      "cell_type": "markdown",
      "source": [
        "**1-j**"
      ],
      "metadata": {
        "id": "isohqBrVekZE"
      }
    },
    {
      "cell_type": "code",
      "source": [
        "# 197212 RAMAKRISHNA\n",
        "# Question-1 \n",
        "# j\n",
        "list.pop(0)  # removing 1st element"
      ],
      "metadata": {
        "colab": {
          "base_uri": "https://localhost:8080/"
        },
        "id": "_PYe8lZWVt3H",
        "outputId": "103c1864-9912-4750-cf54-b2f614b3fc8c"
      },
      "execution_count": null,
      "outputs": [
        {
          "output_type": "execute_result",
          "data": {
            "text/plain": [
              "2"
            ]
          },
          "metadata": {},
          "execution_count": 52
        }
      ]
    },
    {
      "cell_type": "code",
      "source": [
        "print(list)"
      ],
      "metadata": {
        "colab": {
          "base_uri": "https://localhost:8080/"
        },
        "id": "4jVnlVQcWEL_",
        "outputId": "973d33c5-653a-42db-f176-a67c67341325"
      },
      "execution_count": null,
      "outputs": [
        {
          "output_type": "stream",
          "name": "stdout",
          "text": [
            "[3.14, 'hello', 'insert at index 3', 'A', {8, 2, 4, 6}, {'bye': 4}, 'new element', 'adding several items to the list', 2.094, 365, 'k', ['This is nested list', 8.124, 9], 'A', 'A', 'A']\n"
          ]
        }
      ]
    },
    {
      "cell_type": "markdown",
      "source": [
        "**1-k**"
      ],
      "metadata": {
        "id": "MKq98IwveqNe"
      }
    },
    {
      "cell_type": "code",
      "source": [
        "# 197212 RAMAKRISHNA\n",
        "# Question-1 \n",
        "# k\n",
        "\n",
        "# As we cannot sort between different data types we cannot use sort for the list created above.\n",
        "# to show sort function using real numbers as elements of list\n",
        "\n",
        "num_list = [1,4,8,3,2,4.5,6.7,1.9]\n",
        "num_list.sort()\n",
        "print(num_list)"
      ],
      "metadata": {
        "colab": {
          "base_uri": "https://localhost:8080/"
        },
        "id": "akIMj8VtW3L3",
        "outputId": "3019c34b-97ad-48e3-b39f-b7b837d824d0"
      },
      "execution_count": null,
      "outputs": [
        {
          "output_type": "stream",
          "name": "stdout",
          "text": [
            "[1, 1.9, 2, 3, 4, 4.5, 6.7, 8]\n"
          ]
        }
      ]
    },
    {
      "cell_type": "markdown",
      "source": [
        "**1-l**"
      ],
      "metadata": {
        "id": "l62Xjthxe1g7"
      }
    },
    {
      "cell_type": "code",
      "source": [
        "# 197212 RAMAKRISHNA\n",
        "# Question-1 \n",
        "# l\n",
        "\n",
        "list.reverse()   #reversing the list\n",
        "print(list)"
      ],
      "metadata": {
        "colab": {
          "base_uri": "https://localhost:8080/"
        },
        "id": "QUEHt9wtXW6m",
        "outputId": "cdd5d20f-1c17-4bc3-fce3-0cd14e73ac1a"
      },
      "execution_count": null,
      "outputs": [
        {
          "output_type": "stream",
          "name": "stdout",
          "text": [
            "['A', 'A', 'A', ['This is nested list', 8.124, 9], 'k', 365, 2.094, 'adding several items to the list', 'new element', {'bye': 4}, {8, 2, 4, 6}, 'A', 'insert at index 3', 'hello', 3.14]\n"
          ]
        }
      ]
    },
    {
      "cell_type": "markdown",
      "source": [
        "****************************************************************************************"
      ],
      "metadata": {
        "id": "1rtgpo2Fe4sD"
      }
    },
    {
      "cell_type": "markdown",
      "source": [
        "**QUESTION-2**\n"
      ],
      "metadata": {
        "id": "e44Rg-BnXr3u"
      }
    },
    {
      "cell_type": "code",
      "source": [
        "# 197212 RAMAKRISHNA\n",
        "# Question-2\n",
        "\n",
        "T = (1,2,2,1.4,\"string\",[4,9,16],{\"key\":2})   # Tuple T is created\n",
        "print(T)"
      ],
      "metadata": {
        "colab": {
          "base_uri": "https://localhost:8080/"
        },
        "id": "ms-VBD2PX2ZH",
        "outputId": "571a96e2-5ccd-4626-e062-60abd627a74c"
      },
      "execution_count": null,
      "outputs": [
        {
          "output_type": "stream",
          "name": "stdout",
          "text": [
            "(1, 2, 2, 1.4, 'string', [4, 9, 16], {'key': 2})\n"
          ]
        }
      ]
    },
    {
      "cell_type": "code",
      "source": [
        "print(T.count(2))            # this returns number of times 2 occured\n",
        "print(T.count(\"string\"))     # this returns number of times sting \"string\" occured"
      ],
      "metadata": {
        "colab": {
          "base_uri": "https://localhost:8080/"
        },
        "id": "U48yHz0UYQJG",
        "outputId": "a73f5390-1938-4939-b62c-e891f7a8843c"
      },
      "execution_count": null,
      "outputs": [
        {
          "output_type": "stream",
          "name": "stdout",
          "text": [
            "2\n",
            "1\n"
          ]
        }
      ]
    },
    {
      "cell_type": "code",
      "source": [
        "print(T.index(1.4))            # this returns index of float 1.4\n",
        "print(T.index(1))              # this returns index of integer 1\n",
        "print(T.index([4,9,16]))       # this returns index of list [4,9,16]\n",
        "print(T.index({\"key\":2}))      # this returns index of dictionary {\"key\":2}"
      ],
      "metadata": {
        "colab": {
          "base_uri": "https://localhost:8080/"
        },
        "id": "cmwprTYmYlAH",
        "outputId": "9e4fb56e-1a09-43ac-f888-f8d901752061"
      },
      "execution_count": null,
      "outputs": [
        {
          "output_type": "stream",
          "name": "stdout",
          "text": [
            "3\n",
            "0\n",
            "5\n",
            "6\n"
          ]
        }
      ]
    },
    {
      "cell_type": "markdown",
      "source": [
        "****************************************************************************************"
      ],
      "metadata": {
        "id": "Q-RPdgISfClp"
      }
    },
    {
      "cell_type": "markdown",
      "source": [
        "**QUESTION-3**"
      ],
      "metadata": {
        "id": "uhK4b2IBZdFN"
      }
    },
    {
      "cell_type": "code",
      "source": [
        "# 197212 RAMAKRISHNA\n",
        "# Question-3\n",
        "\n",
        "S1={1,2,3,4,5,6,7.3}       # set S1 is created\n",
        "S2={5,6,7,8,9}             # set S1 is created\n",
        "print(\"S1 : \",S1)\n",
        "print(\"S2 : \",S2)\n"
      ],
      "metadata": {
        "colab": {
          "base_uri": "https://localhost:8080/"
        },
        "id": "Xt2nxeLtZgS6",
        "outputId": "28bab252-933e-4816-921a-d8e39a18720f"
      },
      "execution_count": null,
      "outputs": [
        {
          "output_type": "stream",
          "name": "stdout",
          "text": [
            "S1 :  {1, 2, 3, 4, 5, 6, 7.3}\n",
            "S2 :  {5, 6, 7, 8, 9}\n"
          ]
        }
      ]
    },
    {
      "cell_type": "markdown",
      "source": [
        "**3-a**"
      ],
      "metadata": {
        "id": "wDvFdz8ndR0I"
      }
    },
    {
      "cell_type": "code",
      "source": [
        "# 197212 RAMAKRISHNA\n",
        "# Question-3\n",
        "# a\n",
        "\n",
        "S1.union(S2)       # returns set which is union of S1 and S2 "
      ],
      "metadata": {
        "colab": {
          "base_uri": "https://localhost:8080/"
        },
        "id": "984SAZpQZ_WM",
        "outputId": "87c8dcb8-b38c-4b45-b6bb-d2759e9a4e42"
      },
      "execution_count": null,
      "outputs": [
        {
          "output_type": "execute_result",
          "data": {
            "text/plain": [
              "{1, 2, 3, 4, 5, 6, 7, 7.3, 8, 9}"
            ]
          },
          "metadata": {},
          "execution_count": 61
        }
      ]
    },
    {
      "cell_type": "code",
      "source": [
        "# 197212 RAMAKRISHNA\n",
        "# Question-3\n",
        "# a\n",
        "\n",
        "S1.intersection(S2)       # returns set which is intersection of S1 and S2 "
      ],
      "metadata": {
        "colab": {
          "base_uri": "https://localhost:8080/"
        },
        "id": "-Hgr67WYajY9",
        "outputId": "4128bb09-0df2-443f-8af5-8bebe1339ce5"
      },
      "execution_count": null,
      "outputs": [
        {
          "output_type": "execute_result",
          "data": {
            "text/plain": [
              "{5, 6}"
            ]
          },
          "metadata": {},
          "execution_count": 62
        }
      ]
    },
    {
      "cell_type": "markdown",
      "source": [
        "**3-b**"
      ],
      "metadata": {
        "id": "F1tuer79de6r"
      }
    },
    {
      "cell_type": "code",
      "source": [
        "# 197212 RAMAKRISHNA\n",
        "# Question-3\n",
        "# b\n",
        "\n",
        "S1.add(10)    # adding element 10 to set S1\n",
        "S1.add(2.4)   # adding element 2.4 to set S1\n",
        "S1.add(1.0)   # adding element 1.0 to set S1 it will be not added since 1 is already present in S1\n",
        "S2.add(10)    # adding element 10 to set S2\n",
        "S2.add(8.9)   # adding element 8.9 to set S2\n",
        "\n",
        "print(\"S1 : \",S1)\n",
        "print(\"S2 : \",S2)\n"
      ],
      "metadata": {
        "colab": {
          "base_uri": "https://localhost:8080/"
        },
        "id": "U1Wloc2zaq3W",
        "outputId": "bc6102ca-0ce6-4dd4-becc-ee6b74b7bdc4"
      },
      "execution_count": null,
      "outputs": [
        {
          "output_type": "stream",
          "name": "stdout",
          "text": [
            "S1 :  {1, 2, 3, 4, 5, 6, 7.3, 2.4, 10}\n",
            "S2 :  {5, 6, 7, 8, 9, 10, 8.9}\n"
          ]
        }
      ]
    },
    {
      "cell_type": "code",
      "source": [
        "S1.update(S2)            # adding all elements that are present in S2 to S1\n",
        "S1.update([100,121.56])  # adding multiple elements at once by storing them in list and using here"
      ],
      "metadata": {
        "id": "c4ltaR_wblPU"
      },
      "execution_count": null,
      "outputs": []
    },
    {
      "cell_type": "code",
      "source": [
        "print(S1)\n",
        "print(S2)"
      ],
      "metadata": {
        "colab": {
          "base_uri": "https://localhost:8080/"
        },
        "id": "fVhlcRS_cC6C",
        "outputId": "f4ea03fe-2f52-4ec7-daef-adbf4976081a"
      },
      "execution_count": null,
      "outputs": [
        {
          "output_type": "stream",
          "name": "stdout",
          "text": [
            "{1, 2, 3, 4, 5, 6, 7.3, 2.4, 7, 10, 8, 9, 8.9, 100, 121.56}\n",
            "{5, 6, 7, 8, 9, 10, 8.9}\n"
          ]
        }
      ]
    },
    {
      "cell_type": "markdown",
      "source": [
        "**3-c**"
      ],
      "metadata": {
        "id": "jN9iMkHNdjbO"
      }
    },
    {
      "cell_type": "code",
      "source": [
        "# 197212 RAMAKRISHNA\n",
        "# Question-3\n",
        "# c\n",
        "\n",
        "print(S1-S2)      # performing S1-S2 operation (removing elements of S2 from S1)\n"
      ],
      "metadata": {
        "colab": {
          "base_uri": "https://localhost:8080/"
        },
        "id": "QdY-PZo6cYPO",
        "outputId": "edc14e08-e497-4f81-bfc0-029a38d744d5"
      },
      "execution_count": null,
      "outputs": [
        {
          "output_type": "stream",
          "name": "stdout",
          "text": [
            "{1, 2, 3, 4, 2.4, 100, 7.3, 121.56}\n"
          ]
        }
      ]
    },
    {
      "cell_type": "markdown",
      "source": [
        "**3-d**"
      ],
      "metadata": {
        "id": "7-TGhqFMdzzJ"
      }
    },
    {
      "cell_type": "code",
      "source": [
        "# 197212 RAMAKRISHNA\n",
        "# Question-3\n",
        "# d\n",
        "\n",
        "S1.symmetric_difference(S2)     # performing symmetric difference between S1 and S2\n",
        "# equivalent operatiion : (S1 union S2) - (S1 intersection S2)"
      ],
      "metadata": {
        "colab": {
          "base_uri": "https://localhost:8080/"
        },
        "id": "NfJ6WLvnct48",
        "outputId": "d196287f-d8fc-46a6-a966-80195311ff09"
      },
      "execution_count": null,
      "outputs": [
        {
          "output_type": "execute_result",
          "data": {
            "text/plain": [
              "{1, 2, 2.4, 3, 4, 7.3, 100, 121.56}"
            ]
          },
          "metadata": {},
          "execution_count": 67
        }
      ]
    }
  ]
}